{
 "cells": [
  {
   "cell_type": "code",
   "execution_count": 2,
   "metadata": {},
   "outputs": [],
   "source": [
    "# импорт библиотек\n",
    "import numpy as np "
   ]
  },
  {
   "cell_type": "code",
   "execution_count": 6,
   "metadata": {},
   "outputs": [],
   "source": [
    "def score_game(game_core):\n",
    "    '''Запускаем игру 1000 раз, чтобы узнать, как быстро игра угадывает число'''\n",
    "    count_ls = []\n",
    "    np.random.seed(1)  # фиксируем RANDOM SEED\n",
    "    random_array = np.random.randint(1,101, size=(1000))\n",
    "    for number in random_array:\n",
    "        count_ls.append(game_core(number))\n",
    "    score = int(np.mean(count_ls))\n",
    "    print(f\"Ваш алгоритм угадывает число в среднем за {score} попыток\")\n",
    "    return(score)"
   ]
  },
  {
   "cell_type": "markdown",
   "metadata": {},
   "source": [
    " Решение"
   ]
  },
  {
   "cell_type": "code",
   "execution_count": 9,
   "metadata": {},
   "outputs": [],
   "source": [
    "def game_core_v3(number):\n",
    "    '''Эта программа позволяет угадывать число методом деления области рассматриваемых числел пополам n раз,\n",
    "       пока число не будет угадано. Переменные max_num и min_num позволяют в каждом последующем цикле \n",
    "       сужать диапазон чисел вокруг искомого.'''\n",
    "    count = 1     # счетчик попыток\n",
    "    predict = 50  # начальное значение\n",
    "    max_num = 101 # верхная граница\n",
    "    min_num = 0   # нижняя граница\n",
    "    while number != predict:\n",
    "        count+=1\n",
    "        if number > predict:\n",
    "            # если предсказанное число меньше искомого, сужаем диапазон\n",
    "            min_num = predict\n",
    "            # и для следующего предсказания берем число, стоящее посередине диапазона\n",
    "            predict = predict + ((max_num-min_num) // 2)\n",
    "        elif number < predict:\n",
    "            # если предсказанное число больше искомого, сужаем диапазон\n",
    "            max_num = predict\n",
    "            # и для следующего предсказания берем число, стоящее посередине диапазона\n",
    "            predict = predict - ((max_num-min_num) // 2 )\n",
    "    return(count)"
   ]
  },
  {
   "cell_type": "code",
   "execution_count": 10,
   "metadata": {},
   "outputs": [
    {
     "name": "stdout",
     "output_type": "stream",
     "text": [
      "Ваш алгоритм угадывает число в среднем за 5 попыток\n"
     ]
    },
    {
     "data": {
      "text/plain": [
       "5"
      ]
     },
     "execution_count": 10,
     "metadata": {},
     "output_type": "execute_result"
    }
   ],
   "source": [
    "score_game(game_core_v3) # проверяем наш алгоритм на 1000 попыток"
   ]
  }
 ],
 "metadata": {
  "kernelspec": {
   "display_name": "Python 3",
   "language": "python",
   "name": "python3"
  },
  "language_info": {
   "codemirror_mode": {
    "name": "ipython",
    "version": 3
   },
   "file_extension": ".py",
   "mimetype": "text/x-python",
   "name": "python",
   "nbconvert_exporter": "python",
   "pygments_lexer": "ipython3",
   "version": "3.8.3"
  }
 },
 "nbformat": 4,
 "nbformat_minor": 4
}
