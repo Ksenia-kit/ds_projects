{
 "cells": [
  {
   "cell_type": "code",
   "execution_count": 277,
   "metadata": {
    "_cell_guid": "b1076dfc-b9ad-4769-8c92-a6c4dae69d19",
    "_uuid": "8f2839f25d086af736a60e9eeb907d3b93b6e0e5",
    "colab": {},
    "colab_type": "code",
    "id": "U2D2gTdJVp90"
   },
   "outputs": [],
   "source": [
    "import numpy as np\n",
    "import pandas as pd\n",
    "import seaborn as sns\n",
    "import matplotlib.pyplot as plt\n",
    "from collections import Counter"
   ]
  },
  {
   "cell_type": "code",
   "execution_count": 278,
   "metadata": {},
   "outputs": [],
   "source": [
    "def get_key(count, value):\n",
    "    '''Функция предназначена для возвращения ключей по конктретному значению (value) в словарях'''\n",
    "    keys = []\n",
    "    for k, v in count.items():\n",
    "        if v == value:\n",
    "            keys.append(k)\n",
    "    return keys"
   ]
  },
  {
   "cell_type": "code",
   "execution_count": 279,
   "metadata": {},
   "outputs": [],
   "source": [
    "def month(dat):\n",
    "    '''Функция ищет определенный символ в слове и возвращяет все символы, которые были до него'''\n",
    "    sym = \"/\"\n",
    "    index = dat.find(sym)\n",
    "    return dat[:index]"
   ]
  },
  {
   "cell_type": "code",
   "execution_count": 280,
   "metadata": {
    "_cell_guid": "79c7e3d0-c299-4dcb-8224-4455121ee9b0",
    "_uuid": "d629ff2d2480ee46fbb7e2d37f6b5fab8052498a",
    "colab": {},
    "colab_type": "code",
    "id": "oyGfxL3eVp9-"
   },
   "outputs": [
    {
     "data": {
      "text/html": [
       "<div>\n",
       "<style scoped>\n",
       "    .dataframe tbody tr th:only-of-type {\n",
       "        vertical-align: middle;\n",
       "    }\n",
       "\n",
       "    .dataframe tbody tr th {\n",
       "        vertical-align: top;\n",
       "    }\n",
       "\n",
       "    .dataframe thead th {\n",
       "        text-align: right;\n",
       "    }\n",
       "</style>\n",
       "<table border=\"1\" class=\"dataframe\">\n",
       "  <thead>\n",
       "    <tr style=\"text-align: right;\">\n",
       "      <th></th>\n",
       "      <th>imdb_id</th>\n",
       "      <th>budget</th>\n",
       "      <th>revenue</th>\n",
       "      <th>original_title</th>\n",
       "      <th>cast</th>\n",
       "      <th>director</th>\n",
       "      <th>tagline</th>\n",
       "      <th>overview</th>\n",
       "      <th>runtime</th>\n",
       "      <th>genres</th>\n",
       "      <th>production_companies</th>\n",
       "      <th>release_date</th>\n",
       "      <th>vote_average</th>\n",
       "      <th>release_year</th>\n",
       "    </tr>\n",
       "  </thead>\n",
       "  <tbody>\n",
       "    <tr>\n",
       "      <th>197</th>\n",
       "      <td>tt2369135</td>\n",
       "      <td>66000000</td>\n",
       "      <td>203277636</td>\n",
       "      <td>Need for Speed</td>\n",
       "      <td>Aaron Paul|Dominic Cooper|Imogen Poots|Rami Ma...</td>\n",
       "      <td>Scott Waugh</td>\n",
       "      <td>For honor. For love. For redemption.</td>\n",
       "      <td>The film revolves around a local street-racer ...</td>\n",
       "      <td>130</td>\n",
       "      <td>Action|Crime|Drama|Thriller</td>\n",
       "      <td>DreamWorks SKG|Reliance Entertainment|Bandito ...</td>\n",
       "      <td>3/13/2014</td>\n",
       "      <td>6.2</td>\n",
       "      <td>2014</td>\n",
       "    </tr>\n",
       "    <tr>\n",
       "      <th>1820</th>\n",
       "      <td>tt0212338</td>\n",
       "      <td>55000000</td>\n",
       "      <td>330444045</td>\n",
       "      <td>Meet the Parents</td>\n",
       "      <td>Ben Stiller|Robert De Niro|Teri Polo|Blythe Da...</td>\n",
       "      <td>Jay Roach</td>\n",
       "      <td>First comes love. Then come the interrogation.</td>\n",
       "      <td>Greg Focker is ready to marry his girlfriend, ...</td>\n",
       "      <td>108</td>\n",
       "      <td>Comedy|Romance</td>\n",
       "      <td>DreamWorks SKG|Universal Pictures|Tribeca Prod...</td>\n",
       "      <td>10/5/2000</td>\n",
       "      <td>6.5</td>\n",
       "      <td>2000</td>\n",
       "    </tr>\n",
       "    <tr>\n",
       "      <th>565</th>\n",
       "      <td>tt0236784</td>\n",
       "      <td>21000000</td>\n",
       "      <td>28008462</td>\n",
       "      <td>The Tailor of Panama</td>\n",
       "      <td>Pierce Brosnan|Geoffrey Rush|Jamie Lee Curtis|...</td>\n",
       "      <td>John Boorman</td>\n",
       "      <td>In a place this treacherous, what a good spy n...</td>\n",
       "      <td>A British spy is banished to Panama after havi...</td>\n",
       "      <td>109</td>\n",
       "      <td>Drama|Thriller</td>\n",
       "      <td>Columbia Pictures|Merlin Films</td>\n",
       "      <td>2/11/2001</td>\n",
       "      <td>5.7</td>\n",
       "      <td>2001</td>\n",
       "    </tr>\n",
       "    <tr>\n",
       "      <th>223</th>\n",
       "      <td>tt1441395</td>\n",
       "      <td>13300000</td>\n",
       "      <td>5380251</td>\n",
       "      <td>Under the Skin</td>\n",
       "      <td>Scarlett Johansson|KryÅ¡tof HÃ¡dek|Paul Branni...</td>\n",
       "      <td>Jonathan Glazer</td>\n",
       "      <td>A mysterious seductress preys upon the populat...</td>\n",
       "      <td>Jonathan Glazer's atmospheric, visually arrest...</td>\n",
       "      <td>108</td>\n",
       "      <td>Thriller|Science Fiction|Drama</td>\n",
       "      <td>Scottish Screen|UK Film Council|FilmNation Ent...</td>\n",
       "      <td>3/14/2014</td>\n",
       "      <td>6.0</td>\n",
       "      <td>2014</td>\n",
       "    </tr>\n",
       "    <tr>\n",
       "      <th>1826</th>\n",
       "      <td>tt0186151</td>\n",
       "      <td>31000000</td>\n",
       "      <td>68106245</td>\n",
       "      <td>Frequency</td>\n",
       "      <td>Dennis Quaid|Jim Caviezel|Andre Braugher|Eliza...</td>\n",
       "      <td>Gregory Hoblit</td>\n",
       "      <td>The future is listening.</td>\n",
       "      <td>When a rare phenomenon gives police officer Jo...</td>\n",
       "      <td>118</td>\n",
       "      <td>Crime|Drama|Science Fiction|Thriller</td>\n",
       "      <td>New Line Cinema</td>\n",
       "      <td>4/28/2000</td>\n",
       "      <td>6.8</td>\n",
       "      <td>2000</td>\n",
       "    </tr>\n",
       "  </tbody>\n",
       "</table>\n",
       "</div>"
      ],
      "text/plain": [
       "        imdb_id    budget    revenue        original_title  \\\n",
       "197   tt2369135  66000000  203277636        Need for Speed   \n",
       "1820  tt0212338  55000000  330444045      Meet the Parents   \n",
       "565   tt0236784  21000000   28008462  The Tailor of Panama   \n",
       "223   tt1441395  13300000    5380251        Under the Skin   \n",
       "1826  tt0186151  31000000   68106245             Frequency   \n",
       "\n",
       "                                                   cast         director  \\\n",
       "197   Aaron Paul|Dominic Cooper|Imogen Poots|Rami Ma...      Scott Waugh   \n",
       "1820  Ben Stiller|Robert De Niro|Teri Polo|Blythe Da...        Jay Roach   \n",
       "565   Pierce Brosnan|Geoffrey Rush|Jamie Lee Curtis|...     John Boorman   \n",
       "223   Scarlett Johansson|KryÅ¡tof HÃ¡dek|Paul Branni...  Jonathan Glazer   \n",
       "1826  Dennis Quaid|Jim Caviezel|Andre Braugher|Eliza...   Gregory Hoblit   \n",
       "\n",
       "                                                tagline  \\\n",
       "197                For honor. For love. For redemption.   \n",
       "1820     First comes love. Then come the interrogation.   \n",
       "565   In a place this treacherous, what a good spy n...   \n",
       "223   A mysterious seductress preys upon the populat...   \n",
       "1826                           The future is listening.   \n",
       "\n",
       "                                               overview  runtime  \\\n",
       "197   The film revolves around a local street-racer ...      130   \n",
       "1820  Greg Focker is ready to marry his girlfriend, ...      108   \n",
       "565   A British spy is banished to Panama after havi...      109   \n",
       "223   Jonathan Glazer's atmospheric, visually arrest...      108   \n",
       "1826  When a rare phenomenon gives police officer Jo...      118   \n",
       "\n",
       "                                    genres  \\\n",
       "197            Action|Crime|Drama|Thriller   \n",
       "1820                        Comedy|Romance   \n",
       "565                         Drama|Thriller   \n",
       "223         Thriller|Science Fiction|Drama   \n",
       "1826  Crime|Drama|Science Fiction|Thriller   \n",
       "\n",
       "                                   production_companies release_date  \\\n",
       "197   DreamWorks SKG|Reliance Entertainment|Bandito ...    3/13/2014   \n",
       "1820  DreamWorks SKG|Universal Pictures|Tribeca Prod...    10/5/2000   \n",
       "565                      Columbia Pictures|Merlin Films    2/11/2001   \n",
       "223   Scottish Screen|UK Film Council|FilmNation Ent...    3/14/2014   \n",
       "1826                                    New Line Cinema    4/28/2000   \n",
       "\n",
       "      vote_average  release_year  \n",
       "197            6.2          2014  \n",
       "1820           6.5          2000  \n",
       "565            5.7          2001  \n",
       "223            6.0          2014  \n",
       "1826           6.8          2000  "
      ]
     },
     "execution_count": 280,
     "metadata": {},
     "output_type": "execute_result"
    }
   ],
   "source": [
    "data = pd.read_csv('movie_bd_v5.xls')\n",
    "data.sample(5)"
   ]
  },
  {
   "cell_type": "code",
   "execution_count": 281,
   "metadata": {
    "colab": {},
    "colab_type": "code",
    "id": "CoYUnagMVp-C"
   },
   "outputs": [
    {
     "data": {
      "text/html": [
       "<div>\n",
       "<style scoped>\n",
       "    .dataframe tbody tr th:only-of-type {\n",
       "        vertical-align: middle;\n",
       "    }\n",
       "\n",
       "    .dataframe tbody tr th {\n",
       "        vertical-align: top;\n",
       "    }\n",
       "\n",
       "    .dataframe thead th {\n",
       "        text-align: right;\n",
       "    }\n",
       "</style>\n",
       "<table border=\"1\" class=\"dataframe\">\n",
       "  <thead>\n",
       "    <tr style=\"text-align: right;\">\n",
       "      <th></th>\n",
       "      <th>budget</th>\n",
       "      <th>revenue</th>\n",
       "      <th>runtime</th>\n",
       "      <th>vote_average</th>\n",
       "      <th>release_year</th>\n",
       "    </tr>\n",
       "  </thead>\n",
       "  <tbody>\n",
       "    <tr>\n",
       "      <th>count</th>\n",
       "      <td>1.889000e+03</td>\n",
       "      <td>1.889000e+03</td>\n",
       "      <td>1889.000000</td>\n",
       "      <td>1889.000000</td>\n",
       "      <td>1889.000000</td>\n",
       "    </tr>\n",
       "    <tr>\n",
       "      <th>mean</th>\n",
       "      <td>5.431083e+07</td>\n",
       "      <td>1.553653e+08</td>\n",
       "      <td>109.658549</td>\n",
       "      <td>6.140762</td>\n",
       "      <td>2007.860773</td>\n",
       "    </tr>\n",
       "    <tr>\n",
       "      <th>std</th>\n",
       "      <td>4.858721e+07</td>\n",
       "      <td>2.146698e+08</td>\n",
       "      <td>18.017041</td>\n",
       "      <td>0.764763</td>\n",
       "      <td>4.468841</td>\n",
       "    </tr>\n",
       "    <tr>\n",
       "      <th>min</th>\n",
       "      <td>5.000000e+06</td>\n",
       "      <td>2.033165e+06</td>\n",
       "      <td>63.000000</td>\n",
       "      <td>3.300000</td>\n",
       "      <td>2000.000000</td>\n",
       "    </tr>\n",
       "    <tr>\n",
       "      <th>25%</th>\n",
       "      <td>2.000000e+07</td>\n",
       "      <td>3.456058e+07</td>\n",
       "      <td>97.000000</td>\n",
       "      <td>5.600000</td>\n",
       "      <td>2004.000000</td>\n",
       "    </tr>\n",
       "    <tr>\n",
       "      <th>50%</th>\n",
       "      <td>3.800000e+07</td>\n",
       "      <td>8.361541e+07</td>\n",
       "      <td>107.000000</td>\n",
       "      <td>6.100000</td>\n",
       "      <td>2008.000000</td>\n",
       "    </tr>\n",
       "    <tr>\n",
       "      <th>75%</th>\n",
       "      <td>7.200000e+07</td>\n",
       "      <td>1.782626e+08</td>\n",
       "      <td>120.000000</td>\n",
       "      <td>6.600000</td>\n",
       "      <td>2012.000000</td>\n",
       "    </tr>\n",
       "    <tr>\n",
       "      <th>max</th>\n",
       "      <td>3.800000e+08</td>\n",
       "      <td>2.781506e+09</td>\n",
       "      <td>214.000000</td>\n",
       "      <td>8.100000</td>\n",
       "      <td>2015.000000</td>\n",
       "    </tr>\n",
       "  </tbody>\n",
       "</table>\n",
       "</div>"
      ],
      "text/plain": [
       "             budget       revenue      runtime  vote_average  release_year\n",
       "count  1.889000e+03  1.889000e+03  1889.000000   1889.000000   1889.000000\n",
       "mean   5.431083e+07  1.553653e+08   109.658549      6.140762   2007.860773\n",
       "std    4.858721e+07  2.146698e+08    18.017041      0.764763      4.468841\n",
       "min    5.000000e+06  2.033165e+06    63.000000      3.300000   2000.000000\n",
       "25%    2.000000e+07  3.456058e+07    97.000000      5.600000   2004.000000\n",
       "50%    3.800000e+07  8.361541e+07   107.000000      6.100000   2008.000000\n",
       "75%    7.200000e+07  1.782626e+08   120.000000      6.600000   2012.000000\n",
       "max    3.800000e+08  2.781506e+09   214.000000      8.100000   2015.000000"
      ]
     },
     "execution_count": 281,
     "metadata": {},
     "output_type": "execute_result"
    }
   ],
   "source": [
    "data.describe()"
   ]
  },
  {
   "cell_type": "markdown",
   "metadata": {
    "colab_type": "text",
    "id": "DTIt7ezGVp-G"
   },
   "source": [
    "# Предобработка"
   ]
  },
  {
   "cell_type": "code",
   "execution_count": 282,
   "metadata": {
    "colab": {},
    "colab_type": "code",
    "id": "jNb40DwKVp-H"
   },
   "outputs": [],
   "source": [
    "answers = {} # создадим словарь для ответов\n",
    "\n",
    "# тут другие ваши предобработки колонок например:\n",
    "\n",
    "#the time given in the dataset is in string format.\n",
    "#So we need to change this in datetime format\n",
    "# ..."
   ]
  },
  {
   "cell_type": "markdown",
   "metadata": {
    "colab_type": "text",
    "id": "YxZaH-nPVp-L"
   },
   "source": [
    "# 1. У какого фильма из списка самый большой бюджет?"
   ]
  },
  {
   "cell_type": "code",
   "execution_count": 283,
   "metadata": {
    "colab": {},
    "colab_type": "code",
    "id": "uVnXAY5RVp-O"
   },
   "outputs": [],
   "source": [
    "answers['1'] = '723. Pirates of the Caribbean: On Stranger Tides(tt1298650)'"
   ]
  },
  {
   "cell_type": "code",
   "execution_count": 284,
   "metadata": {
    "colab": {},
    "colab_type": "code",
    "id": "dZwb3m28Vp-S"
   },
   "outputs": [
    {
     "data": {
      "text/plain": [
       "723    Pirates of the Caribbean: On Stranger Tides\n",
       "Name: original_title, dtype: object"
      ]
     },
     "execution_count": 284,
     "metadata": {},
     "output_type": "execute_result"
    }
   ],
   "source": [
    "data[data.budget == data.budget.max()].original_title #Извлекаем из data данные по условию"
   ]
  },
  {
   "cell_type": "markdown",
   "metadata": {
    "colab_type": "text",
    "id": "FNRbbI3vVp-c"
   },
   "source": [
    "# 2. Какой из фильмов самый длительный (в минутах)?"
   ]
  },
  {
   "cell_type": "code",
   "execution_count": 285,
   "metadata": {
    "colab": {},
    "colab_type": "code",
    "id": "vHAoEXNTVp-d"
   },
   "outputs": [],
   "source": [
    "answers['2'] = '1157. Gods and Generals(tt0279111)'"
   ]
  },
  {
   "cell_type": "code",
   "execution_count": 286,
   "metadata": {
    "colab": {},
    "colab_type": "code",
    "id": "ot-VX2XrVp-g"
   },
   "outputs": [
    {
     "data": {
      "text/plain": [
       "1157    Gods and Generals\n",
       "Name: original_title, dtype: object"
      ]
     },
     "execution_count": 286,
     "metadata": {},
     "output_type": "execute_result"
    }
   ],
   "source": [
    "#Извлекаем из data данные по условию, используюя метод 'Максимум'\n",
    "data[data.runtime == data.runtime.max()].original_title "
   ]
  },
  {
   "cell_type": "markdown",
   "metadata": {
    "colab_type": "text",
    "id": "bapLlpW8Vp-k"
   },
   "source": [
    "# 3. Какой из фильмов самый короткий (в минутах)?\n",
    "\n",
    "\n",
    "\n"
   ]
  },
  {
   "cell_type": "code",
   "execution_count": 287,
   "metadata": {
    "colab": {},
    "colab_type": "code",
    "id": "YBxaSHuAVp-l"
   },
   "outputs": [],
   "source": [
    "answers['3'] = '768. Winnie the Pooh(tt1449283)'"
   ]
  },
  {
   "cell_type": "code",
   "execution_count": 288,
   "metadata": {},
   "outputs": [
    {
     "data": {
      "text/plain": [
       "768    Winnie the Pooh\n",
       "Name: original_title, dtype: object"
      ]
     },
     "execution_count": 288,
     "metadata": {},
     "output_type": "execute_result"
    }
   ],
   "source": [
    "#Извлекаем из data данные по условию, используюя метод 'Минимум'\n",
    "data[data.runtime == data.runtime.min()].original_title"
   ]
  },
  {
   "cell_type": "markdown",
   "metadata": {
    "colab_type": "text",
    "id": "TfQbxbfNVp-p"
   },
   "source": [
    "# 4. Какова средняя длительность фильмов?\n"
   ]
  },
  {
   "cell_type": "code",
   "execution_count": 289,
   "metadata": {
    "colab": {},
    "colab_type": "code",
    "id": "5K6dKZYVVp-q"
   },
   "outputs": [],
   "source": [
    "answers['4'] = '110'"
   ]
  },
  {
   "cell_type": "code",
   "execution_count": 290,
   "metadata": {},
   "outputs": [
    {
     "data": {
      "text/plain": [
       "109.6585494970884"
      ]
     },
     "execution_count": 290,
     "metadata": {},
     "output_type": "execute_result"
    }
   ],
   "source": [
    "data[\"runtime\"].mean() #Используем метод 'Среднее значение' от колонки \"runtime\""
   ]
  },
  {
   "cell_type": "markdown",
   "metadata": {
    "colab_type": "text",
    "id": "r5TvbnT_Vp-u"
   },
   "source": [
    "# 5. Каково медианное значение длительности фильмов? "
   ]
  },
  {
   "cell_type": "code",
   "execution_count": 291,
   "metadata": {
    "colab": {},
    "colab_type": "code",
    "id": "iBROplKnVp-v"
   },
   "outputs": [],
   "source": [
    "answers['5'] = '107'"
   ]
  },
  {
   "cell_type": "code",
   "execution_count": 292,
   "metadata": {},
   "outputs": [
    {
     "data": {
      "text/plain": [
       "107.0"
      ]
     },
     "execution_count": 292,
     "metadata": {},
     "output_type": "execute_result"
    }
   ],
   "source": [
    "data[\"runtime\"].median() #Используем метод 'Медиана' от колонки \"runtime\""
   ]
  },
  {
   "cell_type": "markdown",
   "metadata": {
    "colab_type": "text",
    "id": "39P-deDSVp-y"
   },
   "source": [
    "# 6. Какой самый прибыльный фильм?\n",
    "#### Внимание! Здесь и далее под «прибылью» или «убытками» понимается разность между сборами и бюджетом фильма. (прибыль = сборы - бюджет) в нашем датасете это будет (profit = revenue - budget) "
   ]
  },
  {
   "cell_type": "code",
   "execution_count": 293,
   "metadata": {
    "colab": {},
    "colab_type": "code",
    "id": "UYZh4T9WVp-y"
   },
   "outputs": [],
   "source": [
    "answers['6'] = '239. Avatar(tt0499549)'"
   ]
  },
  {
   "cell_type": "code",
   "execution_count": 294,
   "metadata": {},
   "outputs": [
    {
     "data": {
      "text/plain": [
       "239    Avatar\n",
       "Name: original_title, dtype: object"
      ]
     },
     "execution_count": 294,
     "metadata": {},
     "output_type": "execute_result"
    }
   ],
   "source": [
    "data[\"profit\"] = data[\"revenue\"] - data[\"budget\"] #Создаем новую колонку \"profit\"\n",
    "data[data.profit == data.profit.max()].original_title #Извлекаем из data данные по условию"
   ]
  },
  {
   "cell_type": "markdown",
   "metadata": {
    "colab_type": "text",
    "id": "M99JmIX4Vp-2"
   },
   "source": [
    "# 7. Какой фильм самый убыточный? "
   ]
  },
  {
   "cell_type": "code",
   "execution_count": 295,
   "metadata": {
    "colab": {},
    "colab_type": "code",
    "id": "w-D2m4XPVp-3"
   },
   "outputs": [],
   "source": [
    "answers['7'] = '1245. The Lone Ranger (tt1210819)'"
   ]
  },
  {
   "cell_type": "code",
   "execution_count": 296,
   "metadata": {},
   "outputs": [
    {
     "data": {
      "text/plain": [
       "1245    The Lone Ranger\n",
       "Name: original_title, dtype: object"
      ]
     },
     "execution_count": 296,
     "metadata": {},
     "output_type": "execute_result"
    }
   ],
   "source": [
    "data[data.profit == data.profit.min()].original_title #Извлекаем из data данные по условию"
   ]
  },
  {
   "cell_type": "markdown",
   "metadata": {
    "colab_type": "text",
    "id": "wEOM5ERVVp-6"
   },
   "source": [
    "# 8. У скольких фильмов из датасета объем сборов оказался выше бюджета?"
   ]
  },
  {
   "cell_type": "code",
   "execution_count": 297,
   "metadata": {
    "colab": {},
    "colab_type": "code",
    "id": "y00_7HD6Vp-7"
   },
   "outputs": [],
   "source": [
    "answers['8'] = '1478'"
   ]
  },
  {
   "cell_type": "code",
   "execution_count": 298,
   "metadata": {},
   "outputs": [
    {
     "data": {
      "text/plain": [
       "1478"
      ]
     },
     "execution_count": 298,
     "metadata": {},
     "output_type": "execute_result"
    }
   ],
   "source": [
    "#Используем условие: прибыль больше нуля, и используем метод \"Количество непустых элементов\"\n",
    "data[data.profit > 0].imdb_id.count() "
   ]
  },
  {
   "cell_type": "markdown",
   "metadata": {
    "colab_type": "text",
    "id": "xhpspA9KVp_A"
   },
   "source": [
    "# 9. Какой фильм оказался самым кассовым в 2008 году?"
   ]
  },
  {
   "cell_type": "code",
   "execution_count": 299,
   "metadata": {
    "colab": {},
    "colab_type": "code",
    "id": "MoUyQr9RVp_B"
   },
   "outputs": [],
   "source": [
    "answers['9'] = 'The Dark Knight (tt0468569)'"
   ]
  },
  {
   "cell_type": "code",
   "execution_count": 300,
   "metadata": {},
   "outputs": [
    {
     "data": {
      "text/plain": [
       "'The Dark Knight'"
      ]
     },
     "execution_count": 300,
     "metadata": {},
     "output_type": "execute_result"
    }
   ],
   "source": [
    "#Задаем конкретный год и используем функцию сортировки (по убыванию) для прибыли\n",
    "profits = data[(data.release_year == 2008)].profit.sort_values(ascending=False)\n",
    "index = profits.index[0] #Создаем переменную для хранения индекса первого элемента\n",
    "data.loc[index]['original_title'] #Выводим нужный фильм по индексу"
   ]
  },
  {
   "cell_type": "markdown",
   "metadata": {
    "colab_type": "text",
    "id": "Zi4hDKidVp_F"
   },
   "source": [
    "# 10. Самый убыточный фильм за период с 2012 по 2014 г. (включительно)?\n"
   ]
  },
  {
   "cell_type": "code",
   "execution_count": 301,
   "metadata": {
    "colab": {},
    "colab_type": "code",
    "id": "XqyRmufJVp_F"
   },
   "outputs": [],
   "source": [
    "answers['10'] = 'The Lone Ranger(tt1210819)'"
   ]
  },
  {
   "cell_type": "code",
   "execution_count": 302,
   "metadata": {},
   "outputs": [
    {
     "data": {
      "text/plain": [
       "'The Lone Ranger'"
      ]
     },
     "execution_count": 302,
     "metadata": {},
     "output_type": "execute_result"
    }
   ],
   "source": [
    "#Задаем период времени и используем  функцию сортировки (по возрастанию) для прибыли\n",
    "profits = data.query(\"2012 <= release_year <= 2014\").profit.sort_values()\n",
    "index = profits.index[0] #Создаем переменную для хранения индекса первого элемента\n",
    "data.loc[index][\"original_title\"] #Выводим нужный фильм по индексу"
   ]
  },
  {
   "cell_type": "markdown",
   "metadata": {
    "colab_type": "text",
    "id": "EA7Sa9dkVp_I"
   },
   "source": [
    "# 11. Какого жанра фильмов больше всего?"
   ]
  },
  {
   "cell_type": "code",
   "execution_count": 303,
   "metadata": {
    "colab": {},
    "colab_type": "code",
    "id": "zsJAwJ8QVp_J"
   },
   "outputs": [],
   "source": [
    "answers['11'] = 'Drama'"
   ]
  },
  {
   "cell_type": "code",
   "execution_count": 304,
   "metadata": {},
   "outputs": [
    {
     "data": {
      "text/plain": [
       "'Drama'"
      ]
     },
     "execution_count": 304,
     "metadata": {},
     "output_type": "execute_result"
    }
   ],
   "source": [
    "#Создаем Series, содержащий суммарное количество каждого жанра в data \n",
    "#(жанры повторяются, т.к. в файле присутствует группировка)\n",
    "genres = data.genres.value_counts().sort_values(ascending=False)\n",
    "genres = pd.Series(genres.index, genres.loc[:]) #Меняем местами элементы и индексы\n",
    "genres = genres.apply(lambda x: x.split(\"|\")) #Разделяем сгруппированные жарны, каждый элемент находится в списке\n",
    "count = Counter() #Создаем переменную (Модуль collections)\n",
    "\n",
    "for i in range(len(genres)): #Проходимся по всем спискам жанров \n",
    "    for genre in genres.iloc[i]: #Проходимя по жанрам в конкретном списке\n",
    "        count[genre] += genres.index[i] #Считаем количество каждого отдельного жанра\n",
    "\n",
    "genres_sum = pd.Series(count) #Создаем Series от переменной count\n",
    "genres_sum.sort_values(ascending = False).index[0] #Сортируем элементы по убыванию и выбираем первый"
   ]
  },
  {
   "cell_type": "markdown",
   "metadata": {
    "colab_type": "text",
    "id": "T9_bPWpkVp_Q"
   },
   "source": [
    "# 12. Фильмы какого жанра чаще всего становятся прибыльными? "
   ]
  },
  {
   "cell_type": "code",
   "execution_count": 305,
   "metadata": {},
   "outputs": [],
   "source": [
    "answers['12'] = 'Drama'"
   ]
  },
  {
   "cell_type": "code",
   "execution_count": 306,
   "metadata": {
    "colab": {},
    "colab_type": "code",
    "id": "Tmt8MaK1Vp_R"
   },
   "outputs": [
    {
     "name": "stdout",
     "output_type": "stream",
     "text": [
      "['Drama']\n"
     ]
    }
   ],
   "source": [
    "#Создаем новый DataFrame с колонками 'genres' и 'profit'\n",
    "new_genres = data.loc[:, ['genres', 'profit']]\n",
    "#Разделяем сгруппированные жарны, каждый элемент находится в списке\n",
    "new_genres[\"genres\"] = new_genres['genres'].apply(lambda x: x.split(\"|\"))\n",
    "count = Counter() #Создаем переменную для счета прибыльных жанров кино\n",
    "\n",
    "for i in range(len(new_genres['genres'])): #Проходимся по всем спискам жанров \n",
    "    for genre in new_genres['genres'][i]: #Проходимя по жанрам в конкретном списке\n",
    "        if new_genres['profit'][i] > 0: #Учет прибыльности жанра\n",
    "            count[genre] += 1 #Счеткик жанров\n",
    "\n",
    "#Переменная для хранения максимального значения элемента в count\n",
    "max_profit = max(count.values())\n",
    "print(get_key(count, max_profit))"
   ]
  },
  {
   "cell_type": "markdown",
   "metadata": {
    "colab_type": "text",
    "id": "0F23bgsDVp_U"
   },
   "source": [
    "# 13. У какого режиссера самые большие суммарные кассовые сборы?"
   ]
  },
  {
   "cell_type": "code",
   "execution_count": 307,
   "metadata": {
    "colab": {},
    "colab_type": "code",
    "id": "K6Z3J8ygVp_X"
   },
   "outputs": [],
   "source": [
    "answers['13'] = 'Peter Jackson'"
   ]
  },
  {
   "cell_type": "code",
   "execution_count": 308,
   "metadata": {},
   "outputs": [
    {
     "name": "stdout",
     "output_type": "stream",
     "text": [
      "['Peter Jackson']\n"
     ]
    }
   ],
   "source": [
    "#Создаем новый DataFrame с колонками 'revenue' и 'director'\n",
    "directors = data.loc[:, ['revenue', 'director']]\n",
    "#Разделяем сгруппированные имена директоров, каждый элемент находится в списке\n",
    "directors[\"director\"] = directors['director'].apply(lambda x: x.split(\"|\"))\n",
    "count = Counter() #Создаем переменную для счета кассовых сборов от каждого директора\n",
    "\n",
    "for i in range(len(directors['director'])): #Проходимся по всем спискам имен\n",
    "    for name in directors['director'][i]: #Проходимя по именам в конкретном списке\n",
    "        count[name] += directors['revenue'][i] #Счеткик кассовых сборов\n",
    "        \n",
    "max_revenue = max(count.values())\n",
    "print(get_key(count, max_revenue))"
   ]
  },
  {
   "cell_type": "markdown",
   "metadata": {
    "colab_type": "text",
    "id": "PsYC9FgRVp_a"
   },
   "source": [
    "# 14. Какой режисер снял больше всего фильмов в стиле Action?"
   ]
  },
  {
   "cell_type": "code",
   "execution_count": 309,
   "metadata": {
    "colab": {},
    "colab_type": "code",
    "id": "wd2M-wHeVp_b"
   },
   "outputs": [],
   "source": [
    "answers['14'] = 'Robert Rodriguez'"
   ]
  },
  {
   "cell_type": "code",
   "execution_count": 310,
   "metadata": {},
   "outputs": [
    {
     "name": "stdout",
     "output_type": "stream",
     "text": [
      "['Robert Rodriguez']\n"
     ]
    }
   ],
   "source": [
    "#Создаем новый DataFrame с колонками 'genres' и 'director'\n",
    "directors_df = data.loc[:, ['genres', 'director']]\n",
    "#Разделяем сгруппированные имена директоров, каждый элемент находится в списке\n",
    "directors_df[\"genres\"] = directors_df['genres'].apply(lambda x: x.split(\"|\"))\n",
    "count = Counter()\n",
    "directors = []\n",
    "sym = \"|\"\n",
    "\n",
    "for i in range(len(directors_df['genres'])): #Проходимся по всем спискам жанров\n",
    "    for genre in directors_df['genres'][i]: #Проходимя по жанрам в конкретном списке\n",
    "        if genre == \"Action\": #Создаем условие для конкретного жанра\n",
    "            directors.append(directors_df['director'][i]) #Добавляем в список имена режиссеров\n",
    "\n",
    "directors_sep = Counter()\n",
    "for names in directors: #Проходимся по именам режиссеров в списке (имена сгруппированы) \n",
    "    if sym in names: #Создаем условие для поиска нескольких режиссеров, работающих над одним фильмом\n",
    "        #Разделяем сгруппированных режиссеров \n",
    "        for name in names.split(sym): \n",
    "            directors_sep[name] += 1 \n",
    "    else: #Если у фильма один режиссер\n",
    "        directors_sep[names] += 1\n",
    "        \n",
    "num = max(directors_sep.values())\n",
    "print(get_key(directors_sep, num))"
   ]
  },
  {
   "cell_type": "markdown",
   "metadata": {
    "colab_type": "text",
    "id": "PQ0KciD7Vp_f"
   },
   "source": [
    "# 15. Фильмы с каким актером принесли самые высокие кассовые сборы в 2012 году? "
   ]
  },
  {
   "cell_type": "code",
   "execution_count": 311,
   "metadata": {
    "colab": {},
    "colab_type": "code",
    "id": "aga62oeKVp_g"
   },
   "outputs": [],
   "source": [
    "answers['15'] = 'Chris Hemsworth'"
   ]
  },
  {
   "cell_type": "code",
   "execution_count": 312,
   "metadata": {},
   "outputs": [
    {
     "name": "stdout",
     "output_type": "stream",
     "text": [
      "['Chris Hemsworth']\n"
     ]
    }
   ],
   "source": [
    "#Создаем новый DataFrame с колонками 'revenue', 'cast' и \"release_year\"\n",
    "cast_df = data.loc[:, ['revenue', 'cast', \"release_year\"]]\n",
    "#Разделяем сгруппированные имена актеров, каждый элемент находится в списке\n",
    "cast_df[\"cast\"] = cast_df['cast'].apply(lambda x: x.split(\"|\"))\n",
    "count = Counter()\n",
    "\n",
    "for i in range(len(cast_df['cast'])): #Проходимся по всем спискам актеров\n",
    "    for actor in cast_df['cast'][i]: #Проходимя по именам актеров в конкретном списке\n",
    "        if cast_df['release_year'][i] == 2012: #Создаем условие для конкретного года\n",
    "            count[actor] += cast_df['revenue'][i]  #Считаем кассовые сборы для каждого актера\n",
    "\n",
    "revenue = max(count.values())        \n",
    "print(get_key(count, revenue))"
   ]
  },
  {
   "cell_type": "markdown",
   "metadata": {
    "colab_type": "text",
    "id": "mWHyyL7QVp_j"
   },
   "source": [
    "# 16. Какой актер снялся в большем количестве высокобюджетных фильмов?"
   ]
  },
  {
   "cell_type": "code",
   "execution_count": 313,
   "metadata": {
    "colab": {},
    "colab_type": "code",
    "id": "qQtmHKTFVp_k"
   },
   "outputs": [],
   "source": [
    "answers['16'] = 'Matt Damon'"
   ]
  },
  {
   "cell_type": "code",
   "execution_count": 314,
   "metadata": {},
   "outputs": [
    {
     "name": "stdout",
     "output_type": "stream",
     "text": [
      "['Matt Damon']\n"
     ]
    }
   ],
   "source": [
    "#Создаем новый DataFrame с колонками 'budget' и 'cast'\n",
    "cast_df = data.loc[:, ['budget', 'cast']]\n",
    "#Разделяем сгруппированные имена актеров, каждый элемент находится в списке\n",
    "cast_df[\"cast\"] = cast_df['cast'].apply(lambda x: x.split(\"|\"))\n",
    "count = Counter()\n",
    "\n",
    "for i in range(len(cast_df['cast'])): #Проходимся по всем спискам актеров\n",
    "    for actor in cast_df['cast'][i]: #Проходимя по именам актеров в конкретном списке\n",
    "        #Создаем условие для бюджета фильмов\n",
    "        if cast_df[\"budget\"][i] > cast_df.budget.median():\n",
    "            count[actor] += 1\n",
    "\n",
    "budget = max(count.values())\n",
    "print(get_key(count, budget))"
   ]
  },
  {
   "cell_type": "markdown",
   "metadata": {
    "colab_type": "text",
    "id": "NIh6AaW5Vp_n"
   },
   "source": [
    "# 17. В фильмах какого жанра больше всего снимался Nicolas Cage? "
   ]
  },
  {
   "cell_type": "code",
   "execution_count": 315,
   "metadata": {
    "colab": {},
    "colab_type": "code",
    "id": "H74SJDIBVp_n"
   },
   "outputs": [],
   "source": [
    "answers['17'] = 'Action'"
   ]
  },
  {
   "cell_type": "code",
   "execution_count": 316,
   "metadata": {},
   "outputs": [
    {
     "name": "stdout",
     "output_type": "stream",
     "text": [
      "['Action']\n"
     ]
    }
   ],
   "source": [
    "#Создаем новый DataFrame с колонками 'genres' и 'cast'\n",
    "cast_df = data.loc[:, ['genres', 'cast']]\n",
    "#Разделяем сгруппированные имена актеров, каждый элемент находится в списке\n",
    "cast_df[\"cast\"] = cast_df['cast'].apply(lambda x: x.split(\"|\"))\n",
    "genres = []\n",
    "sym = \"|\"\n",
    "\n",
    "for i in range(len(cast_df['cast'])):  #Проходимся по всем спискам актеров\n",
    "    for actor in cast_df['cast'][i]: #Проходимя по именам актеров в конкретном списке\n",
    "        if actor == \"Nicolas Cage\": #Задаем условие для конкретного актера\n",
    "            genres.append(cast_df['genres'][i]) #Вносим в список жанры фильмов\n",
    "            \n",
    "genres_sep = Counter()\n",
    "for genre in genres: #Проходимся по всем спискам жанров\n",
    "    if sym in genre: #Проверяем наличие объединяющего знака\n",
    "        #Проходимся по жанрам, объединенным знаком sym\n",
    "        for el in genre.split(sym): \n",
    "            genres_sep[el] += 1\n",
    "    else: #Проходимся по жанрам, не объединенным знаком sym\n",
    "        genres_sep[genre] += 1\n",
    "        \n",
    "num = max(genres_sep.values())\n",
    "print(get_key(genres_sep, num))"
   ]
  },
  {
   "cell_type": "markdown",
   "metadata": {
    "colab_type": "text",
    "id": "RqOmPRfWVp_q"
   },
   "source": [
    "# 18. Самый убыточный фильм от Paramount Pictures"
   ]
  },
  {
   "cell_type": "code",
   "execution_count": 317,
   "metadata": {
    "colab": {},
    "colab_type": "code",
    "id": "9E_B0Y96Vp_r"
   },
   "outputs": [],
   "source": [
    "answers['18'] = 'K-19: The Widowmaker'"
   ]
  },
  {
   "cell_type": "code",
   "execution_count": 318,
   "metadata": {},
   "outputs": [
    {
     "name": "stdout",
     "output_type": "stream",
     "text": [
      "['K-19: The Widowmaker']\n"
     ]
    }
   ],
   "source": [
    "#Создаем новый DataFrame с колонками 'original_title', \"profit\" и 'production_companies'\n",
    "films_df = data.loc[:, ['original_title', 'production_companies', \"profit\"]]\n",
    "#Разделяем сгруппированные названия студий, каждый элемент находится в списке\n",
    "films_df[\"production_companies\"] = films_df['production_companies'].apply(lambda x: x.split(\"|\"))\n",
    "films = {}\n",
    "\n",
    "for i in range(len(films_df['production_companies'])): #Проходимся по всем спискам названий студий\n",
    "    for company in films_df['production_companies'][i]: #Проходимя по названию студии в конкретном списке\n",
    "        if \"Paramount Pictures\" in company: #Задаем условие для конкретной студии\n",
    "            films[films_df['original_title'][i]] = films_df['profit'][i] #Добавляем в словарь фильмы и прибыль\n",
    "            \n",
    "profit = min(films.values())\n",
    "print(get_key(films, profit))"
   ]
  },
  {
   "cell_type": "markdown",
   "metadata": {
    "colab_type": "text",
    "id": "vS8Ur6ddVp_u"
   },
   "source": [
    "# 19. Какой год стал самым успешным по суммарным кассовым сборам?"
   ]
  },
  {
   "cell_type": "code",
   "execution_count": 319,
   "metadata": {
    "colab": {},
    "colab_type": "code",
    "id": "Dnbt4GdIVp_v"
   },
   "outputs": [],
   "source": [
    "answers['19'] = '2015'"
   ]
  },
  {
   "cell_type": "code",
   "execution_count": 320,
   "metadata": {},
   "outputs": [
    {
     "name": "stdout",
     "output_type": "stream",
     "text": [
      "[2015]\n"
     ]
    }
   ],
   "source": [
    "#Создаем новый DataFrame с колонками 'genres' и 'cast'\n",
    "new_df = data.loc[:, ['release_year', \"profit\"]]\n",
    "count = Counter()\n",
    "\n",
    "for i in range(len(new_df[\"release_year\"])): #Проходимся по всем годам\n",
    "    count[new_df['release_year'][i]] += new_df[\"profit\"][i] #Суммируем прибыль по каждому году\n",
    "\n",
    "profit = max(count.values())\n",
    "print(get_key(count, profit))"
   ]
  },
  {
   "cell_type": "markdown",
   "metadata": {
    "colab_type": "text",
    "id": "JAzJh4QAVp_z"
   },
   "source": [
    "# 20. Какой самый прибыльный год для студии Warner Bros?"
   ]
  },
  {
   "cell_type": "code",
   "execution_count": 321,
   "metadata": {
    "colab": {},
    "colab_type": "code",
    "id": "wgVu02DEVp_0"
   },
   "outputs": [],
   "source": [
    "answers['20'] = '2014'"
   ]
  },
  {
   "cell_type": "code",
   "execution_count": 322,
   "metadata": {},
   "outputs": [
    {
     "name": "stdout",
     "output_type": "stream",
     "text": [
      "[2014]\n"
     ]
    }
   ],
   "source": [
    "#Создаем новый DataFrame с колонками 'release_year', \"profit\" и 'production_companies'\n",
    "year_df = data.loc[:, ['release_year', 'production_companies', \"profit\"]]\n",
    "#Разделяем сгруппированные названия студий, каждый элемент находится в списке\n",
    "year_df[\"production_companies\"] = year_df['production_companies'].apply(lambda x: x.split(\"|\"))\n",
    "count = Counter()\n",
    "\n",
    "for i in range(len(year_df['production_companies'])): #Проходимся по всем спискам названий студий\n",
    "    for com in year_df['production_companies'][i]: #Проходимя по названию студии в конкретном списке\n",
    "        if \"Warner Bros.\" in com: #Задаем условие для конкретной студии\n",
    "            count[year_df['release_year'][i]] += year_df['profit'][i] #Суммируем прибыль по каждому году\n",
    "\n",
    "profit = max(count.values())\n",
    "print(get_key(count, profit))"
   ]
  },
  {
   "cell_type": "markdown",
   "metadata": {
    "colab_type": "text",
    "id": "8Im1S2HRVp_4"
   },
   "source": [
    "# 21. В каком месяце за все годы суммарно вышло больше всего фильмов?"
   ]
  },
  {
   "cell_type": "code",
   "execution_count": 323,
   "metadata": {
    "colab": {},
    "colab_type": "code",
    "id": "lev6TH7gVp_4"
   },
   "outputs": [],
   "source": [
    "answers['21'] = 'Сентябрь'"
   ]
  },
  {
   "cell_type": "code",
   "execution_count": 324,
   "metadata": {},
   "outputs": [
    {
     "name": "stdout",
     "output_type": "stream",
     "text": [
      "['9']\n"
     ]
    }
   ],
   "source": [
    "#Создаем новый DataFrame с колонками 'original_title' и 'release_date'\n",
    "films_df = data.loc[:, ['original_title', 'release_date']]\n",
    "count = Counter()\n",
    "\n",
    "#Применяем функцию month, чтобы оставить только месяц в колонке release_date\n",
    "new_date = films_df.release_date.apply(month) \n",
    "films_df['release_date'] = new_date \n",
    "\n",
    "for i in range(len(films_df[\"release_date\"])): #Проходимся по всем месяцам\n",
    "    count[films_df['release_date'][i]] += 1 #Суммируем количество фильмов от одинаковых месяцов\n",
    "\n",
    "num = max(count.values())\n",
    "print(get_key(count, num))"
   ]
  },
  {
   "cell_type": "markdown",
   "metadata": {
    "colab_type": "text",
    "id": "uAJsZ_NeVp_7"
   },
   "source": [
    "# 22. Сколько суммарно вышло фильмов летом? (за июнь, июль, август)"
   ]
  },
  {
   "cell_type": "code",
   "execution_count": 325,
   "metadata": {
    "colab": {},
    "colab_type": "code",
    "id": "Aa-hEREoVp_8"
   },
   "outputs": [],
   "source": [
    "answers['22'] = '450'"
   ]
  },
  {
   "cell_type": "code",
   "execution_count": 326,
   "metadata": {},
   "outputs": [
    {
     "name": "stdout",
     "output_type": "stream",
     "text": [
      "450\n"
     ]
    }
   ],
   "source": [
    "'''В этой программе используется новый DataFrame из задания 21 (films_df)'''\n",
    "count = Counter()\n",
    "\n",
    "for i in range(len(films_df[\"release_date\"])): #Проходимся по всем месяцам\n",
    "    if ((films_df['release_date'][i] == \"6\") or \\\n",
    "        (films_df['release_date'][i] == \"7\") or \\\n",
    "        (films_df['release_date'][i] == \"8\")): #Задаем условие на летние месяцы\n",
    "        count[films_df['release_date'][i]] += 1 #Суммируем фильмы, вышедшие в летние месяцы\n",
    "\n",
    "film = 0 \n",
    "for films in count.values(): #Проходимся по значениям в словаре\n",
    "    film += films #Суммируем значения\n",
    "print(film)"
   ]
  },
  {
   "cell_type": "markdown",
   "metadata": {
    "colab_type": "text",
    "id": "G94ppOY1VqAA"
   },
   "source": [
    "# 23. Для какого режиссера зима – самое продуктивное время года? "
   ]
  },
  {
   "cell_type": "code",
   "execution_count": 327,
   "metadata": {},
   "outputs": [],
   "source": [
    "answers['23'] = 'Peter Jackson'"
   ]
  },
  {
   "cell_type": "code",
   "execution_count": 328,
   "metadata": {},
   "outputs": [
    {
     "name": "stdout",
     "output_type": "stream",
     "text": [
      "['Peter Jackson']\n"
     ]
    }
   ],
   "source": [
    "#Создаем новый DataFrame с колонками 'director' и 'release_date'\n",
    "directors_df = data.loc[:, ['release_date', \"director\"]]\n",
    "#Разделяем сгруппированные имена режиссеров, каждый элемент находится в списке\n",
    "directors_df[\"director\"] = directors_df['director'].apply(lambda x: x.split(\"|\"))\n",
    "#Оставляем только месяц в колонке release_date\n",
    "new_date = directors_df.release_date.apply(month) \n",
    "directors_df['release_date'] = new_date\n",
    "count = Counter()\n",
    "\n",
    "for i in range(len(directors_df['director'])): #Проходимся по всем спискам с именами режиссеров\n",
    "    for name in directors_df['director'][i]: #Проходимся по именам в списке\n",
    "        if (directors_df['release_date'][i] == \"12\") or \\\n",
    "            (directors_df['release_date'][i] == \"1\") or \\\n",
    "            (directors_df['release_date'][i] == \"2\"): #Задаем условие на зимние месяцы\n",
    "            count[name] += 1 #Суммируем режиссеров, выпустивших фильмы зимой\n",
    "\n",
    "director = max(count.values())\n",
    "print(get_key(count, director))"
   ]
  },
  {
   "cell_type": "markdown",
   "metadata": {
    "colab_type": "text",
    "id": "RBo0JVjVVqAF"
   },
   "source": [
    "# 24. Какая студия дает самые длинные названия своим фильмам по количеству символов?"
   ]
  },
  {
   "cell_type": "code",
   "execution_count": 329,
   "metadata": {
    "colab": {},
    "colab_type": "code",
    "id": "QRGS8L0iVqAG"
   },
   "outputs": [],
   "source": [
    "answers['24'] = 'Four By Two Productions'"
   ]
  },
  {
   "cell_type": "code",
   "execution_count": 330,
   "metadata": {},
   "outputs": [
    {
     "name": "stdout",
     "output_type": "stream",
     "text": [
      "['Four By Two Productions']\n"
     ]
    }
   ],
   "source": [
    "#Создаем новый DataFrame с колонками 'original_title' и 'production_companies'\n",
    "new_df = data.loc[:, ['original_title', \"production_companies\"]]\n",
    "#Разделяем сгруппированные названия студий, каждый элемент находится в списке\n",
    "new_df[\"production_companies\"] = new_df['production_companies'].apply(lambda x: x.split(\"|\"))\n",
    "count_len = Counter()\n",
    "count_com = Counter()\n",
    "\n",
    "for i in range(len(new_df[\"production_companies\"])): #Проходимся по всем спискам с именами студий\n",
    "    for com in new_df[\"production_companies\"][i]: #Проходимся по именам студий в списке\n",
    "        count_len[com] += len(new_df[\"original_title\"][i]) #Для каждой студии считаем длину названия фильмов\n",
    "        count_com[com] += 1 #Считаем количество фильмов, выпущенных студией\n",
    "\n",
    "count_res = {}\n",
    "for l in count_com:\n",
    "    #Делим длину фильма на количество фильмов для конкретной студии\n",
    "    count_res[l] = (count_len[l] / count_com[l]) \n",
    "num = max(count_res.values())\n",
    "print(get_key(count_res, num))"
   ]
  },
  {
   "cell_type": "markdown",
   "metadata": {
    "colab_type": "text",
    "id": "9G0hbvR7VqAK"
   },
   "source": [
    "# 25. Описание фильмов какой студии в среднем самые длинные по количеству слов?"
   ]
  },
  {
   "cell_type": "code",
   "execution_count": 331,
   "metadata": {
    "colab": {},
    "colab_type": "code",
    "id": "Ge2GsLNxVqAK"
   },
   "outputs": [],
   "source": [
    "answers['25'] = 'Midnight Picture Show'"
   ]
  },
  {
   "cell_type": "code",
   "execution_count": 332,
   "metadata": {},
   "outputs": [
    {
     "name": "stdout",
     "output_type": "stream",
     "text": [
      "['Midnight Picture Show']\n"
     ]
    }
   ],
   "source": [
    "#Создаем новый DataFrame с колонками 'overview' и 'production_companies'\n",
    "film_df = data.loc[:, ['overview', \"production_companies\"]]\n",
    "#Разделяем сгруппированные названия студий, каждый элемент находится в списке\n",
    "film_df[\"production_companies\"] = film_df['production_companies'].apply(lambda x: x.split(\"|\"))\n",
    "count_len = Counter()\n",
    "count_com = Counter()\n",
    "\n",
    "for i in range(len(film_df[\"production_companies\"])): #Проходимся по всем спискам с именами студий\n",
    "    for com in film_df[\"production_companies\"][i]: #Проходимся по именам студий в списке\n",
    "        #Считаем длину описания по количеству слов \n",
    "        count_len[com] += len(film_df[\"overview\"][i].split(\" \")) \n",
    "        count_com[com] += 1 #Считаем количество фильмов, выпущенных студией\n",
    "\n",
    "count_res = {}\n",
    "for l in count_len:\n",
    "    #Делим длину описания к фильму на количество фильмов для конкретной студии\n",
    "    count_res[l] = (count_len[l] / count_com[l])\n",
    "num = max(count_res.values())\n",
    "print(get_key(count_res, num))"
   ]
  },
  {
   "cell_type": "markdown",
   "metadata": {
    "colab_type": "text",
    "id": "FJ1AFt90VqAP"
   },
   "source": [
    "# 26. Какие фильмы входят в 1 процент лучших по рейтингу? \n",
    "по vote_average"
   ]
  },
  {
   "cell_type": "code",
   "execution_count": 333,
   "metadata": {
    "colab": {},
    "colab_type": "code",
    "id": "8qmJVq4CVqAQ"
   },
   "outputs": [],
   "source": [
    "answers['26'] = 'Inside Out, The Dark Knight, 12 Years a Slave'"
   ]
  },
  {
   "cell_type": "code",
   "execution_count": 334,
   "metadata": {},
   "outputs": [
    {
     "name": "stdout",
     "output_type": "stream",
     "text": [
      "['Inside Out', 'Room', 'Interstellar', 'Guardians of the Galaxy', 'The Imitation Game', 'Gone Girl', 'The Grand Budapest Hotel', 'Inception', 'The Dark Knight', 'The Pianist', 'The Lord of the Rings: The Return of the King', 'The Wolf of Wall Street', '12 Years a Slave', 'Memento']\n"
     ]
    }
   ],
   "source": [
    "#Создаем новый DataFrame с колонками 'original_title' и 'vote_average'\n",
    "vote_df = data.loc[:, ['original_title', \"vote_average\"]]\n",
    "films = []\n",
    "\n",
    "for i in range((len(vote_df[\"vote_average\"]))): #Проходимся по всем рейтингам\n",
    "    #Задаем условие для рейнинга (q=0.99)\n",
    "    if vote_df[\"vote_average\"][i] > vote_df.vote_average.quantile(q=0.99): \n",
    "        films.append(vote_df[\"original_title\"][i])\n",
    "print(films)"
   ]
  },
  {
   "cell_type": "markdown",
   "metadata": {
    "colab_type": "text",
    "id": "MdXsUXbCVqAV"
   },
   "source": [
    "# 27. Какие актеры чаще всего снимаются в одном фильме вместе?\n"
   ]
  },
  {
   "cell_type": "code",
   "execution_count": 335,
   "metadata": {},
   "outputs": [],
   "source": [
    "answers['27'] = 'Rupert Grint, Daniel Radcliffe'"
   ]
  },
  {
   "cell_type": "code",
   "execution_count": 336,
   "metadata": {},
   "outputs": [],
   "source": [
    "def compare_names(name1, name2): \n",
    "    \"\"\"Функция, получающая на вход два имени и возвращающая упорядоченные имена в одной строке\"\"\"\n",
    "    if name1 == name2: #В составе актеров бывают повторения имен\n",
    "        return name1\n",
    "    for letter1, letter2 in zip(name1, name2): #Упорядовачием имена и возвращаем их одной строкой\n",
    "        if letter1 > letter2:\n",
    "            return name1 + ' ' + name2\n",
    "        elif letter1 < letter2:\n",
    "            return name2 + ' ' + name1"
   ]
  },
  {
   "cell_type": "code",
   "execution_count": 337,
   "metadata": {
    "scrolled": true
   },
   "outputs": [],
   "source": [
    "#Создаем новый DataFrame с колонками 'original_title' и 'cast'\n",
    "new_df = data.loc[:, ['original_title', \"cast\"]]\n",
    "#Разделяем сгруппированные имена актеров, каждый элемент находится в списке\n",
    "new_df[\"cast\"] = new_df[\"cast\"].apply(lambda x: x.split(\"|\"))\n",
    "actors = []\n",
    "counter = Counter()\n",
    "\n",
    "for i in range(len(new_df[\"cast\"])): #Проходимся по всем спискам с именами актеров \n",
    "    for el in new_df[\"cast\"][i]: #Проходимся по каждому актеру в списке\n",
    "        actors.append((el, new_df[\"original_title\"][i])) #Добавляем в список пару: имя актера - фильм\n",
    "#Создаем Series из списка\n",
    "count_sr = pd.Series((i[0] for i in actors), (i[1] for i in actors))\n",
    "\n",
    "#Проходимся по всем фильмам\n",
    "for i in count_sr.index.unique():\n",
    "    #Для каждой пары актеров в фильме увеличиваем счетчик совместной работы\n",
    "    for j in range(len(count_sr[count_sr.index == i]) - 2):  \n",
    "        for k in range(j+1, len(count_sr[count_sr.index == i]) - 1):\n",
    "            name = compare_names(count_sr[count_sr.index == i][j], count_sr[count_sr.index == i][k])\n",
    "            counter[name] += 1"
   ]
  },
  {
   "cell_type": "code",
   "execution_count": 338,
   "metadata": {},
   "outputs": [
    {
     "name": "stdout",
     "output_type": "stream",
     "text": [
      "['Rupert Grint Daniel Radcliffe', 'Emma Watson Daniel Radcliffe', 'Rupert Grint Emma Watson']\n"
     ]
    }
   ],
   "source": [
    "number = max(counter.values())\n",
    "print(get_key(counter, number))"
   ]
  },
  {
   "cell_type": "markdown",
   "metadata": {
    "colab_type": "text",
    "id": "U0nONFnGVqAX"
   },
   "source": [
    "# Submission"
   ]
  },
  {
   "cell_type": "code",
   "execution_count": 339,
   "metadata": {
    "colab": {},
    "colab_type": "code",
    "id": "IfcaRO9-VqAX",
    "outputId": "0f132912-32bb-4196-c98c-abfbc4ad5a5f"
   },
   "outputs": [
    {
     "data": {
      "text/plain": [
       "{'1': '723. Pirates of the Caribbean: On Stranger Tides(tt1298650)',\n",
       " '2': '1157. Gods and Generals(tt0279111)',\n",
       " '3': '768. Winnie the Pooh(tt1449283)',\n",
       " '4': '110',\n",
       " '5': '107',\n",
       " '6': '239. Avatar(tt0499549)',\n",
       " '7': '1245. The Lone Ranger (tt1210819)',\n",
       " '8': '1478',\n",
       " '9': 'The Dark Knight (tt0468569)',\n",
       " '10': 'The Lone Ranger(tt1210819)',\n",
       " '11': 'Drama',\n",
       " '12': 'Drama',\n",
       " '13': 'Peter Jackson',\n",
       " '14': 'Robert Rodriguez',\n",
       " '15': 'Chris Hemsworth',\n",
       " '16': 'Matt Damon',\n",
       " '17': 'Action',\n",
       " '18': 'K-19: The Widowmaker',\n",
       " '19': '2015',\n",
       " '20': '2014',\n",
       " '21': 'Сентябрь',\n",
       " '22': '450',\n",
       " '23': 'Peter Jackson',\n",
       " '24': 'Four By Two Productions',\n",
       " '25': 'Midnight Picture Show',\n",
       " '26': 'Inside Out, The Dark Knight, 12 Years a Slave',\n",
       " '27': 'Rupert Grint, Daniel Radcliffe'}"
      ]
     },
     "execution_count": 339,
     "metadata": {},
     "output_type": "execute_result"
    }
   ],
   "source": [
    "# в конце можно посмотреть свои ответы к каждому вопросу\n",
    "answers"
   ]
  },
  {
   "cell_type": "code",
   "execution_count": 340,
   "metadata": {
    "colab": {},
    "colab_type": "code",
    "id": "SiRmHPl8VqAd"
   },
   "outputs": [
    {
     "data": {
      "text/plain": [
       "27"
      ]
     },
     "execution_count": 340,
     "metadata": {},
     "output_type": "execute_result"
    }
   ],
   "source": [
    "# и убедиться что ни чего не пропустил)\n",
    "len(answers)"
   ]
  }
 ],
 "metadata": {
  "colab": {
   "name": "Copy of [SF-DST] Movies IMBD v4.1 TEMPLATE.ipynb",
   "provenance": []
  },
  "kernelspec": {
   "display_name": "Python 3",
   "language": "python",
   "name": "python3"
  },
  "language_info": {
   "codemirror_mode": {
    "name": "ipython",
    "version": 3
   },
   "file_extension": ".py",
   "mimetype": "text/x-python",
   "name": "python",
   "nbconvert_exporter": "python",
   "pygments_lexer": "ipython3",
   "version": "3.8.3"
  }
 },
 "nbformat": 4,
 "nbformat_minor": 1
}
