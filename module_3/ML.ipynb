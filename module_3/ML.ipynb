{
 "cells": [
  {
   "cell_type": "markdown",
   "metadata": {},
   "source": [
    "# Библиотеки"
   ]
  },
  {
   "cell_type": "code",
   "execution_count": 1,
   "metadata": {},
   "outputs": [
    {
     "name": "stdout",
     "output_type": "stream",
     "text": [
      "Requirement already satisfied: webdriver-manager in c:\\users\\a9251\\anaconda3\\lib\\site-packages (3.5.2)\n",
      "Requirement already satisfied: requests in c:\\users\\a9251\\anaconda3\\lib\\site-packages (from webdriver-manager) (2.24.0)\n",
      "Requirement already satisfied: configparser in c:\\users\\a9251\\anaconda3\\lib\\site-packages (from webdriver-manager) (5.1.0)\n",
      "Requirement already satisfied: crayons in c:\\users\\a9251\\anaconda3\\lib\\site-packages (from webdriver-manager) (0.4.0)\n",
      "Requirement already satisfied: idna<3,>=2.5 in c:\\users\\a9251\\anaconda3\\lib\\site-packages (from requests->webdriver-manager) (2.10)\n",
      "Requirement already satisfied: chardet<4,>=3.0.2 in c:\\users\\a9251\\anaconda3\\lib\\site-packages (from requests->webdriver-manager) (3.0.4)\n",
      "Requirement already satisfied: certifi>=2017.4.17 in c:\\users\\a9251\\anaconda3\\lib\\site-packages (from requests->webdriver-manager) (2020.6.20)\n",
      "Requirement already satisfied: urllib3!=1.25.0,!=1.25.1,<1.26,>=1.21.1 in c:\\users\\a9251\\anaconda3\\lib\\site-packages (from requests->webdriver-manager) (1.25.11)\n",
      "Requirement already satisfied: colorama in c:\\users\\a9251\\anaconda3\\lib\\site-packages (from crayons->webdriver-manager) (0.4.3)\n",
      "Note: you may need to restart the kernel to use updated packages.\n"
     ]
    }
   ],
   "source": [
    "pip install webdriver-manager"
   ]
  },
  {
   "cell_type": "code",
   "execution_count": 2,
   "metadata": {},
   "outputs": [
    {
     "name": "stdout",
     "output_type": "stream",
     "text": [
      "Requirement already satisfied: beautifulsoup4 in c:\\users\\a9251\\anaconda3\\lib\\site-packages (4.9.1)Note: you may need to restart the kernel to use updated packages.\n",
      "Requirement already satisfied: soupsieve>1.2 in c:\\users\\a9251\\anaconda3\\lib\\site-packages (from beautifulsoup4) (2.0.1)\n",
      "\n"
     ]
    }
   ],
   "source": [
    "pip install beautifulsoup4"
   ]
  },
  {
   "cell_type": "code",
   "execution_count": 3,
   "metadata": {},
   "outputs": [
    {
     "name": "stdout",
     "output_type": "stream",
     "text": [
      "Requirement already satisfied: requests in c:\\users\\a9251\\anaconda3\\lib\\site-packages (2.24.0)\n",
      "Requirement already satisfied: idna<3,>=2.5 in c:\\users\\a9251\\anaconda3\\lib\\site-packages (from requests) (2.10)\n",
      "Requirement already satisfied: chardet<4,>=3.0.2 in c:\\users\\a9251\\anaconda3\\lib\\site-packages (from requests) (3.0.4)\n",
      "Requirement already satisfied: urllib3!=1.25.0,!=1.25.1,<1.26,>=1.21.1 in c:\\users\\a9251\\anaconda3\\lib\\site-packages (from requests) (1.25.11)\n",
      "Requirement already satisfied: certifi>=2017.4.17 in c:\\users\\a9251\\anaconda3\\lib\\site-packages (from requests) (2020.6.20)\n",
      "Note: you may need to restart the kernel to use updated packages.\n"
     ]
    }
   ],
   "source": [
    "pip install requests"
   ]
  },
  {
   "cell_type": "code",
   "execution_count": 1,
   "metadata": {},
   "outputs": [],
   "source": [
    "import pandas as pd\n",
    "import numpy as np\n",
    "import sys\n",
    "import csv\n",
    "import re\n",
    "import time\n",
    "import requests\n",
    "from datetime import datetime\n",
    "from collections import Counter\n",
    "from sklearn.preprocessing import OneHotEncoder\n",
    "from selenium import webdriver\n",
    "from selenium.webdriver.common.by import By\n",
    "from selenium.webdriver.chrome.service import Service\n",
    "from bs4 import BeautifulSoup\n",
    "from webdriver_manager.chrome import ChromeDriverManager\n",
    "import seaborn as sns\n",
    "import matplotlib.pyplot as plt "
   ]
  },
  {
   "cell_type": "markdown",
   "metadata": {},
   "source": [
    "# Функции"
   ]
  },
  {
   "cell_type": "code",
   "execution_count": 2,
   "metadata": {},
   "outputs": [],
   "source": [
    "def get_key(count, value):\n",
    "    '''Функция предназначена для возвращения ключей по конктретному значению (value) в словарях'''\n",
    "    keys = []\n",
    "    for k, v in count.items():\n",
    "        if v == value:\n",
    "            keys.append(k)\n",
    "    return keys"
   ]
  },
  {
   "cell_type": "markdown",
   "metadata": {},
   "source": [
    "# Загрузка Pandas и очистка данных"
   ]
  },
  {
   "cell_type": "code",
   "execution_count": 3,
   "metadata": {},
   "outputs": [
    {
     "data": {
      "text/html": [
       "<div>\n",
       "<style scoped>\n",
       "    .dataframe tbody tr th:only-of-type {\n",
       "        vertical-align: middle;\n",
       "    }\n",
       "\n",
       "    .dataframe tbody tr th {\n",
       "        vertical-align: top;\n",
       "    }\n",
       "\n",
       "    .dataframe thead th {\n",
       "        text-align: right;\n",
       "    }\n",
       "</style>\n",
       "<table border=\"1\" class=\"dataframe\">\n",
       "  <thead>\n",
       "    <tr style=\"text-align: right;\">\n",
       "      <th></th>\n",
       "      <th>Restaurant_id</th>\n",
       "      <th>City</th>\n",
       "      <th>Cuisine Style</th>\n",
       "      <th>Ranking</th>\n",
       "      <th>Rating</th>\n",
       "      <th>Price Range</th>\n",
       "      <th>Number of Reviews</th>\n",
       "      <th>Reviews</th>\n",
       "      <th>URL_TA</th>\n",
       "      <th>ID_TA</th>\n",
       "    </tr>\n",
       "  </thead>\n",
       "  <tbody>\n",
       "    <tr>\n",
       "      <th>0</th>\n",
       "      <td>id_5569</td>\n",
       "      <td>Paris</td>\n",
       "      <td>['European', 'French', 'International']</td>\n",
       "      <td>5570.0</td>\n",
       "      <td>3.5</td>\n",
       "      <td>$$ - $$$</td>\n",
       "      <td>194.0</td>\n",
       "      <td>[['Good food at your doorstep', 'A good hotel ...</td>\n",
       "      <td>/Restaurant_Review-g187147-d1912643-Reviews-R_...</td>\n",
       "      <td>d1912643</td>\n",
       "    </tr>\n",
       "    <tr>\n",
       "      <th>1</th>\n",
       "      <td>id_1535</td>\n",
       "      <td>Stockholm</td>\n",
       "      <td>NaN</td>\n",
       "      <td>1537.0</td>\n",
       "      <td>4.0</td>\n",
       "      <td>NaN</td>\n",
       "      <td>10.0</td>\n",
       "      <td>[['Unique cuisine', 'Delicious Nepalese food']...</td>\n",
       "      <td>/Restaurant_Review-g189852-d7992032-Reviews-Bu...</td>\n",
       "      <td>d7992032</td>\n",
       "    </tr>\n",
       "    <tr>\n",
       "      <th>2</th>\n",
       "      <td>id_352</td>\n",
       "      <td>London</td>\n",
       "      <td>['Japanese', 'Sushi', 'Asian', 'Grill', 'Veget...</td>\n",
       "      <td>353.0</td>\n",
       "      <td>4.5</td>\n",
       "      <td>$$$$</td>\n",
       "      <td>688.0</td>\n",
       "      <td>[['Catch up with friends', 'Not exceptional'],...</td>\n",
       "      <td>/Restaurant_Review-g186338-d8632781-Reviews-RO...</td>\n",
       "      <td>d8632781</td>\n",
       "    </tr>\n",
       "    <tr>\n",
       "      <th>3</th>\n",
       "      <td>id_3456</td>\n",
       "      <td>Berlin</td>\n",
       "      <td>NaN</td>\n",
       "      <td>3458.0</td>\n",
       "      <td>5.0</td>\n",
       "      <td>NaN</td>\n",
       "      <td>3.0</td>\n",
       "      <td>[[], []]</td>\n",
       "      <td>/Restaurant_Review-g187323-d1358776-Reviews-Es...</td>\n",
       "      <td>d1358776</td>\n",
       "    </tr>\n",
       "    <tr>\n",
       "      <th>4</th>\n",
       "      <td>id_615</td>\n",
       "      <td>Munich</td>\n",
       "      <td>['German', 'Central European', 'Vegetarian Fri...</td>\n",
       "      <td>621.0</td>\n",
       "      <td>4.0</td>\n",
       "      <td>$$ - $$$</td>\n",
       "      <td>84.0</td>\n",
       "      <td>[['Best place to try a Bavarian food', 'Nice b...</td>\n",
       "      <td>/Restaurant_Review-g187309-d6864963-Reviews-Au...</td>\n",
       "      <td>d6864963</td>\n",
       "    </tr>\n",
       "  </tbody>\n",
       "</table>\n",
       "</div>"
      ],
      "text/plain": [
       "  Restaurant_id       City                                      Cuisine Style  \\\n",
       "0       id_5569      Paris            ['European', 'French', 'International']   \n",
       "1       id_1535  Stockholm                                                NaN   \n",
       "2        id_352     London  ['Japanese', 'Sushi', 'Asian', 'Grill', 'Veget...   \n",
       "3       id_3456     Berlin                                                NaN   \n",
       "4        id_615     Munich  ['German', 'Central European', 'Vegetarian Fri...   \n",
       "\n",
       "   Ranking  Rating Price Range  Number of Reviews  \\\n",
       "0   5570.0     3.5    $$ - $$$              194.0   \n",
       "1   1537.0     4.0         NaN               10.0   \n",
       "2    353.0     4.5        $$$$              688.0   \n",
       "3   3458.0     5.0         NaN                3.0   \n",
       "4    621.0     4.0    $$ - $$$               84.0   \n",
       "\n",
       "                                             Reviews  \\\n",
       "0  [['Good food at your doorstep', 'A good hotel ...   \n",
       "1  [['Unique cuisine', 'Delicious Nepalese food']...   \n",
       "2  [['Catch up with friends', 'Not exceptional'],...   \n",
       "3                                           [[], []]   \n",
       "4  [['Best place to try a Bavarian food', 'Nice b...   \n",
       "\n",
       "                                              URL_TA     ID_TA  \n",
       "0  /Restaurant_Review-g187147-d1912643-Reviews-R_...  d1912643  \n",
       "1  /Restaurant_Review-g189852-d7992032-Reviews-Bu...  d7992032  \n",
       "2  /Restaurant_Review-g186338-d8632781-Reviews-RO...  d8632781  \n",
       "3  /Restaurant_Review-g187323-d1358776-Reviews-Es...  d1358776  \n",
       "4  /Restaurant_Review-g187309-d6864963-Reviews-Au...  d6864963  "
      ]
     },
     "execution_count": 3,
     "metadata": {},
     "output_type": "execute_result"
    }
   ],
   "source": [
    "# Загрузка датасета\n",
    "restorans = pd.read_csv(\"../main_task_new.csv\")\n",
    "restorans.head(5)"
   ]
  },
  {
   "cell_type": "code",
   "execution_count": 4,
   "metadata": {},
   "outputs": [
    {
     "data": {
      "text/plain": [
       "Index(['Restaurant_id', 'City', 'Cuisine_Style', 'Ranking', 'Rating',\n",
       "       'Price_Range', 'Number_of_Reviews', 'Reviews', 'URL_TA', 'ID_TA'],\n",
       "      dtype='object')"
      ]
     },
     "execution_count": 4,
     "metadata": {},
     "output_type": "execute_result"
    }
   ],
   "source": [
    "# Приведем названия столбцов к одному виду.\n",
    "restorans.columns = restorans.columns.map(lambda x: x.replace(\" \", \"_\"))\n",
    "restorans.columns"
   ]
  },
  {
   "cell_type": "code",
   "execution_count": 5,
   "metadata": {},
   "outputs": [
    {
     "name": "stdout",
     "output_type": "stream",
     "text": [
      "<class 'pandas.core.frame.DataFrame'>\n",
      "RangeIndex: 40000 entries, 0 to 39999\n",
      "Data columns (total 10 columns):\n",
      " #   Column             Non-Null Count  Dtype  \n",
      "---  ------             --------------  -----  \n",
      " 0   Restaurant_id      40000 non-null  object \n",
      " 1   City               40000 non-null  object \n",
      " 2   Cuisine_Style      30717 non-null  object \n",
      " 3   Ranking            40000 non-null  float64\n",
      " 4   Rating             40000 non-null  float64\n",
      " 5   Price_Range        26114 non-null  object \n",
      " 6   Number_of_Reviews  37457 non-null  float64\n",
      " 7   Reviews            40000 non-null  object \n",
      " 8   URL_TA             40000 non-null  object \n",
      " 9   ID_TA              40000 non-null  object \n",
      "dtypes: float64(3), object(7)\n",
      "memory usage: 3.1+ MB\n"
     ]
    }
   ],
   "source": [
    "# В данных присутствует три числовых призника, где столбец Rating является целевой переменной.\n",
    "restorans.info()"
   ]
  },
  {
   "cell_type": "code",
   "execution_count": 6,
   "metadata": {},
   "outputs": [],
   "source": [
    "# Создадим функцию, которая ищет столбцы с NaN.\n",
    "def nan_finder(df):\n",
    "    '''Функция предназначена для нахождения пустых значений с помошью метода isnull()'''\n",
    "    nan_columns = []\n",
    "    for column in df.columns:\n",
    "        if df[column].isnull().sum() > 0:\n",
    "            nan_columns.append(column)\n",
    "    return nan_columns"
   ]
  },
  {
   "cell_type": "code",
   "execution_count": 7,
   "metadata": {},
   "outputs": [
    {
     "data": {
      "text/plain": [
       "['Cuisine_Style', 'Price_Range', 'Number_of_Reviews']"
      ]
     },
     "execution_count": 7,
     "metadata": {},
     "output_type": "execute_result"
    }
   ],
   "source": [
    "# Выведем столбцы с пропусками.\n",
    "nan_finder(restorans)"
   ]
  },
  {
   "cell_type": "code",
   "execution_count": 8,
   "metadata": {},
   "outputs": [
    {
     "data": {
      "text/plain": [
       "9283"
      ]
     },
     "execution_count": 8,
     "metadata": {},
     "output_type": "execute_result"
    }
   ],
   "source": [
    "# Разберемся с пропусками в столбце Cuisine_Style.\n",
    "restorans['Cuisine_Style'].isnull().sum()"
   ]
  },
  {
   "cell_type": "code",
   "execution_count": 9,
   "metadata": {},
   "outputs": [],
   "source": [
    "# Возьмем недостающие данные в столбце Cuisine_Style с сайтов ресторанов, они указаны в столбце URL_TA.\n",
    "# Преобразуем адресную строку.\n",
    "urls = []\n",
    "\n",
    "for url in restorans['URL_TA']:\n",
    "    urls.append('http://www.tripadvisor.com' + url)\n",
    "    \n",
    "restorans['URL_TA'] = urls"
   ]
  },
  {
   "cell_type": "code",
   "execution_count": 20,
   "metadata": {},
   "outputs": [],
   "source": [
    "# Добавляем путь к файлу, в котором будут сохраняться данные.\n",
    "path_to_file = \"C:/Users/a9251/Desktop/data.csv\"\n",
    "\n",
    "# Открываем файл для записи данных.\n",
    "csvFile = open(path_to_file, 'a', encoding=\"utf-8\")\n",
    "csvWriter = csv.writer(csvFile)\n",
    "\n",
    "# Импортируем вебдрайвер для браузера.\n",
    "s = Service('C:/Users/a9251/Downloads/chromedriver.exe')\n",
    "browser = webdriver.Chrome(service=s)\n",
    "\n",
    "# Задаем данные сайтов, соответствующих пропущенным значениям в столбце Cuisine_Style.\n",
    "for i in restorans[restorans['Cuisine_Style'].isnull()]['URL_TA']:\n",
    "    url = i\n",
    "    page = browser.get(url)\n",
    "\n",
    "    time.sleep(2)\n",
    "    container = browser.find_elements(By.CLASS_NAME, \"drUyy\")\n",
    "    csvWriter.writerow([el.get_property('text') for el in container])\n",
    "\n",
    "browser.close()"
   ]
  },
  {
   "cell_type": "code",
   "execution_count": 10,
   "metadata": {},
   "outputs": [
    {
     "data": {
      "text/html": [
       "<div>\n",
       "<style scoped>\n",
       "    .dataframe tbody tr th:only-of-type {\n",
       "        vertical-align: middle;\n",
       "    }\n",
       "\n",
       "    .dataframe tbody tr th {\n",
       "        vertical-align: top;\n",
       "    }\n",
       "\n",
       "    .dataframe thead th {\n",
       "        text-align: right;\n",
       "    }\n",
       "</style>\n",
       "<table border=\"1\" class=\"dataframe\">\n",
       "  <thead>\n",
       "    <tr style=\"text-align: right;\">\n",
       "      <th></th>\n",
       "      <th>Cuisine_Style</th>\n",
       "    </tr>\n",
       "  </thead>\n",
       "  <tbody>\n",
       "    <tr>\n",
       "      <th>0</th>\n",
       "      <td>Asian, Nepali</td>\n",
       "    </tr>\n",
       "    <tr>\n",
       "      <th>1</th>\n",
       "      <td>NaN</td>\n",
       "    </tr>\n",
       "    <tr>\n",
       "      <th>2</th>\n",
       "      <td>Bar, European, Portuguese</td>\n",
       "    </tr>\n",
       "    <tr>\n",
       "      <th>3</th>\n",
       "      <td>Cafe, European</td>\n",
       "    </tr>\n",
       "    <tr>\n",
       "      <th>4</th>\n",
       "      <td>Mediterranean, Spanish</td>\n",
       "    </tr>\n",
       "    <tr>\n",
       "      <th>5</th>\n",
       "      <td>NaN</td>\n",
       "    </tr>\n",
       "    <tr>\n",
       "      <th>6</th>\n",
       "      <td>Spanish, WineBar</td>\n",
       "    </tr>\n",
       "    <tr>\n",
       "      <th>7</th>\n",
       "      <td>NaN</td>\n",
       "    </tr>\n",
       "    <tr>\n",
       "      <th>8</th>\n",
       "      <td>NaN</td>\n",
       "    </tr>\n",
       "    <tr>\n",
       "      <th>9</th>\n",
       "      <td>Bar, Mediterranean, Spanish</td>\n",
       "    </tr>\n",
       "  </tbody>\n",
       "</table>\n",
       "</div>"
      ],
      "text/plain": [
       "                 Cuisine_Style\n",
       "0                Asian, Nepali\n",
       "1                          NaN\n",
       "2    Bar, European, Portuguese\n",
       "3               Cafe, European\n",
       "4       Mediterranean, Spanish\n",
       "5                          NaN\n",
       "6             Spanish, WineBar\n",
       "7                          NaN\n",
       "8                          NaN\n",
       "9  Bar, Mediterranean, Spanish"
      ]
     },
     "execution_count": 10,
     "metadata": {},
     "output_type": "execute_result"
    }
   ],
   "source": [
    "# Открываем получившийся Excel файл с данными о кухнях. Как видно не у всех ресторанов указана эта информация.\n",
    "data_file = pd.ExcelFile(\".../data.xlsx\")  \n",
    "data = pd.read_excel(data_file)\n",
    "data.head(10)"
   ]
  },
  {
   "cell_type": "code",
   "execution_count": 11,
   "metadata": {},
   "outputs": [],
   "source": [
    "# Заменяем пропуски полученными данными.\n",
    "list_of_cuisines = []\n",
    "for i in data['Cuisine_Style']:\n",
    "    list_of_cuisines.append(i)\n",
    "    \n",
    "restorans.loc[restorans['Cuisine_Style'].isnull(), 'Cuisine_Style'] = list_of_cuisines"
   ]
  },
  {
   "cell_type": "code",
   "execution_count": 12,
   "metadata": {},
   "outputs": [
    {
     "data": {
      "text/plain": [
       "4838"
      ]
     },
     "execution_count": 12,
     "metadata": {},
     "output_type": "execute_result"
    }
   ],
   "source": [
    "# Получилось восстановить около половины пропущенных значений.\n",
    "restorans['Cuisine_Style'].isnull().sum()"
   ]
  },
  {
   "cell_type": "code",
   "execution_count": 13,
   "metadata": {},
   "outputs": [
    {
     "data": {
      "text/plain": [
       "2543"
      ]
     },
     "execution_count": 13,
     "metadata": {},
     "output_type": "execute_result"
    }
   ],
   "source": [
    "# В столбце Number_of_Reviews не очень много пустых элементов.\n",
    "restorans['Number_of_Reviews'].isnull().sum()"
   ]
  },
  {
   "cell_type": "code",
   "execution_count": 14,
   "metadata": {},
   "outputs": [],
   "source": [
    "# Заменим их средним значением.\n",
    "num = round(restorans['Number_of_Reviews'].mean())\n",
    "restorans['Number_of_Reviews'] = restorans['Number_of_Reviews'].fillna(num)"
   ]
  },
  {
   "cell_type": "code",
   "execution_count": 15,
   "metadata": {},
   "outputs": [
    {
     "data": {
      "text/plain": [
       "array(['$$ - $$$', nan, '$$$$', '$'], dtype=object)"
      ]
     },
     "execution_count": 15,
     "metadata": {},
     "output_type": "execute_result"
    }
   ],
   "source": [
    "# Рассмотрим колонку Price_Range, в ней встречается три типа уровня цен.\n",
    "restorans['Price_Range'].unique()"
   ]
  },
  {
   "cell_type": "code",
   "execution_count": 16,
   "metadata": {},
   "outputs": [],
   "source": [
    "# Поменяем данные со строковых на категориальные, где 1 - это самый низкий уровень цен,\n",
    "# 3 - самый высокий.\n",
    "restorans['Price_Range'] = restorans['Price_Range'].apply(lambda x: 1.0 if x == '$'\n",
    "                                                          else 2.0 if x == '$$ - $$$' else 3.0 if x == '$$$$' else x)"
   ]
  },
  {
   "cell_type": "code",
   "execution_count": 17,
   "metadata": {},
   "outputs": [
    {
     "data": {
      "text/plain": [
       "2.0    18412\n",
       "1.0     6279\n",
       "3.0     1423\n",
       "Name: Price_Range, dtype: int64"
      ]
     },
     "execution_count": 17,
     "metadata": {},
     "output_type": "execute_result"
    }
   ],
   "source": [
    "# Больше всего ресторанов имеют стредний уровень цен.\n",
    "restorans['Price_Range'].value_counts()"
   ]
  },
  {
   "cell_type": "code",
   "execution_count": 18,
   "metadata": {},
   "outputs": [
    {
     "data": {
      "text/plain": [
       "13886"
      ]
     },
     "execution_count": 18,
     "metadata": {},
     "output_type": "execute_result"
    }
   ],
   "source": [
    "# В колонке Price_Range очень много пропущенных значений.\n",
    "restorans['Price_Range'].isnull().sum()"
   ]
  },
  {
   "cell_type": "code",
   "execution_count": 19,
   "metadata": {},
   "outputs": [],
   "source": [
    "# Проанализировав зависимость уровня цен от количества отзывов и от колонки Ranking,\n",
    "# можно сделать вывод, что, в среднем, чем больше отзывов о ресторане, тем выше уровень цен,\n",
    "# обратная зависимость наблюдается в колонке Ranking - чем меньше величина, тем выше уровень цен.\n",
    "\n",
    "#restorans.query('Price_Range == 3.0')['Number_of_Reviews'].mean()\n",
    "#=>380.76508620689657\n",
    "#restorans.query('Price_Range == 1.0')['Number_of_Reviews'].mean()\n",
    "#=>94.6063882063882\n",
    "#restorans.query('Price_Range == 2.0')['Number_of_Reviews'].mean()\n",
    "#=>187.20964994229817"
   ]
  },
  {
   "cell_type": "code",
   "execution_count": 20,
   "metadata": {},
   "outputs": [],
   "source": [
    "# Заментим пропуски в колонке Price_Range исходя из выявленной зависимости.\n",
    "def fix(x):\n",
    "    '''Функция предназначена для замены пустых значений в колонке Price_Range, \n",
    "       в зависимости от количества отзывов о ресторане'''\n",
    "    if (np.isnan(x['Price_Range'])) and (x['Number_of_Reviews'] <= 95.0):\n",
    "        return 1.0\n",
    "    elif (np.isnan(x['Price_Range'])) and (x['Number_of_Reviews'] <= 380.8):\n",
    "        return 2.0\n",
    "    else:\n",
    "        return 3.0\n",
    "\n",
    "restorans['Price_Range']=restorans.apply(lambda x: fix(x), axis=1)"
   ]
  },
  {
   "cell_type": "code",
   "execution_count": 21,
   "metadata": {},
   "outputs": [],
   "source": [
    "# Применим к столбцу Price_Range концепцию dummy variables.\n",
    "dummies = pd.get_dummies(restorans['Price_Range'])\n",
    "restorans = pd.concat([restorans, dummies], axis = 1)"
   ]
  },
  {
   "cell_type": "code",
   "execution_count": 87,
   "metadata": {},
   "outputs": [
    {
     "data": {
      "text/plain": [
       "Index(['London', 'Paris', 'Barcelona', 'Madrid', 'Rome', 'Berlin', 'Milan',\n",
       "       'Prague', 'Amsterdam', 'Lisbon'],\n",
       "      dtype='object')"
      ]
     },
     "execution_count": 87,
     "metadata": {},
     "output_type": "execute_result"
    }
   ],
   "source": [
    "restorans['City'].value_counts()[0:10].index"
   ]
  },
  {
   "cell_type": "code",
   "execution_count": 86,
   "metadata": {},
   "outputs": [
    {
     "data": {
      "image/png": "[encoded data removed]",
      "text/plain": [
       "<Figure size 720x504 with 1 Axes>"
      ]
     },
     "metadata": {
      "needs_background": "light"
     },
     "output_type": "display_data"
    }
   ],
   "source": [
    "# Рассмотрим колонку Ranking\n",
    "plt.rcParams['figure.figsize'] = (10,7)\n",
    "restorans['Ranking'].hist(bins=100)\n",
    "plt.xlabel('Ranking', size = 12); plt.ylabel('Кол-во ресторанов', size = 12)"
   ]
  },
  {
   "cell_type": "markdown",
   "metadata": {},
   "source": [
    "Большинство ресторанов имеют низкие рейтинги с своем городе"
   ]
  },
  {
   "cell_type": "code",
   "execution_count": 92,
   "metadata": {},
   "outputs": [
    {
     "data": {
      "image/png": "[encoded data removed]",
      "text/plain": [
       "<Figure size 720x504 with 1 Axes>"
      ]
     },
     "metadata": {
      "needs_background": "light"
     },
     "output_type": "display_data"
    }
   ],
   "source": [
    "# Рассмотрим распределение признака Ranking по городам\n",
    "for x in (restorans['City'].value_counts())[0:10].index:\n",
    "    restorans['Ranking'][restorans['City'] == x].hist(bins=100)\n",
    "plt.xlabel('Ranking', size = 12); plt.ylabel('Кол-во ресторанов', size = 12);"
   ]
  },
  {
   "cell_type": "markdown",
   "metadata": {},
   "source": [
    "Для каждого города распределение признака Ranking сильно разнится, Ranking для одного города имеет \n",
    "нормальное распределение, просто в больших городах больше ресторанов, из-за этого имеется смещение."
   ]
  },
  {
   "cell_type": "code",
   "execution_count": 22,
   "metadata": {},
   "outputs": [
    {
     "data": {
      "text/plain": [
       "array(['Paris', 'Stockholm', 'London', 'Berlin', 'Munich', 'Oporto',\n",
       "       'Milan', 'Bratislava', 'Vienna', 'Rome', 'Barcelona', 'Madrid',\n",
       "       'Dublin', 'Brussels', 'Zurich', 'Warsaw', 'Budapest', 'Copenhagen',\n",
       "       'Amsterdam', 'Lyon', 'Hamburg', 'Lisbon', 'Prague', 'Oslo',\n",
       "       'Helsinki', 'Edinburgh', 'Geneva', 'Ljubljana', 'Athens',\n",
       "       'Luxembourg', 'Krakow'], dtype=object)"
      ]
     },
     "execution_count": 22,
     "metadata": {},
     "output_type": "execute_result"
    }
   ],
   "source": [
    "# Рассмотрим колонку City\n",
    "restorans['City'].unique()"
   ]
  },
  {
   "cell_type": "code",
   "execution_count": null,
   "metadata": {},
   "outputs": [],
   "source": [
    "# Создадим новый признак - количество ресторанов в городе.\n",
    "num = restorans['City'].value_counts().to_dict()\n",
    "restorans['Number_of_Rest'] = restorans.City.apply(lambda x: num[x])"
   ]
  },
  {
   "cell_type": "code",
   "execution_count": 95,
   "metadata": {},
   "outputs": [],
   "source": [
    "# Создадим новый признак - место, которое занимает ресторан в своем городе(аналог Ranking).\n",
    "restorans['Ranking_for_city'] = restorans['Ranking']/restorans['Number_of_Rest']"
   ]
  },
  {
   "cell_type": "code",
   "execution_count": 23,
   "metadata": {},
   "outputs": [],
   "source": [
    "# Для колонки City создадим категориальный признак с помощью one-hot-кодирования.\n",
    "one = OneHotEncoder(sparse = False)\n",
    "new_one_features = one.fit_transform(restorans.City.values.reshape(-1,1))\n",
    "tmp = pd.DataFrame(new_one_features, columns = ['City№' + str(i) for i in range(new_one_features.shape[1])])\n",
    "restorans = pd.concat([restorans, tmp], axis = 1) "
   ]
  },
  {
   "cell_type": "code",
   "execution_count": 24,
   "metadata": {},
   "outputs": [],
   "source": [
    "# Переименуем колонки в соответствии с названием городов.\n",
    "columns = ['Restaurant_id', 'City', 'Cuisine_Style', 'Ranking', 'Rating', 'Price_Range', \n",
    "           'Number_of_Reviews', 'Reviews', 'URL_TA', 'ID_TA', 'Low_price', 'Average_price', 'High_price', \n",
    "           'Amsterdam', 'Athens', 'Barcelona', 'Berlin', 'Bratislava', 'Brussels', 'Budapest', 'Copenhagen', \n",
    "           'Dublin', 'Edinburgh', 'Geneva', 'Hamburg', 'Helsinki', 'Krakow', 'Lisbon', \n",
    "           'Ljubljana', 'London', 'Luxembourg', 'Lyon', 'Madrid', 'Milan', 'Munich', 'Oporto', \n",
    "           'Oslo', 'Paris', 'Prague', 'Rome', 'Stockholm', 'Vienna', 'Warsaw', 'Zurich']\n",
    "restorans.columns = columns"
   ]
  },
  {
   "cell_type": "code",
   "execution_count": 26,
   "metadata": {},
   "outputs": [],
   "source": [
    "# Создадим новый признак - население (количество человек в миллионах)\n",
    "city_dict = {'Paris':'2.24', 'Stockholm':'1.98', 'London':'8.96', 'Berlin':'3.32', 'Munich':'1.36', \n",
    "             'Oporto':'0.21', 'Milan':'1.33', 'Bratislava':'0.42', 'Vienna':'1.9', 'Rome':'2.87', \n",
    "             'Barcelona':'1.6', 'Madrid':'3.22', 'Dublin':'0.54', 'Brussels':'0.18', 'Zurich':'0.4', \n",
    "             'Warsaw':'1.77', 'Budapest':'1.76', 'Copenhagen':'0.6', 'Amsterdam':'0.82', 'Lyon':'0.51', \n",
    "             'Hamburg':'1.84', 'Lisbon':'0.5', 'Prague':'1.3', 'Oslo':'0.63', 'Helsinki':'0.63', \n",
    "             'Edinburgh':'0.48', 'Geneva':'0.2', 'Ljubljana':'0.28', 'Athens':'0.66', 'Luxembourg':'0.63', \n",
    "             'Krakow':'0.77',\n",
    "}\n",
    "city_dict\n",
    "restorans['Number_of_People'] = restorans.City.apply(lambda x: city_dict[x])"
   ]
  },
  {
   "cell_type": "code",
   "execution_count": 27,
   "metadata": {},
   "outputs": [],
   "source": [
    "# Переведем данные в формат float\n",
    "restorans['Number_of_People'] = [float(i) for i in restorans['Number_of_People'].values]"
   ]
  },
  {
   "cell_type": "code",
   "execution_count": 28,
   "metadata": {},
   "outputs": [
    {
     "data": {
      "text/plain": [
       "\"[['Good food at your doorstep', 'A good hotel restaurant'], ['12/31/2017', '11/20/2017']]\""
      ]
     },
     "execution_count": 28,
     "metadata": {},
     "output_type": "execute_result"
    }
   ],
   "source": [
    "# Проанализируем данные в колонке Reviews.\n",
    "restorans['Reviews'][0]"
   ]
  },
  {
   "cell_type": "code",
   "execution_count": 29,
   "metadata": {},
   "outputs": [],
   "source": [
    "# Разделим отзывы и даты отзывов на две колонки.\n",
    "date_regex=r'\\b(0[1-9]|1[012])[- /.](0[1-9]|[12][0-9]|3[01])[- /.](19|20\\d\\d)\\b'\n",
    "dates = []\n",
    "for review in restorans['Reviews']:\n",
    "    date = re.findall(date_regex, review)\n",
    "    dates.append(['/'.join(map(str, x)) for x in date])\n",
    "\n",
    "restorans['Date_of_Reviews'] = dates"
   ]
  },
  {
   "cell_type": "code",
   "execution_count": 30,
   "metadata": {},
   "outputs": [],
   "source": [
    "reviews_regex=r'[A-Za-z]+'\n",
    "reviews = []\n",
    "for review in restorans['Reviews']:\n",
    "    result = re.findall(reviews_regex, review)\n",
    "    reviews.append([''.join(map(str, x)) for x in result])\n",
    "\n",
    "restorans['Reviews'] = reviews"
   ]
  },
  {
   "cell_type": "code",
   "execution_count": 31,
   "metadata": {},
   "outputs": [],
   "source": [
    "# Уберем заглавные буквы в отзывах\n",
    "restorans['Reviews'] = restorans['Reviews'].apply(lambda x: [w.lower() for w in x])"
   ]
  },
  {
   "cell_type": "code",
   "execution_count": 32,
   "metadata": {},
   "outputs": [],
   "source": [
    "def good_reviews(x):\n",
    "    '''Функция предназначена для нахождения в столбце Reviews позитивных слов из заданных в списке good_reviews, \n",
    "       если слово присутствует, то функция вернет единицу'''\n",
    "    good_reviews = ['good', 'unique', 'best', 'great', 'lovely', 'nice', 'cool', 'amazing', 'enjoy', \n",
    "                    'awesome', 'excellent', 'cosy', 'beautiful', 'tasty', 'delicious', 'love','charming', \n",
    "                    'friendly', 'perfect', 'yummy']\n",
    "    for i in good_reviews:\n",
    "        for review in x[\"Reviews\"]:\n",
    "            if i in review:\n",
    "                return 1        "
   ]
  },
  {
   "cell_type": "code",
   "execution_count": 33,
   "metadata": {},
   "outputs": [],
   "source": [
    "# Получим примерную оценку отзывам\n",
    "restorans['GoB_reviews'] = restorans.apply(lambda x: good_reviews(x), axis=1)"
   ]
  },
  {
   "cell_type": "code",
   "execution_count": 34,
   "metadata": {},
   "outputs": [],
   "source": [
    "restorans['GoB_reviews'].fillna(0, inplace=True)"
   ]
  },
  {
   "cell_type": "code",
   "execution_count": 35,
   "metadata": {},
   "outputs": [],
   "source": [
    "# Добавим новую колонку - количество слов в отзыве.\n",
    "review_length = restorans[\"Reviews\"].apply(len)\n",
    "restorans['Review_Length'] = review_length.values "
   ]
  },
  {
   "cell_type": "code",
   "execution_count": 36,
   "metadata": {},
   "outputs": [
    {
     "name": "stdout",
     "output_type": "stream",
     "text": [
      "2018-02-26 00:00:00\n"
     ]
    }
   ],
   "source": [
    "# Найдем дату последнего оставленного отзыва.\n",
    "datetime_list = []\n",
    "for dates in restorans['Date_of_Reviews'].values:\n",
    "    for date in dates:\n",
    "        datetime_list.append(datetime.strptime(date, '%m/%d/%Y'))\n",
    "print(max(datetime_list))"
   ]
  },
  {
   "cell_type": "code",
   "execution_count": 37,
   "metadata": {},
   "outputs": [],
   "source": [
    "# Для удобства разделим колонку Date_of_Reviews на две.\n",
    "restorans['Date_of_Reviews'] = [str(i) for i in restorans['Date_of_Reviews'].values]\n",
    "restorans['Date_of_Reviews'] = restorans['Date_of_Reviews'].str.strip('[]')\n",
    "restorans[['Date_№1', 'Date_№2']] = restorans['Date_of_Reviews'].str.split(', ', 1, expand=True)"
   ]
  },
  {
   "cell_type": "code",
   "execution_count": 38,
   "metadata": {},
   "outputs": [],
   "source": [
    "# Приведем колонки к формату datetime.\n",
    "restorans['Date_№1'] = restorans['Date_№1'].apply(lambda x: x.replace(\"'\",\"\"))\n",
    "restorans['Date_№2'] = restorans['Date_№2'].fillna('')\n",
    "restorans['Date_№2'] = restorans['Date_№2'].apply(lambda x: x.replace(\"'\",\"\"))\n",
    "restorans[\"Date_№1\"] = pd.to_datetime(restorans[\"Date_№1\"])\n",
    "restorans[\"Date_№2\"] = pd.to_datetime(restorans[\"Date_№2\"])"
   ]
  },
  {
   "cell_type": "code",
   "execution_count": 39,
   "metadata": {},
   "outputs": [
    {
     "name": "stdout",
     "output_type": "stream",
     "text": [
      "25-й перцентиль: 2017-03-08 00:00:00, 75-й перцентиль: 2017-12-06 00:00:00, IQR: 273 days 00:00:00,  Границы выбросов: [2016-01-23 12:00:00, 2019-01-19 12:00:00].\n"
     ]
    }
   ],
   "source": [
    "# Проверим колонки с датами отзывов на выбросы воспользовавшись формулой интерквартильного расстояния.\n",
    "IQR = restorans[\"Date_№1\"].quantile(0.75) - restorans[\"Date_№1\"].quantile(0.25)\n",
    "perc25 = restorans[\"Date_№1\"].quantile(0.25)\n",
    "perc75 = restorans[\"Date_№1\"].quantile(0.75)\n",
    " \n",
    "print(\n",
    "'25-й перцентиль: {},'.format(perc25),\n",
    "'75-й перцентиль: {},'.format(perc75),\n",
    "\"IQR: {}, \".format(IQR),\n",
    "\"Границы выбросов: [{f}, {l}].\".format(f=perc25 - 1.5*IQR, l=perc75 + 1.5*IQR))"
   ]
  },
  {
   "cell_type": "code",
   "execution_count": 40,
   "metadata": {},
   "outputs": [
    {
     "name": "stdout",
     "output_type": "stream",
     "text": [
      "25-й перцентиль: 2016-11-17 00:00:00, 75-й перцентиль: 2017-11-01 00:00:00, IQR: 349 days 00:00:00,  Границы выбросов: [2015-06-12 12:00:00, 2019-04-08 12:00:00].\n"
     ]
    }
   ],
   "source": [
    "IQR = restorans[\"Date_№2\"].quantile(0.75) - restorans[\"Date_№2\"].quantile(0.25)\n",
    "perc25 = restorans[\"Date_№2\"].quantile(0.25)\n",
    "perc75 = restorans[\"Date_№2\"].quantile(0.75)\n",
    " \n",
    "print(\n",
    "'25-й перцентиль: {},'.format(perc25),\n",
    "'75-й перцентиль: {},'.format(perc75),\n",
    "\"IQR: {}, \".format(IQR),\n",
    "\"Границы выбросов: [{f}, {l}].\".format(f=perc25 - 1.5*IQR, l=perc75 + 1.5*IQR))"
   ]
  },
  {
   "cell_type": "code",
   "execution_count": 41,
   "metadata": {},
   "outputs": [],
   "source": [
    "# Удалим строки с датами отзывов, которые выходят за границу выбросов.\n",
    "restorans = restorans[restorans[\"Date_№1\"].dt.year >= 2015]\n",
    "restorans = restorans[restorans[\"Date_№2\"].dt.year >= 2015]"
   ]
  },
  {
   "cell_type": "code",
   "execution_count": 42,
   "metadata": {},
   "outputs": [],
   "source": [
    "# Создадаим новую колонку - количество дней между первыми двумя отзывами\n",
    "restorans['Delta'] = restorans[\"Date_№1\"] - restorans[\"Date_№2\"]"
   ]
  },
  {
   "cell_type": "code",
   "execution_count": 43,
   "metadata": {},
   "outputs": [],
   "source": [
    "restorans['Delta'] = [int(i) for i in restorans['Delta'].values]"
   ]
  },
  {
   "cell_type": "code",
   "execution_count": 44,
   "metadata": {},
   "outputs": [
    {
     "data": {
      "text/plain": [
       "\"['European', 'French', 'International']\""
      ]
     },
     "execution_count": 44,
     "metadata": {},
     "output_type": "execute_result"
    }
   ],
   "source": [
    "# Проанализируем данные в колонке Cuisine_Style \n",
    "restorans['Cuisine_Style'][0]"
   ]
  },
  {
   "cell_type": "code",
   "execution_count": 45,
   "metadata": {},
   "outputs": [],
   "source": [
    "# Удалим строки с пропущенными значениями в столбце Cuisine_Style\n",
    "restorans = restorans[restorans['Cuisine_Style'].notna()]"
   ]
  },
  {
   "cell_type": "code",
   "execution_count": 46,
   "metadata": {},
   "outputs": [],
   "source": [
    "# Уберем лишние символы и представим данные в виде списка\n",
    "restorans['Cuisine_Style'] = restorans['Cuisine_Style'].str.strip('[]')\n",
    "restorans['Cuisine_Style'] = restorans['Cuisine_Style'].apply(lambda x: x.replace(\"'\",\"\"))\n",
    "restorans['Cuisine_Style'] = restorans['Cuisine_Style'].apply(lambda x: x.split(\", \"))"
   ]
  },
  {
   "cell_type": "code",
   "execution_count": 47,
   "metadata": {},
   "outputs": [
    {
     "data": {
      "text/plain": [
       "151"
      ]
     },
     "execution_count": 47,
     "metadata": {},
     "output_type": "execute_result"
    }
   ],
   "source": [
    "# Найдем количество разных типов кухнь в данных.\n",
    "list_of_cuisines = set()\n",
    "for cuisines in restorans[\"Cuisine_Style\"]:\n",
    "    for cuisine in cuisines:\n",
    "        list_of_cuisines.add(cuisine)\n",
    "len(list_of_cuisines)"
   ]
  },
  {
   "cell_type": "code",
   "execution_count": 48,
   "metadata": {},
   "outputs": [
    {
     "name": "stdout",
     "output_type": "stream",
     "text": [
      "['Vegetarian Friendly']\n"
     ]
    }
   ],
   "source": [
    "# Найдем самую популярную кухню.\n",
    "count = Counter()\n",
    "for cuisines in restorans[\"Cuisine_Style\"]:\n",
    "    for cuisine in cuisines:\n",
    "        count[cuisine] += 1\n",
    "        \n",
    "max_cuisine = max(count.values())\n",
    "print(get_key(count, max_cuisine))"
   ]
  },
  {
   "cell_type": "code",
   "execution_count": 49,
   "metadata": {},
   "outputs": [],
   "source": [
    "# Сгруппируем кухни по происхождению для создания новых признаков.\n",
    "north_america = ['Fast Food', 'FastFood', 'American', 'Hawaiian', 'Barbecue', 'Central American', 'CentralAmerican',\n",
    "                 'Canadian', 'Native American', 'Steakhouse', 'Gastropub', 'QuickBites',\n",
    "                 'Salvadoran', 'Cajun & Creole', 'Cajun&Creole', 'Southwestern']\n",
    "south_america = ['Mexican', 'South American', 'SouthAmerican', 'Latin', 'Brazilian', 'Argentinean', \n",
    "                 'Peruvian', 'Venezuelan', 'Chilean', 'Ecuadorean', 'Colombian']\n",
    "northern_europe = ['Scandinavian', 'Danish', 'Swedish', 'Norwegian', 'Latvian', \n",
    "                   'Caribbean', 'Cuban', 'Venezuelan']\n",
    "western_europe = ['British', 'Central European', 'CentralEuropean', 'German', 'Dutch', 'Irish', \n",
    "                  'Belgian', 'Swiss', 'Scottish', 'European', 'French', 'Austrian', 'Welsh']\n",
    "eastern_europe = ['Czech', 'Eastern European', 'EasternEuropean', 'Polish', 'Hungarian', 'Russian', 'Ukrainian', \n",
    "                  'Balti', 'Romanian']\n",
    "southern_europe = ['Portuguese', 'Greek', 'Slovenian', 'Spanish', 'Italian', 'Pizza', 'Basque', 'CentralItalian',\n",
    "                   'Albanian', 'Mediterranean', 'Croatian', 'Catalan', 'Emilian', 'Lazio', 'Lombard', 'Neapolitan',\n",
    "                   'NorthernItalian', 'Romagna', 'Romana', 'SouthernItalian']\n",
    "east_and_central_asia = ['Minority Chinese', 'Chinese', 'Sushi', 'Japanese', 'Central Asian', 'Korean', \n",
    "                         'Taiwanese', 'Seafood', 'Asian', 'Tibetan', 'Mongolian', 'Fujian', 'Yunnan', \n",
    "                         'Xinjiang', 'BeijingSpecialties', 'Cantonese', 'Central Asian', 'JapaneseFusion', 'Xinjiang']\n",
    "south_asia = ['Indian', 'Pakistani', 'Bangladeshi', 'Sri Lankan', 'Jamaican', 'Nepali']\n",
    "western_asia = ['Israeli', 'Turkish', 'Azerbaijani', 'Armenian', 'Halal', 'Middle Eastern', 'Deli', 'MiddleEastern',\n",
    "                'Lebanese', 'Georgian', 'Persian', 'Kosher']\n",
    "сaucasus = ['Uzbek', 'Afghani', 'Caucasian'] \n",
    "southeast_asia = ['Vietnamese', 'Thai', 'Singaporean', 'Filipino', 'Indonesian', 'Malaysian', 'Cambodian', 'Burmese']\n",
    "africa = ['African', 'Moroccan', 'Tunisian', 'Egyptian', 'Arabic', 'Ethiopian']\n",
    "special = ['Vegetarian Friendly', 'Vegan Options', 'VeganOptions', 'Gluten Free Options', 'Healthy', 'GlutenFreeOptions']\n",
    "alcohol = ['Bar', 'Pub', 'Wine Bar', 'Brew Pub', 'BrewPub', 'Beerrestaurants', 'WineBar']\n",
    "australia = ['Australian', 'New Zealand', 'Polynesian']\n",
    "other_cuisines = ['Cafe', 'International', 'Fusion', 'Contemporary', 'Soups', 'Grill', 'Diningbars', \n",
    "                  'Delicatessen', 'Diner', 'Street Food', 'Bakeries', 'Campania', 'Dessert', \n",
    "                  'SpecialtyFoodMarket', 'StreetFood']"
   ]
  },
  {
   "cell_type": "code",
   "execution_count": 50,
   "metadata": {},
   "outputs": [],
   "source": [
    "def cuisines(x, list_of_cuisines):\n",
    "    '''Функция предназначена для нахождения в столбце Cuisine_Style кухонь из заданных в списке list_of_cuisines, \n",
    "       если кухня присутствует, то функция вернет единицу'''\n",
    "    for i in list_of_cuisines:\n",
    "        for cuisines in x[\"Cuisine_Style\"]:\n",
    "            if i in cuisines:\n",
    "                return 1"
   ]
  },
  {
   "cell_type": "code",
   "execution_count": 51,
   "metadata": {},
   "outputs": [],
   "source": [
    "# Создаем новые признаки на основе вышезаданных списков кухонь, применяя функцию cuisines(x, list_of_cuisines).\n",
    "restorans['North_America']=restorans.apply(lambda x: cuisines(x, north_america), axis=1)\n",
    "restorans['South_America']=restorans.apply(lambda x: cuisines(x, south_america), axis=1)\n",
    "restorans['Northern_Europe']=restorans.apply(lambda x: cuisines(x, northern_europe), axis=1)\n",
    "restorans['Western_Europe']=restorans.apply(lambda x: cuisines(x, western_europe), axis=1)\n",
    "restorans['Eastern_Europe']=restorans.apply(lambda x: cuisines(x, eastern_europe), axis=1)\n",
    "restorans['Southern_Europe']=restorans.apply(lambda x: cuisines(x, southern_europe), axis=1)\n",
    "restorans['East_and_Central_Asia']=restorans.apply(lambda x: cuisines(x, east_and_central_asia), axis=1)\n",
    "restorans['South_Asia']=restorans.apply(lambda x: cuisines(x, south_asia), axis=1)\n",
    "restorans['Western_Asia']=restorans.apply(lambda x: cuisines(x, western_asia), axis=1)\n",
    "restorans['Caucasus']=restorans.apply(lambda x: cuisines(x, сaucasus), axis=1)\n",
    "restorans['Southeast_Asia']=restorans.apply(lambda x: cuisines(x, southeast_asia), axis=1)\n",
    "restorans['Africa']=restorans.apply(lambda x: cuisines(x, africa), axis=1)\n",
    "restorans['Special']=restorans.apply(lambda x: cuisines(x, special), axis=1)\n",
    "restorans['Alcohol']=restorans.apply(lambda x: cuisines(x, alcohol), axis=1)\n",
    "restorans['Australia']=restorans.apply(lambda x: cuisines(x, australia), axis=1)\n",
    "restorans['Other_Cuisines']=restorans.apply(lambda x: cuisines(x, other_cuisines), axis=1)"
   ]
  },
  {
   "cell_type": "code",
   "execution_count": 52,
   "metadata": {},
   "outputs": [],
   "source": [
    "# Заполняем пропуски в новых признаках.\n",
    "restorans['North_America'].fillna(0, inplace=True)\n",
    "restorans['South_America'].fillna(0, inplace=True)\n",
    "restorans['Northern_Europe'].fillna(0, inplace=True)\n",
    "restorans['Western_Europe'].fillna(0, inplace=True)\n",
    "restorans['Eastern_Europe'].fillna(0, inplace=True)\n",
    "restorans['Southern_Europe'].fillna(0, inplace=True)\n",
    "restorans['East_and_Central_Asia'].fillna(0, inplace=True)\n",
    "restorans['South_Asia'].fillna(0, inplace=True)\n",
    "restorans['Western_Asia'].fillna(0, inplace=True)\n",
    "restorans['Caucasus'].fillna(0, inplace=True)\n",
    "restorans['Southeast_Asia'].fillna(0, inplace=True)\n",
    "restorans['Africa'].fillna(0, inplace=True)\n",
    "restorans['Special'].fillna(0, inplace=True)\n",
    "restorans['Alcohol'].fillna(0, inplace=True)\n",
    "restorans['Australia'].fillna(0, inplace=True)\n",
    "restorans['Other_Cuisines'].fillna(0, inplace=True)"
   ]
  },
  {
   "cell_type": "code",
   "execution_count": null,
   "metadata": {},
   "outputs": [],
   "source": [
    "# Добавим новую колонку - количество типов кухонь в ресторане.\n",
    "Number_of_cuisines = restorans[\"Cuisine_Style\"].apply(len)\n",
    "restorans['Number_of_cuisines'] = Number_of_cuisines.values "
   ]
  },
  {
   "cell_type": "code",
   "execution_count": 54,
   "metadata": {},
   "outputs": [
    {
     "data": {
      "text/plain": [
       "3.3555990633037736"
      ]
     },
     "execution_count": 54,
     "metadata": {},
     "output_type": "execute_result"
    }
   ],
   "source": [
    "# Найдем среднее количество типов кухонь, предлагаемых в одном ресторане.\n",
    "restorans['Number_of_cuisines'].mean()"
   ]
  },
  {
   "cell_type": "code",
   "execution_count": 97,
   "metadata": {},
   "outputs": [],
   "source": [
    "df = restorans.copy()\n",
    "df = df.drop(['Restaurant_id', 'City', 'Cuisine_Style', 'Reviews', 'URL_TA', 'ID_TA', 'Price_Range', \n",
    "              'Date_of_Reviews'], axis = 1)"
   ]
  },
  {
   "cell_type": "code",
   "execution_count": 98,
   "metadata": {},
   "outputs": [
    {
     "name": "stdout",
     "output_type": "stream",
     "text": [
      "<class 'pandas.core.frame.DataFrame'>\n",
      "Int64Index: 26049 entries, 0 to 39998\n",
      "Data columns (total 62 columns):\n",
      " #   Column                 Non-Null Count  Dtype         \n",
      "---  ------                 --------------  -----         \n",
      " 0   Ranking                26049 non-null  float64       \n",
      " 1   Rating                 26049 non-null  float64       \n",
      " 2   Number_of_Reviews      26049 non-null  float64       \n",
      " 3   Low_price              26049 non-null  uint8         \n",
      " 4   Average_price          26049 non-null  uint8         \n",
      " 5   High_price             26049 non-null  uint8         \n",
      " 6   Amsterdam              26049 non-null  float64       \n",
      " 7   Athens                 26049 non-null  float64       \n",
      " 8   Barcelona              26049 non-null  float64       \n",
      " 9   Berlin                 26049 non-null  float64       \n",
      " 10  Bratislava             26049 non-null  float64       \n",
      " 11  Brussels               26049 non-null  float64       \n",
      " 12  Budapest               26049 non-null  float64       \n",
      " 13  Copenhagen             26049 non-null  float64       \n",
      " 14  Dublin                 26049 non-null  float64       \n",
      " 15  Edinburgh              26049 non-null  float64       \n",
      " 16  Geneva                 26049 non-null  float64       \n",
      " 17  Hamburg                26049 non-null  float64       \n",
      " 18  Helsinki               26049 non-null  float64       \n",
      " 19  Krakow                 26049 non-null  float64       \n",
      " 20  Lisbon                 26049 non-null  float64       \n",
      " 21  Ljubljana              26049 non-null  float64       \n",
      " 22  London                 26049 non-null  float64       \n",
      " 23  Luxembourg             26049 non-null  float64       \n",
      " 24  Lyon                   26049 non-null  float64       \n",
      " 25  Madrid                 26049 non-null  float64       \n",
      " 26  Milan                  26049 non-null  float64       \n",
      " 27  Munich                 26049 non-null  float64       \n",
      " 28  Oporto                 26049 non-null  float64       \n",
      " 29  Oslo                   26049 non-null  float64       \n",
      " 30  Paris                  26049 non-null  float64       \n",
      " 31  Prague                 26049 non-null  float64       \n",
      " 32  Rome                   26049 non-null  float64       \n",
      " 33  Stockholm              26049 non-null  float64       \n",
      " 34  Vienna                 26049 non-null  float64       \n",
      " 35  Warsaw                 26049 non-null  float64       \n",
      " 36  Zurich                 26049 non-null  float64       \n",
      " 37  Number_of_Rest         26049 non-null  int64         \n",
      " 38  Number_of_People       26049 non-null  float64       \n",
      " 39  GoB_reviews            26049 non-null  float64       \n",
      " 40  Review_Length          26049 non-null  int64         \n",
      " 41  Date_№1                26049 non-null  datetime64[ns]\n",
      " 42  Date_№2                26049 non-null  datetime64[ns]\n",
      " 43  Delta                  26049 non-null  int64         \n",
      " 44  North_America          26049 non-null  float64       \n",
      " 45  South_America          26049 non-null  float64       \n",
      " 46  Northern_Europe        26049 non-null  float64       \n",
      " 47  Western_Europe         26049 non-null  float64       \n",
      " 48  Eastern_Europe         26049 non-null  float64       \n",
      " 49  Southern_Europe        26049 non-null  float64       \n",
      " 50  East_and_Central_Asia  26049 non-null  float64       \n",
      " 51  South_Asia             26049 non-null  float64       \n",
      " 52  Western_Asia           26049 non-null  float64       \n",
      " 53  Caucasus               26049 non-null  float64       \n",
      " 54  Southeast_Asia         26049 non-null  float64       \n",
      " 55  Africa                 26049 non-null  float64       \n",
      " 56  Special                26049 non-null  float64       \n",
      " 57  Alcohol                26049 non-null  float64       \n",
      " 58  Australia              26049 non-null  float64       \n",
      " 59  Other_Cuisines         26049 non-null  float64       \n",
      " 60  Number_of_cuisines     26049 non-null  int64         \n",
      " 61  Ranking_for_city       26049 non-null  float64       \n",
      "dtypes: datetime64[ns](2), float64(53), int64(4), uint8(3)\n",
      "memory usage: 12.0 MB\n"
     ]
    }
   ],
   "source": [
    "# Все данные являются числовыми\n",
    "df.info()"
   ]
  },
  {
   "cell_type": "code",
   "execution_count": 99,
   "metadata": {},
   "outputs": [
    {
     "data": {
      "text/html": [
       "<div>\n",
       "<style scoped>\n",
       "    .dataframe tbody tr th:only-of-type {\n",
       "        vertical-align: middle;\n",
       "    }\n",
       "\n",
       "    .dataframe tbody tr th {\n",
       "        vertical-align: top;\n",
       "    }\n",
       "\n",
       "    .dataframe thead th {\n",
       "        text-align: right;\n",
       "    }\n",
       "</style>\n",
       "<table border=\"1\" class=\"dataframe\">\n",
       "  <thead>\n",
       "    <tr style=\"text-align: right;\">\n",
       "      <th></th>\n",
       "      <th>Ranking</th>\n",
       "      <th>Rating</th>\n",
       "      <th>Number_of_Reviews</th>\n",
       "      <th>Low_price</th>\n",
       "      <th>High_price</th>\n",
       "      <th>Amsterdam</th>\n",
       "      <th>Krakow</th>\n",
       "      <th>Number_of_Rest</th>\n",
       "      <th>Review_Length</th>\n",
       "      <th>North_America</th>\n",
       "      <th>South_Asia</th>\n",
       "      <th>Special</th>\n",
       "      <th>Average_price</th>\n",
       "      <th>Number_of_cuisines</th>\n",
       "      <th>Eastern_Europe</th>\n",
       "      <th>Copenhagen</th>\n",
       "      <th>GoB_reviews</th>\n",
       "      <th>Western_Europe</th>\n",
       "      <th>Ranking_for_city</th>\n",
       "    </tr>\n",
       "  </thead>\n",
       "  <tbody>\n",
       "    <tr>\n",
       "      <th>0</th>\n",
       "      <td>5570.0</td>\n",
       "      <td>3.5</td>\n",
       "      <td>194.0</td>\n",
       "      <td>0</td>\n",
       "      <td>1</td>\n",
       "      <td>0.0</td>\n",
       "      <td>0.0</td>\n",
       "      <td>4897</td>\n",
       "      <td>9</td>\n",
       "      <td>0.0</td>\n",
       "      <td>0.0</td>\n",
       "      <td>0.0</td>\n",
       "      <td>0</td>\n",
       "      <td>3</td>\n",
       "      <td>0.0</td>\n",
       "      <td>0.0</td>\n",
       "      <td>1.0</td>\n",
       "      <td>1.0</td>\n",
       "      <td>1.137431</td>\n",
       "    </tr>\n",
       "    <tr>\n",
       "      <th>1</th>\n",
       "      <td>1537.0</td>\n",
       "      <td>4.0</td>\n",
       "      <td>10.0</td>\n",
       "      <td>1</td>\n",
       "      <td>0</td>\n",
       "      <td>0.0</td>\n",
       "      <td>0.0</td>\n",
       "      <td>820</td>\n",
       "      <td>5</td>\n",
       "      <td>0.0</td>\n",
       "      <td>1.0</td>\n",
       "      <td>0.0</td>\n",
       "      <td>0</td>\n",
       "      <td>2</td>\n",
       "      <td>0.0</td>\n",
       "      <td>0.0</td>\n",
       "      <td>1.0</td>\n",
       "      <td>0.0</td>\n",
       "      <td>1.874390</td>\n",
       "    </tr>\n",
       "    <tr>\n",
       "      <th>2</th>\n",
       "      <td>353.0</td>\n",
       "      <td>4.5</td>\n",
       "      <td>688.0</td>\n",
       "      <td>0</td>\n",
       "      <td>1</td>\n",
       "      <td>0.0</td>\n",
       "      <td>0.0</td>\n",
       "      <td>5757</td>\n",
       "      <td>6</td>\n",
       "      <td>0.0</td>\n",
       "      <td>0.0</td>\n",
       "      <td>1.0</td>\n",
       "      <td>0</td>\n",
       "      <td>7</td>\n",
       "      <td>0.0</td>\n",
       "      <td>0.0</td>\n",
       "      <td>0.0</td>\n",
       "      <td>0.0</td>\n",
       "      <td>0.061317</td>\n",
       "    </tr>\n",
       "    <tr>\n",
       "      <th>4</th>\n",
       "      <td>621.0</td>\n",
       "      <td>4.0</td>\n",
       "      <td>84.0</td>\n",
       "      <td>0</td>\n",
       "      <td>1</td>\n",
       "      <td>0.0</td>\n",
       "      <td>0.0</td>\n",
       "      <td>893</td>\n",
       "      <td>14</td>\n",
       "      <td>0.0</td>\n",
       "      <td>0.0</td>\n",
       "      <td>1.0</td>\n",
       "      <td>0</td>\n",
       "      <td>3</td>\n",
       "      <td>0.0</td>\n",
       "      <td>0.0</td>\n",
       "      <td>1.0</td>\n",
       "      <td>1.0</td>\n",
       "      <td>0.695409</td>\n",
       "    </tr>\n",
       "    <tr>\n",
       "      <th>5</th>\n",
       "      <td>1419.0</td>\n",
       "      <td>3.0</td>\n",
       "      <td>2.0</td>\n",
       "      <td>1</td>\n",
       "      <td>0</td>\n",
       "      <td>0.0</td>\n",
       "      <td>0.0</td>\n",
       "      <td>513</td>\n",
       "      <td>13</td>\n",
       "      <td>0.0</td>\n",
       "      <td>0.0</td>\n",
       "      <td>0.0</td>\n",
       "      <td>0</td>\n",
       "      <td>3</td>\n",
       "      <td>0.0</td>\n",
       "      <td>0.0</td>\n",
       "      <td>1.0</td>\n",
       "      <td>1.0</td>\n",
       "      <td>2.766082</td>\n",
       "    </tr>\n",
       "    <tr>\n",
       "      <th>6</th>\n",
       "      <td>1722.0</td>\n",
       "      <td>4.0</td>\n",
       "      <td>50.0</td>\n",
       "      <td>0</td>\n",
       "      <td>1</td>\n",
       "      <td>0.0</td>\n",
       "      <td>0.0</td>\n",
       "      <td>2133</td>\n",
       "      <td>6</td>\n",
       "      <td>0.0</td>\n",
       "      <td>0.0</td>\n",
       "      <td>0.0</td>\n",
       "      <td>0</td>\n",
       "      <td>2</td>\n",
       "      <td>0.0</td>\n",
       "      <td>0.0</td>\n",
       "      <td>1.0</td>\n",
       "      <td>0.0</td>\n",
       "      <td>0.807314</td>\n",
       "    </tr>\n",
       "    <tr>\n",
       "      <th>9</th>\n",
       "      <td>4210.0</td>\n",
       "      <td>4.0</td>\n",
       "      <td>55.0</td>\n",
       "      <td>0</td>\n",
       "      <td>1</td>\n",
       "      <td>0.0</td>\n",
       "      <td>0.0</td>\n",
       "      <td>2078</td>\n",
       "      <td>8</td>\n",
       "      <td>1.0</td>\n",
       "      <td>0.0</td>\n",
       "      <td>0.0</td>\n",
       "      <td>0</td>\n",
       "      <td>3</td>\n",
       "      <td>0.0</td>\n",
       "      <td>0.0</td>\n",
       "      <td>1.0</td>\n",
       "      <td>0.0</td>\n",
       "      <td>2.025987</td>\n",
       "    </tr>\n",
       "  </tbody>\n",
       "</table>\n",
       "</div>"
      ],
      "text/plain": [
       "   Ranking  Rating  Number_of_Reviews  Low_price  High_price  Amsterdam  \\\n",
       "0   5570.0     3.5              194.0          0           1        0.0   \n",
       "1   1537.0     4.0               10.0          1           0        0.0   \n",
       "2    353.0     4.5              688.0          0           1        0.0   \n",
       "4    621.0     4.0               84.0          0           1        0.0   \n",
       "5   1419.0     3.0                2.0          1           0        0.0   \n",
       "6   1722.0     4.0               50.0          0           1        0.0   \n",
       "9   4210.0     4.0               55.0          0           1        0.0   \n",
       "\n",
       "   Krakow  Number_of_Rest  Review_Length  North_America  South_Asia  Special  \\\n",
       "0     0.0            4897              9            0.0         0.0      0.0   \n",
       "1     0.0             820              5            0.0         1.0      0.0   \n",
       "2     0.0            5757              6            0.0         0.0      1.0   \n",
       "4     0.0             893             14            0.0         0.0      1.0   \n",
       "5     0.0             513             13            0.0         0.0      0.0   \n",
       "6     0.0            2133              6            0.0         0.0      0.0   \n",
       "9     0.0            2078              8            1.0         0.0      0.0   \n",
       "\n",
       "   Average_price  Number_of_cuisines  Eastern_Europe  Copenhagen  GoB_reviews  \\\n",
       "0              0                   3             0.0         0.0          1.0   \n",
       "1              0                   2             0.0         0.0          1.0   \n",
       "2              0                   7             0.0         0.0          0.0   \n",
       "4              0                   3             0.0         0.0          1.0   \n",
       "5              0                   3             0.0         0.0          1.0   \n",
       "6              0                   2             0.0         0.0          1.0   \n",
       "9              0                   3             0.0         0.0          1.0   \n",
       "\n",
       "   Western_Europe  Ranking_for_city  \n",
       "0             1.0          1.137431  \n",
       "1             0.0          1.874390  \n",
       "2             0.0          0.061317  \n",
       "4             1.0          0.695409  \n",
       "5             1.0          2.766082  \n",
       "6             0.0          0.807314  \n",
       "9             0.0          2.025987  "
      ]
     },
     "execution_count": 99,
     "metadata": {},
     "output_type": "execute_result"
    }
   ],
   "source": [
    "Corr_df = df[['Ranking', 'Rating', 'Number_of_Reviews', 'Low_price', 'High_price', 'Amsterdam', 'Krakow', \n",
    "              'Number_of_Rest', 'Review_Length', 'North_America', 'South_Asia', 'Special', 'Average_price',\n",
    "              'Number_of_cuisines', 'Eastern_Europe', 'Copenhagen', 'GoB_reviews', 'Western_Europe', 'Ranking_for_city']]\n",
    "Corr_df.head(7)"
   ]
  },
  {
   "cell_type": "code",
   "execution_count": 100,
   "metadata": {},
   "outputs": [
    {
     "data": {
      "text/plain": [
       "<matplotlib.axes._subplots.AxesSubplot at 0x214840a59d0>"
      ]
     },
     "execution_count": 100,
     "metadata": {},
     "output_type": "execute_result"
    },
    {
     "data": {
      "image/png": "[encoded data removed]",
      "text/plain": [
       "<Figure size 1152x432 with 2 Axes>"
      ]
     },
     "metadata": {
      "needs_background": "light"
     },
     "output_type": "display_data"
    }
   ],
   "source": [
    "C = Corr_df.corr(method='pearson')\n",
    "plt.figure(figsize=(16,6)) \n",
    "sns.heatmap(data = C, annot=True)"
   ]
  },
  {
   "cell_type": "markdown",
   "metadata": {},
   "source": [
    "Из корреляционной таблицы видно, что столбцы Low_price и High_price сильно скоррелированны, уберем из данных один из них, \n",
    "также некоторые столбцы с кухнями очень плохо коррелируют с числовой переменной, но их выброс почти не влияет на метрику."
   ]
  },
  {
   "cell_type": "markdown",
   "metadata": {},
   "source": [
    "# Разбиваем датафрейм на части, необходимые для обучения и тестирования модели"
   ]
  },
  {
   "cell_type": "code",
   "execution_count": 109,
   "metadata": {},
   "outputs": [],
   "source": [
    "# Х - данные с информацией о ресторанах, у - целевая переменная (рейтинги ресторанов)\n",
    "X = df.drop(['Rating', 'Date_№1', 'Date_№2', 'High_price' ], axis = 1)\n",
    "y = df['Rating']"
   ]
  },
  {
   "cell_type": "code",
   "execution_count": 60,
   "metadata": {},
   "outputs": [],
   "source": [
    "# Загружаем специальный инструмент для разбивки:\n",
    "from sklearn.model_selection import train_test_split"
   ]
  },
  {
   "cell_type": "code",
   "execution_count": 110,
   "metadata": {},
   "outputs": [],
   "source": [
    "# Наборы данных с меткой \"train\" будут использоваться для обучения модели, \"test\" - для тестирования.\n",
    "# Для тестирования мы будем использовать 25% от исходного датасета.\n",
    "X_train, X_test, y_train, y_test = train_test_split(X, y, test_size=0.25)"
   ]
  },
  {
   "cell_type": "markdown",
   "metadata": {},
   "source": [
    "# Создаём, обучаем и тестируем модель"
   ]
  },
  {
   "cell_type": "code",
   "execution_count": 62,
   "metadata": {},
   "outputs": [],
   "source": [
    "# Импортируем необходимые библиотеки:\n",
    "from sklearn.ensemble import RandomForestRegressor # инструмент для создания и обучения модели\n",
    "from sklearn import metrics # инструменты для оценки точности модели"
   ]
  },
  {
   "cell_type": "code",
   "execution_count": 111,
   "metadata": {},
   "outputs": [],
   "source": [
    "# Создаём модель\n",
    "regr = RandomForestRegressor(n_estimators=100)\n",
    "\n",
    "# Обучаем модель на тестовом наборе данных\n",
    "regr.fit(X_train, y_train)\n",
    "\n",
    "# Используем обученную модель для предсказания рейтинга ресторанов в тестовой выборке.\n",
    "# Предсказанные значения записываем в переменную y_pred\n",
    "y_pred = regr.predict(X_test)"
   ]
  },
  {
   "cell_type": "code",
   "execution_count": 112,
   "metadata": {},
   "outputs": [
    {
     "name": "stdout",
     "output_type": "stream",
     "text": [
      "MAE: 0.2024213112237064\n"
     ]
    }
   ],
   "source": [
    "# Сравниваем предсказанные значения (y_pred) с реальными (y_test), и смотрим насколько они в среднем отличаются\n",
    "# Метрика называется Mean Absolute Error (MAE) и показывает среднее отклонение предсказанных значений от фактических.\n",
    "print('MAE:', metrics.mean_absolute_error(y_test, y_pred))"
   ]
  },
  {
   "cell_type": "markdown",
   "metadata": {},
   "source": [
    "# Выводы"
   ]
  },
  {
   "cell_type": "markdown",
   "metadata": {},
   "source": [
    "В результате проекта по машинному обучению была производена очистка данных от пропусков и выбросов; \n",
    "были получены новые признаки на основе информации, уже содержащейся в данных, а также на основе информации, \n",
    "взятой из других источников; для устранения большого количества пропусков был произведен парсинг данных с\n",
    "сайтов ресторанов.\n",
    "После очистки данных и добавления новых признаков была создана копия датафрейма, в котором были удалены все\n",
    "нечисловые столбцы; построена корреляционная матрица, на основе которой анализировались зависимости \n",
    "данных между собой, а также между целевой переменной и набором данных. \n",
    "В результате построения и обучения модели получена метрика MAE, имеющая величину 0.20.\n"
   ]
  }
 ],
 "metadata": {
  "kernelspec": {
   "display_name": "Python 3",
   "language": "python",
   "name": "python3"
  },
  "language_info": {
   "codemirror_mode": {
    "name": "ipython",
    "version": 3
   },
   "file_extension": ".py",
   "mimetype": "text/x-python",
   "name": "python",
   "nbconvert_exporter": "python",
   "pygments_lexer": "ipython3",
   "version": "3.8.3"
  }
 },
 "nbformat": 4,
 "nbformat_minor": 2
}
