{
 "cells": [
  {
   "cell_type": "markdown",
   "metadata": {},
   "source": [
    "Задача: выяснить, от каких самых малоприбыльных рейсов из Анапы региональный филиал авиакомпании можем отказаться в зимнее время."
   ]
  },
  {
   "cell_type": "code",
   "execution_count": 1,
   "metadata": {},
   "outputs": [],
   "source": [
    "# Импортируем библеотеки \n",
    "import pandas as pd\n",
    "import matplotlib.pyplot as plt\n",
    "import seaborn as sns\n",
    "import numpy as np\n",
    "import datetime\n",
    "from datetime import datetime, timedelta"
   ]
  },
  {
   "cell_type": "code",
   "execution_count": 2,
   "metadata": {},
   "outputs": [],
   "source": [
    "# Загружаем данные, полученные в Metabase\n",
    "data = pd.read_csv('.../data.csv')"
   ]
  },
  {
   "cell_type": "code",
   "execution_count": 4,
   "metadata": {},
   "outputs": [
    {
     "data": {
      "text/html": [
       "<div>\n",
       "<style scoped>\n",
       "    .dataframe tbody tr th:only-of-type {\n",
       "        vertical-align: middle;\n",
       "    }\n",
       "\n",
       "    .dataframe tbody tr th {\n",
       "        vertical-align: top;\n",
       "    }\n",
       "\n",
       "    .dataframe thead th {\n",
       "        text-align: right;\n",
       "    }\n",
       "</style>\n",
       "<table border=\"1\" class=\"dataframe\">\n",
       "  <thead>\n",
       "    <tr style=\"text-align: right;\">\n",
       "      <th></th>\n",
       "      <th>flight_id</th>\n",
       "      <th>model</th>\n",
       "      <th>scheduled_departure</th>\n",
       "      <th>departure_city</th>\n",
       "      <th>arrival_airport</th>\n",
       "      <th>arrival_city</th>\n",
       "      <th>seats</th>\n",
       "      <th>sold_seats</th>\n",
       "      <th>earnings</th>\n",
       "      <th>flight_time</th>\n",
       "    </tr>\n",
       "  </thead>\n",
       "  <tbody>\n",
       "    <tr>\n",
       "      <th>82</th>\n",
       "      <td>136733</td>\n",
       "      <td>Sukhoi Superjet-100</td>\n",
       "      <td>2017-01-09T09:25:00Z</td>\n",
       "      <td>Anapa</td>\n",
       "      <td>EGO</td>\n",
       "      <td>Belgorod</td>\n",
       "      <td>97</td>\n",
       "      <td>94</td>\n",
       "      <td>746400.0</td>\n",
       "      <td>51.0</td>\n",
       "    </tr>\n",
       "    <tr>\n",
       "      <th>8</th>\n",
       "      <td>136159</td>\n",
       "      <td>Boeing 737-300</td>\n",
       "      <td>2017-01-04T10:05:00Z</td>\n",
       "      <td>Anapa</td>\n",
       "      <td>SVO</td>\n",
       "      <td>Moscow</td>\n",
       "      <td>130</td>\n",
       "      <td>115</td>\n",
       "      <td>1700600.0</td>\n",
       "      <td>98.0</td>\n",
       "    </tr>\n",
       "    <tr>\n",
       "      <th>94</th>\n",
       "      <td>136815</td>\n",
       "      <td>Sukhoi Superjet-100</td>\n",
       "      <td>2017-02-19T09:25:00Z</td>\n",
       "      <td>Anapa</td>\n",
       "      <td>EGO</td>\n",
       "      <td>Belgorod</td>\n",
       "      <td>97</td>\n",
       "      <td>97</td>\n",
       "      <td>765300.0</td>\n",
       "      <td>51.0</td>\n",
       "    </tr>\n",
       "    <tr>\n",
       "      <th>9</th>\n",
       "      <td>136164</td>\n",
       "      <td>Boeing 737-300</td>\n",
       "      <td>2017-01-07T10:05:00Z</td>\n",
       "      <td>Anapa</td>\n",
       "      <td>SVO</td>\n",
       "      <td>Moscow</td>\n",
       "      <td>130</td>\n",
       "      <td>120</td>\n",
       "      <td>1738400.0</td>\n",
       "      <td>99.0</td>\n",
       "    </tr>\n",
       "    <tr>\n",
       "      <th>23</th>\n",
       "      <td>136266</td>\n",
       "      <td>Boeing 737-300</td>\n",
       "      <td>2017-02-27T10:05:00Z</td>\n",
       "      <td>Anapa</td>\n",
       "      <td>SVO</td>\n",
       "      <td>Moscow</td>\n",
       "      <td>130</td>\n",
       "      <td>108</td>\n",
       "      <td>1566400.0</td>\n",
       "      <td>100.0</td>\n",
       "    </tr>\n",
       "  </tbody>\n",
       "</table>\n",
       "</div>"
      ],
      "text/plain": [
       "    flight_id                model   scheduled_departure departure_city  \\\n",
       "82     136733  Sukhoi Superjet-100  2017-01-09T09:25:00Z          Anapa   \n",
       "8      136159       Boeing 737-300  2017-01-04T10:05:00Z          Anapa   \n",
       "94     136815  Sukhoi Superjet-100  2017-02-19T09:25:00Z          Anapa   \n",
       "9      136164       Boeing 737-300  2017-01-07T10:05:00Z          Anapa   \n",
       "23     136266       Boeing 737-300  2017-02-27T10:05:00Z          Anapa   \n",
       "\n",
       "   arrival_airport arrival_city  seats  sold_seats   earnings  flight_time  \n",
       "82             EGO     Belgorod     97          94   746400.0         51.0  \n",
       "8              SVO       Moscow    130         115  1700600.0         98.0  \n",
       "94             EGO     Belgorod     97          97   765300.0         51.0  \n",
       "9              SVO       Moscow    130         120  1738400.0         99.0  \n",
       "23             SVO       Moscow    130         108  1566400.0        100.0  "
      ]
     },
     "execution_count": 4,
     "metadata": {},
     "output_type": "execute_result"
    }
   ],
   "source": [
    "data.sample(5)"
   ]
  },
  {
   "cell_type": "markdown",
   "metadata": {},
   "source": [
    "Для решения поставленной задачи в Metabase был получен датасет, содержащий информацию о рейсах из Анапы в знимнее время года. \n",
    "Данные включают в себя: id рейса, модель самолета, дату вылета, города вылета (Анапа), аэропорт прилета,\n",
    "город прилета, количество мест в самолете, количество купленных мест, суммарную стоимость всех билетов на рейсе и \n",
    "затраченное время в полёте."
   ]
  },
  {
   "cell_type": "code",
   "execution_count": 5,
   "metadata": {},
   "outputs": [
    {
     "name": "stdout",
     "output_type": "stream",
     "text": [
      "<class 'pandas.core.frame.DataFrame'>\n",
      "RangeIndex: 118 entries, 0 to 117\n",
      "Data columns (total 10 columns):\n",
      " #   Column               Non-Null Count  Dtype  \n",
      "---  ------               --------------  -----  \n",
      " 0   flight_id            118 non-null    int64  \n",
      " 1   model                118 non-null    object \n",
      " 2   scheduled_departure  118 non-null    object \n",
      " 3   departure_city       118 non-null    object \n",
      " 4   arrival_airport      118 non-null    object \n",
      " 5   arrival_city         118 non-null    object \n",
      " 6   seats                118 non-null    int64  \n",
      " 7   sold_seats           118 non-null    int64  \n",
      " 8   earnings             118 non-null    float64\n",
      " 9   flight_time          118 non-null    float64\n",
      "dtypes: float64(2), int64(3), object(5)\n",
      "memory usage: 9.3+ KB\n"
     ]
    }
   ],
   "source": [
    "# В данных отсутствуют пропуски, больше половины данных строковые\n",
    "data.info()"
   ]
  },
  {
   "cell_type": "markdown",
   "metadata": {},
   "source": [
    "Самая простая модель оценки прибыльности: стоимость билетов - стоимость топлива на рейс. Для расчета стоимости топлива на рейс добавим в данные недостающие признаки, а именно: часовой расход топлива у самолета и стоимость топлива."
   ]
  },
  {
   "cell_type": "code",
   "execution_count": 6,
   "metadata": {},
   "outputs": [
    {
     "data": {
      "text/plain": [
       "array(['Boeing 737-300', 'Sukhoi Superjet-100'], dtype=object)"
      ]
     },
     "execution_count": 6,
     "metadata": {},
     "output_type": "execute_result"
    }
   ],
   "source": [
    "# В данных имеются две модели самолетов\n",
    "data.model.unique()"
   ]
  },
  {
   "cell_type": "markdown",
   "metadata": {},
   "source": [
    "Часовой расход топлива у самолета Boeing 737-300 составляет 2400 кг/ч, а у самолета Sukhoi Superjet-100 - 1700 кг/ч. Характеристика времени полета самолета (flight_time) имеет размерность минут, переводя размерность расхода топлива в кг/мин, получаем 40.00 кг/мин и 28.33 кг/мин соответственно. Стоимость топлива ТС-1 в декабре 2017 составляет 47101 руб./т, в январе 2017 - 41435 руб./т, в феврале 2017 - 39553 руб./т. При переводе в нужные единицы измерения получаем: 47.10 руб./кг, 41.44 руб./кг и 39.55 руб./кг соответственно."
   ]
  },
  {
   "cell_type": "code",
   "execution_count": 7,
   "metadata": {},
   "outputs": [],
   "source": [
    "# Переведем столбец scheduled_departure в формат datetime\n",
    "data.scheduled_departure = pd.to_datetime(data.scheduled_departure, format = '%Y-%m-%dT%H:%M:%SZ')"
   ]
  },
  {
   "cell_type": "code",
   "execution_count": 8,
   "metadata": {},
   "outputs": [],
   "source": [
    "# Добавим новый признак - расход топлива \n",
    "data['fuel_consumption'] = data.model.apply(lambda x: 40.00 if x == 'Boeing 737-300' else 28.33 if \n",
    "                                                   x == 'Sukhoi Superjet-100' else x)"
   ]
  },
  {
   "cell_type": "code",
   "execution_count": 9,
   "metadata": {},
   "outputs": [],
   "source": [
    "# Добавим новый признак - стоимость топлива в конкретный месяц\n",
    "data['fuel_cost'] = data.scheduled_departure.apply(lambda x: 47.10 if x.month == 12 else 41.44 if \n",
    "                                                   x.month == 1 else 39.55 if x.month == 2 else x)"
   ]
  },
  {
   "cell_type": "code",
   "execution_count": 10,
   "metadata": {},
   "outputs": [],
   "source": [
    "# Рассчитаем стоимость полета\n",
    "data['flight_cost'] = data['flight_time'] * data['fuel_consumption'] * data['fuel_cost']"
   ]
  },
  {
   "cell_type": "code",
   "execution_count": 11,
   "metadata": {},
   "outputs": [],
   "source": [
    "# Рассчитаем итоговый признак - прибыльность\n",
    "data['profit'] = data['earnings'] - data['flight_cost']"
   ]
  },
  {
   "cell_type": "code",
   "execution_count": 12,
   "metadata": {},
   "outputs": [
    {
     "data": {
      "text/plain": [
       "1720240.0"
      ]
     },
     "execution_count": 12,
     "metadata": {},
     "output_type": "execute_result"
    }
   ],
   "source": [
    "data['profit'].max()"
   ]
  },
  {
   "cell_type": "code",
   "execution_count": 13,
   "metadata": {},
   "outputs": [
    {
     "data": {
      "text/plain": [
       "1066796.2106050833"
      ]
     },
     "execution_count": 13,
     "metadata": {},
     "output_type": "execute_result"
    }
   ],
   "source": [
    "data['profit'].mean()"
   ]
  },
  {
   "cell_type": "code",
   "execution_count": 14,
   "metadata": {},
   "outputs": [
    {
     "data": {
      "text/plain": [
       "473474.2352"
      ]
     },
     "execution_count": 14,
     "metadata": {},
     "output_type": "execute_result"
    }
   ],
   "source": [
    "data['profit'].min()"
   ]
  },
  {
   "cell_type": "markdown",
   "metadata": {},
   "source": [
    "Как видно, отрицательных значений в колонке profit нет, но разница между максимумом и минимумом достаточно существенная."
   ]
  },
  {
   "cell_type": "code",
   "execution_count": 15,
   "metadata": {},
   "outputs": [
    {
     "data": {
      "text/plain": [
       "<matplotlib.axes._subplots.AxesSubplot at 0x21ea865a880>"
      ]
     },
     "execution_count": 15,
     "metadata": {},
     "output_type": "execute_result"
    },
    {
     "data": {
      "image/png": "[encoded data removed]",
      "text/plain": [
       "<Figure size 432x288 with 1 Axes>"
      ]
     },
     "metadata": {
      "needs_background": "light"
     },
     "output_type": "display_data"
    }
   ],
   "source": [
    "# Рассмотрим прибыль в зависимости от модели самолета\n",
    "sns.barplot(x = \"model\", y = \"profit\", data = data)"
   ]
  },
  {
   "cell_type": "markdown",
   "metadata": {},
   "source": [
    "Как видно из рисунка выше, больше прибыли приносят самолеты Boeing 737-300. "
   ]
  },
  {
   "cell_type": "code",
   "execution_count": 16,
   "metadata": {},
   "outputs": [],
   "source": [
    "# Узнаем сколько прибыли приходится на одно место в самолете.\n",
    "data['profit_per_seat'] = data['profit'] / data['sold_seats']"
   ]
  },
  {
   "cell_type": "code",
   "execution_count": 17,
   "metadata": {},
   "outputs": [
    {
     "data": {
      "text/plain": [
       "<matplotlib.axes._subplots.AxesSubplot at 0x21ea8dec3a0>"
      ]
     },
     "execution_count": 17,
     "metadata": {},
     "output_type": "execute_result"
    },
    {
     "data": {
      "image/png": "[encoded data removed]",
      "text/plain": [
       "<Figure size 432x288 with 1 Axes>"
      ]
     },
     "metadata": {
      "needs_background": "light"
     },
     "output_type": "display_data"
    }
   ],
   "source": [
    "sns.barplot(x = \"model\", y = \"profit_per_seat\", data = data)"
   ]
  },
  {
   "cell_type": "markdown",
   "metadata": {},
   "source": [
    "Видно, что место в самолете Boeing 737-300 лучше окупается. Посмотрим, летает ли одина модель самолета в один город или в разные."
   ]
  },
  {
   "cell_type": "code",
   "execution_count": 18,
   "metadata": {},
   "outputs": [
    {
     "data": {
      "text/plain": [
       "array(['Moscow'], dtype=object)"
      ]
     },
     "execution_count": 18,
     "metadata": {},
     "output_type": "execute_result"
    }
   ],
   "source": [
    "data[data.model == 'Boeing 737-300']['arrival_city'].unique()"
   ]
  },
  {
   "cell_type": "code",
   "execution_count": 19,
   "metadata": {},
   "outputs": [
    {
     "data": {
      "text/plain": [
       "array(['Belgorod'], dtype=object)"
      ]
     },
     "execution_count": 19,
     "metadata": {},
     "output_type": "execute_result"
    }
   ],
   "source": [
    "data[data.model == 'Sukhoi Superjet-100']['arrival_city'].unique()"
   ]
  },
  {
   "cell_type": "markdown",
   "metadata": {},
   "source": [
    "Одна модель самолета соответствует одному городу"
   ]
  },
  {
   "cell_type": "code",
   "execution_count": 20,
   "metadata": {},
   "outputs": [
    {
     "data": {
      "text/plain": [
       "<matplotlib.axes._subplots.AxesSubplot at 0x21ea8e8e580>"
      ]
     },
     "execution_count": 20,
     "metadata": {},
     "output_type": "execute_result"
    },
    {
     "data": {
      "image/png": "[encoded data removed]",
      "text/plain": [
       "<Figure size 432x288 with 1 Axes>"
      ]
     },
     "metadata": {
      "needs_background": "light"
     },
     "output_type": "display_data"
    }
   ],
   "source": [
    "# Рассмотрим распределение прибыли по месяцам\n",
    "data['month'] = data.scheduled_departure.dt.month\n",
    "sns.barplot(x = 'month', y = 'profit', data = data, hue = 'model')"
   ]
  },
  {
   "cell_type": "code",
   "execution_count": 21,
   "metadata": {},
   "outputs": [
    {
     "data": {
      "text/plain": [
       "SVO    31\n",
       "EGO    31\n",
       "Name: arrival_airport, dtype: int64"
      ]
     },
     "execution_count": 21,
     "metadata": {},
     "output_type": "execute_result"
    }
   ],
   "source": [
    "data[data.month == 1].arrival_airport.value_counts()"
   ]
  },
  {
   "cell_type": "code",
   "execution_count": 22,
   "metadata": {},
   "outputs": [
    {
     "data": {
      "text/plain": [
       "SVO    28\n",
       "EGO    28\n",
       "Name: arrival_airport, dtype: int64"
      ]
     },
     "execution_count": 22,
     "metadata": {},
     "output_type": "execute_result"
    }
   ],
   "source": [
    "data[data.month == 2].arrival_airport.value_counts()"
   ]
  },
  {
   "cell_type": "markdown",
   "metadata": {},
   "source": [
    "При одинаковом количестве рейсов в Москву и Белгород мы получаем разную прибыть, так происходит в основном потому, что в Белгород летит меньше людей, нежели чем в Москву, так как количество мест в самолете Sukhoi Superjet-100 меньше и меньше мест продано. Для увеличения прибыли авиакомпании можно попробовать пустить рейсы и в другие крупные города страны, например, в Санкт-Петербург."
   ]
  },
  {
   "cell_type": "code",
   "execution_count": 23,
   "metadata": {},
   "outputs": [
    {
     "name": "stdout",
     "output_type": "stream",
     "text": [
      "208 194\n"
     ]
    }
   ],
   "source": [
    "a = data[(data.month == 1) & (data.model == 'Sukhoi Superjet-100')].seats.sum()\n",
    "b = data[(data.month == 1) & (data.model == 'Sukhoi Superjet-100')].sold_seats.sum()\n",
    "c = data[(data.month == 2) & (data.model == 'Sukhoi Superjet-100')].seats.sum()\n",
    "d = data[(data.month == 2) & (data.model == 'Sukhoi Superjet-100')].sold_seats.sum()\n",
    "print(a-b, c-d)"
   ]
  },
  {
   "cell_type": "markdown",
   "metadata": {},
   "source": [
    "Разница между общим количеством мест во всех самолетах, летящих в Белгород в январе, и количеством проданных мест равна 208. Учитывая, что в одном самолете 97 мест, можно отказаться от двух рейсов. В феврале сумма непроданных мест численно точно равна общему количеству мест в двух самолетах Sukhoi Superjet-100, что так же говорит о том, что можно отказаться от двух ресов."
   ]
  },
  {
   "cell_type": "code",
   "execution_count": 24,
   "metadata": {},
   "outputs": [
    {
     "name": "stdout",
     "output_type": "stream",
     "text": [
      "499 497\n"
     ]
    }
   ],
   "source": [
    "a = data[(data.month == 1) & (data.model == 'Boeing 737-300')].seats.sum()\n",
    "b = data[(data.month == 1) & (data.model == 'Boeing 737-300')].sold_seats.sum()\n",
    "c = data[(data.month == 2) & (data.model == 'Boeing 737-300')].seats.sum()\n",
    "d = data[(data.month == 2) & (data.model == 'Boeing 737-300')].sold_seats.sum()\n",
    "print(a-b, c-d)"
   ]
  },
  {
   "cell_type": "markdown",
   "metadata": {},
   "source": [
    "С рейсами, летящими в Мосвку, похожая ситуация, не все самолеты заполнены, в первом и втором месяце можно отказаться минимум от 3 рейсов (в одном самолете 130 мест). \n",
    "Если мы откажемся от 4 рейсов, тогда не будут куплен 21 билет, если допустить, что это билеты эконом класса, тогда 21 * 12200 = 256200 руб будут потеряны. В итоге в январе в Москву будет совершено 27 рейсов с полной вместимостью, и общая выручка составит 46446480 рублей (количество рейсов умножаем на профит от полностью заполненного самолета). \n",
    "Если отказаться от 3 ресов, то останутся незаполненными 109 мест. Допустим будет совершено 27 рейсов, где самолеты будут полностью заполнены, то есть прибыль составит, как и в предыдущем случае, составит 46446480 руб, а на последний рейс был куплен только 21 билет. Вычтем от прибыли от покупки 21 билета расход топлива самолетом в январе, получаем 256200 - 165760 = 90440 рублей, именно столько составит профит от самолета Boeing, в котором летит только 21 человек. \n",
    "Получается, что отменить только 3 рейса будет выгоднее. Аналогичный вывод получается и для рейсов в феврале.\n",
    "(Вывод сделан без учета расходов на оплату персонала и др.)"
   ]
  },
  {
   "cell_type": "code",
   "execution_count": 25,
   "metadata": {},
   "outputs": [],
   "source": [
    "data['day'] = data.scheduled_departure.dt.day"
   ]
  },
  {
   "cell_type": "code",
   "execution_count": 26,
   "metadata": {},
   "outputs": [
    {
     "data": {
      "text/plain": [
       "<matplotlib.axes._subplots.AxesSubplot at 0x21ea8f56250>"
      ]
     },
     "execution_count": 26,
     "metadata": {},
     "output_type": "execute_result"
    },
    {
     "data": {
      "image/png": "[encoded data removed]",
      "text/plain": [
       "<Figure size 864x360 with 1 Axes>"
      ]
     },
     "metadata": {
      "needs_background": "light"
     },
     "output_type": "display_data"
    }
   ],
   "source": [
    "# Найдем самые малоприбыльные рейсы в Белгород в январе\n",
    "(data[(data.month == 1) & (data.model == 'Sukhoi Superjet-100')].sort_values(\"day\")).plot(x = 'flight_id', \n",
    "                                                                                          y = 'sold_seats', \n",
    "                                                                                          kind = 'bar', \n",
    "                                                                                          grid = True, \n",
    "                                                                                          figsize=(12,5))"
   ]
  },
  {
   "cell_type": "markdown",
   "metadata": {},
   "source": [
    "Отсортировав данные по дням видно, что самолеты в певрые и последние дни января менее загружены, таким образом можно убрать рейс 136937, вылетающий 3 января, и рейс 136642, вылетающий 30 января."
   ]
  },
  {
   "cell_type": "code",
   "execution_count": 27,
   "metadata": {},
   "outputs": [
    {
     "data": {
      "text/plain": [
       "<matplotlib.axes._subplots.AxesSubplot at 0x21ea904e7f0>"
      ]
     },
     "execution_count": 27,
     "metadata": {},
     "output_type": "execute_result"
    },
    {
     "data": {
      "image/png": "[encoded data removed]",
      "text/plain": [
       "<Figure size 864x360 with 1 Axes>"
      ]
     },
     "metadata": {
      "needs_background": "light"
     },
     "output_type": "display_data"
    }
   ],
   "source": [
    "# Найдем самые малоприбыльные рейсы в Белгород в феврале\n",
    "(data[(data.month == 2) & (data.model == 'Sukhoi Superjet-100')].sort_values(\"day\")).plot(x = 'flight_id', \n",
    "                                                                                          y = 'sold_seats', \n",
    "                                                                                          kind = 'bar', \n",
    "                                                                                          grid = True, \n",
    "                                                                                          figsize=(12,5))"
   ]
  },
  {
   "cell_type": "markdown",
   "metadata": {},
   "source": [
    "В феврале можно отказаться от рейса 136823 от 5 февраля и от рейса 136807 (23 февряля)."
   ]
  },
  {
   "cell_type": "code",
   "execution_count": 28,
   "metadata": {},
   "outputs": [
    {
     "data": {
      "text/plain": [
       "<matplotlib.axes._subplots.AxesSubplot at 0x21ea922f580>"
      ]
     },
     "execution_count": 28,
     "metadata": {},
     "output_type": "execute_result"
    },
    {
     "data": {
      "image/png": "[encoded data removed]",
      "text/plain": [
       "<Figure size 864x360 with 1 Axes>"
      ]
     },
     "metadata": {
      "needs_background": "light"
     },
     "output_type": "display_data"
    }
   ],
   "source": [
    "# Найдем самые малоприбыльные рейсы в Москву в январе\n",
    "(data[(data.month == 1) & (data.model == 'Boeing 737-300')].sort_values(\"day\")).plot(x = 'flight_id', \n",
    "                                                                                     y = 'sold_seats', \n",
    "                                                                                     kind = 'bar', \n",
    "                                                                                     grid = True, \n",
    "                                                                                     figsize=(12,5))"
   ]
  },
  {
   "cell_type": "markdown",
   "metadata": {},
   "source": [
    "Здесь можно отказаться от рейсов: 136420 (1 января), 136122 (8 января) и 136178 (29 января) "
   ]
  },
  {
   "cell_type": "code",
   "execution_count": 29,
   "metadata": {},
   "outputs": [
    {
     "data": {
      "text/plain": [
       "<matplotlib.axes._subplots.AxesSubplot at 0x21ea930d910>"
      ]
     },
     "execution_count": 29,
     "metadata": {},
     "output_type": "execute_result"
    },
    {
     "data": {
      "image/png": "[encoded data removed]",
      "text/plain": [
       "<Figure size 864x360 with 1 Axes>"
      ]
     },
     "metadata": {
      "needs_background": "light"
     },
     "output_type": "display_data"
    }
   ],
   "source": [
    "# Найдем самые малоприбыльные рейсы в Москву в феврале\n",
    "(data[(data.month == 2) & (data.model == 'Boeing 737-300')].sort_values(\"day\")).plot(x = 'flight_id', \n",
    "                                                                                     y = 'sold_seats', \n",
    "                                                                                     kind = 'bar', \n",
    "                                                                                     grid = True, \n",
    "                                                                                     figsize=(12,5))"
   ]
  },
  {
   "cell_type": "markdown",
   "metadata": {},
   "source": [
    "В феврале малоприбыльными рейсами будут 136360 (5 февраля), 136250 (8 февраля) и 136351 (26 февраля)."
   ]
  },
  {
   "cell_type": "markdown",
   "metadata": {},
   "source": [
    "В результате точечных выделении наиболее \"пустых\" рейсов была замечена закономерность, что такие рейсы встречаются в основном в начале и в конце месяца, что говорит о том, что авиакомпания может сокращать какое-то количество рейсов именно в эти периоды."
   ]
  },
  {
   "cell_type": "markdown",
   "metadata": {},
   "source": [
    "Вывод"
   ]
  },
  {
   "attachments": {},
   "cell_type": "markdown",
   "metadata": {},
   "source": [
    "Задачей данного проекта было выяснить, от каких самых малоприбыльных рейсов из Анапы авиакомпания может отказаться в зимнее время. В ходе работы в Metabase был собран датасет из внутренних данных, в котором содержалась необходимая для решения задачи информация, а именно: id рейса, модель самолета, дату вылета, города вылета (Анапа), аэропорт прилета, город прилета, количество мест в самолете, количество купленных мест, суммарную стоимость всех билетов на рейсе и затраченное время в полёте. Далее для расчета профита от рейса были добавлены данные о расходе топлива самолетом и стоимости топлива в конкретный период. Из анализа получившихся данных стало ясно, что рейсы в Москву лучше окупаются, при том, что количество рейсов одинаковое, поэтому авиакомпания может повысить свои доходы, если будет добавлять рейсы в другие крупные города страны, например, в Санкт-Петербург. Для сокращения расходов компании было предложено решение, которое подразумевает сокращение наиболее \"пустых\" рейсов, чаще всего такие рейсы бывают в начале и в конце месяца. В январе предлжено убрать рейсы 136937 и 136642, вылетающие в Белгород, и рейсы 136420, 136122, 136178, вылетающие в Москву. В феврале - рейсы 136823 и 136807, вылетающие в Белгород, и рейсы 136360, 136250 и 136351, вылетающие в Москву."
   ]
  }
 ],
 "metadata": {
  "kernelspec": {
   "display_name": "Python 3",
   "language": "python",
   "name": "python3"
  },
  "language_info": {
   "codemirror_mode": {
    "name": "ipython",
    "version": 3
   },
   "file_extension": ".py",
   "mimetype": "text/x-python",
   "name": "python",
   "nbconvert_exporter": "python",
   "pygments_lexer": "ipython3",
   "version": "3.8.3"
  }
 },
 "nbformat": 4,
 "nbformat_minor": 4
}
