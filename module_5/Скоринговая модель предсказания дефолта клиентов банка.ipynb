{
 "cells": [
  {
   "cell_type": "markdown",
   "metadata": {
    "_cell_guid": "b1076dfc-b9ad-4769-8c92-a6c4dae69d19",
    "_uuid": "8f2839f25d086af736a60e9eeb907d3b93b6e0e5",
    "execution": {
     "iopub.execute_input": "2022-03-09T16:40:06.632601Z",
     "iopub.status.busy": "2022-03-09T16:40:06.632341Z",
     "iopub.status.idle": "2022-03-09T16:40:06.644705Z",
     "shell.execute_reply": "2022-03-09T16:40:06.643845Z",
     "shell.execute_reply.started": "2022-03-09T16:40:06.632573Z"
    },
    "papermill": {
     "duration": 0.039197,
     "end_time": "2022-03-09T20:06:30.451986",
     "exception": false,
     "start_time": "2022-03-09T20:06:30.412789",
     "status": "completed"
    },
    "tags": []
   },
   "source": [
    "# Загрузка библиотек"
   ]
  },
  {
   "cell_type": "code",
   "execution_count": 1,
   "metadata": {
    "execution": {
     "iopub.execute_input": "2022-03-09T20:06:30.525072Z",
     "iopub.status.busy": "2022-03-09T20:06:30.524014Z",
     "iopub.status.idle": "2022-03-09T20:06:31.905425Z",
     "shell.execute_reply": "2022-03-09T20:06:31.905978Z",
     "shell.execute_reply.started": "2022-03-09T20:01:11.415650Z"
    },
    "papermill": {
     "duration": 1.419581,
     "end_time": "2022-03-09T20:06:31.906335",
     "exception": false,
     "start_time": "2022-03-09T20:06:30.486754",
     "status": "completed"
    },
    "tags": []
   },
   "outputs": [],
   "source": [
    "import numpy as np # linear algebra\n",
    "import pandas as pd # data processing, CSV file I/O (e.g. pd.read_csv)\n",
    "from datetime import datetime\n",
    "\n",
    "import matplotlib.pyplot as plt\n",
    "%matplotlib inline\n",
    "import seaborn as sns\n",
    "\n",
    "from sklearn.model_selection import train_test_split\n",
    "from sklearn.model_selection import GridSearchCV\n",
    "from sklearn.model_selection import cross_val_score\n",
    "from sklearn.linear_model import LogisticRegression\n",
    "\n",
    "from sklearn.preprocessing import LabelEncoder\n",
    "from sklearn.preprocessing import OneHotEncoder\n",
    "from sklearn.preprocessing import StandardScaler\n",
    "from sklearn.preprocessing import MinMaxScaler\n",
    "\n",
    "from sklearn.feature_selection import mutual_info_classif\n",
    "from sklearn.feature_selection import f_classif\n",
    "\n",
    "from sklearn.metrics import confusion_matrix\n",
    "from sklearn.metrics import mean_squared_error, f1_score, accuracy_score, roc_curve, roc_auc_score\n",
    "from sklearn.metrics import precision_score, recall_score"
   ]
  },
  {
   "cell_type": "markdown",
   "metadata": {
    "papermill": {
     "duration": 0.038075,
     "end_time": "2022-03-09T20:06:31.983378",
     "exception": false,
     "start_time": "2022-03-09T20:06:31.945303",
     "status": "completed"
    },
    "tags": []
   },
   "source": [
    "# Загрузка и преобразование данных"
   ]
  },
  {
   "cell_type": "code",
   "execution_count": 2,
   "metadata": {
    "execution": {
     "iopub.execute_input": "2022-03-09T20:06:32.064741Z",
     "iopub.status.busy": "2022-03-09T20:06:32.064038Z",
     "iopub.status.idle": "2022-03-09T20:06:32.349558Z",
     "shell.execute_reply": "2022-03-09T20:06:32.350135Z",
     "shell.execute_reply.started": "2022-03-09T20:01:15.621531Z"
    },
    "papermill": {
     "duration": 0.32821,
     "end_time": "2022-03-09T20:06:32.350321",
     "exception": false,
     "start_time": "2022-03-09T20:06:32.022111",
     "status": "completed"
    },
    "tags": []
   },
   "outputs": [],
   "source": [
    "# Загружаем данные\n",
    "DATA_DIR = '/kaggle/input/sf-scoring/'\n",
    "df_train = pd.read_csv(DATA_DIR +'/train.csv')\n",
    "df_test = pd.read_csv(DATA_DIR +'/test.csv')\n",
    "sample_submission = pd.read_csv(DATA_DIR+'/sample_submission.csv')"
   ]
  },
  {
   "cell_type": "code",
   "execution_count": 3,
   "metadata": {
    "execution": {
     "iopub.execute_input": "2022-03-09T20:06:32.432774Z",
     "iopub.status.busy": "2022-03-09T20:06:32.432041Z",
     "iopub.status.idle": "2022-03-09T20:06:32.506491Z",
     "shell.execute_reply": "2022-03-09T20:06:32.507087Z",
     "shell.execute_reply.started": "2022-03-09T20:01:17.435964Z"
    },
    "papermill": {
     "duration": 0.11963,
     "end_time": "2022-03-09T20:06:32.507275",
     "exception": false,
     "start_time": "2022-03-09T20:06:32.387645",
     "status": "completed"
    },
    "tags": []
   },
   "outputs": [],
   "source": [
    "# Для корректной обработки признаков объединяем трейн и тест в один датасет\n",
    "df_train['sample'] = 1 # помечаем где у нас трейн\n",
    "df_test['sample'] = 0  # помечаем где у нас тест\n",
    "df_test['default'] = 0 # в тесте у нас нет значения default, мы его должны предсказать, по этому пока просто заполняем нулями\n",
    "\n",
    "data = df_test.append(df_train, sort=False).reset_index(drop=True) # объединяем"
   ]
  },
  {
   "cell_type": "code",
   "execution_count": 4,
   "metadata": {
    "execution": {
     "iopub.execute_input": "2022-03-09T20:06:32.643836Z",
     "iopub.status.busy": "2022-03-09T20:06:32.643166Z",
     "iopub.status.idle": "2022-03-09T20:06:32.649972Z",
     "shell.execute_reply": "2022-03-09T20:06:32.650570Z",
     "shell.execute_reply.started": "2022-03-09T20:01:19.118795Z"
    },
    "papermill": {
     "duration": 0.105676,
     "end_time": "2022-03-09T20:06:32.650747",
     "exception": false,
     "start_time": "2022-03-09T20:06:32.545071",
     "status": "completed"
    },
    "tags": []
   },
   "outputs": [
    {
     "data": {
      "text/plain": [
       "(73799, 20)"
      ]
     },
     "execution_count": 4,
     "metadata": {},
     "output_type": "execute_result"
    }
   ],
   "source": [
    "df_train.shape"
   ]
  },
  {
   "cell_type": "code",
   "execution_count": 5,
   "metadata": {
    "execution": {
     "iopub.execute_input": "2022-03-09T20:06:32.729038Z",
     "iopub.status.busy": "2022-03-09T20:06:32.728119Z",
     "iopub.status.idle": "2022-03-09T20:06:32.733321Z",
     "shell.execute_reply": "2022-03-09T20:06:32.733885Z",
     "shell.execute_reply.started": "2022-03-09T20:01:20.559909Z"
    },
    "papermill": {
     "duration": 0.045395,
     "end_time": "2022-03-09T20:06:32.734042",
     "exception": false,
     "start_time": "2022-03-09T20:06:32.688647",
     "status": "completed"
    },
    "tags": []
   },
   "outputs": [
    {
     "data": {
      "text/plain": [
       "(36349, 20)"
      ]
     },
     "execution_count": 5,
     "metadata": {},
     "output_type": "execute_result"
    }
   ],
   "source": [
    "df_test.shape"
   ]
  },
  {
   "cell_type": "code",
   "execution_count": 6,
   "metadata": {
    "execution": {
     "iopub.execute_input": "2022-03-09T20:06:32.808330Z",
     "iopub.status.busy": "2022-03-09T20:06:32.807386Z",
     "iopub.status.idle": "2022-03-09T20:06:32.812974Z",
     "shell.execute_reply": "2022-03-09T20:06:32.812472Z",
     "shell.execute_reply.started": "2022-03-09T20:01:22.626561Z"
    },
    "papermill": {
     "duration": 0.043034,
     "end_time": "2022-03-09T20:06:32.813114",
     "exception": false,
     "start_time": "2022-03-09T20:06:32.770080",
     "status": "completed"
    },
    "tags": []
   },
   "outputs": [
    {
     "data": {
      "text/plain": [
       "(36349, 2)"
      ]
     },
     "execution_count": 6,
     "metadata": {},
     "output_type": "execute_result"
    }
   ],
   "source": [
    "sample_submission.shape"
   ]
  },
  {
   "cell_type": "code",
   "execution_count": 7,
   "metadata": {
    "execution": {
     "iopub.execute_input": "2022-03-09T20:06:32.891415Z",
     "iopub.status.busy": "2022-03-09T20:06:32.890771Z",
     "iopub.status.idle": "2022-03-09T20:06:32.908442Z",
     "shell.execute_reply": "2022-03-09T20:06:32.907929Z",
     "shell.execute_reply.started": "2022-03-09T20:01:24.793900Z"
    },
    "papermill": {
     "duration": 0.058473,
     "end_time": "2022-03-09T20:06:32.908590",
     "exception": false,
     "start_time": "2022-03-09T20:06:32.850117",
     "status": "completed"
    },
    "tags": []
   },
   "outputs": [
    {
     "data": {
      "text/html": [
       "<div>\n",
       "<style scoped>\n",
       "    .dataframe tbody tr th:only-of-type {\n",
       "        vertical-align: middle;\n",
       "    }\n",
       "\n",
       "    .dataframe tbody tr th {\n",
       "        vertical-align: top;\n",
       "    }\n",
       "\n",
       "    .dataframe thead th {\n",
       "        text-align: right;\n",
       "    }\n",
       "</style>\n",
       "<table border=\"1\" class=\"dataframe\">\n",
       "  <thead>\n",
       "    <tr style=\"text-align: right;\">\n",
       "      <th></th>\n",
       "      <th>client_id</th>\n",
       "      <th>app_date</th>\n",
       "      <th>education</th>\n",
       "      <th>sex</th>\n",
       "      <th>age</th>\n",
       "      <th>car</th>\n",
       "      <th>car_type</th>\n",
       "      <th>decline_app_cnt</th>\n",
       "      <th>good_work</th>\n",
       "      <th>score_bki</th>\n",
       "      <th>bki_request_cnt</th>\n",
       "      <th>region_rating</th>\n",
       "      <th>home_address</th>\n",
       "      <th>work_address</th>\n",
       "      <th>income</th>\n",
       "      <th>sna</th>\n",
       "      <th>first_time</th>\n",
       "      <th>foreign_passport</th>\n",
       "      <th>sample</th>\n",
       "      <th>default</th>\n",
       "    </tr>\n",
       "  </thead>\n",
       "  <tbody>\n",
       "    <tr>\n",
       "      <th>0</th>\n",
       "      <td>74835</td>\n",
       "      <td>22MAR2014</td>\n",
       "      <td>GRD</td>\n",
       "      <td>M</td>\n",
       "      <td>29</td>\n",
       "      <td>Y</td>\n",
       "      <td>Y</td>\n",
       "      <td>0</td>\n",
       "      <td>0</td>\n",
       "      <td>-2.271884</td>\n",
       "      <td>3</td>\n",
       "      <td>50</td>\n",
       "      <td>1</td>\n",
       "      <td>2</td>\n",
       "      <td>50000</td>\n",
       "      <td>1</td>\n",
       "      <td>4</td>\n",
       "      <td>N</td>\n",
       "      <td>0</td>\n",
       "      <td>0</td>\n",
       "    </tr>\n",
       "    <tr>\n",
       "      <th>1</th>\n",
       "      <td>17527</td>\n",
       "      <td>24JAN2014</td>\n",
       "      <td>SCH</td>\n",
       "      <td>F</td>\n",
       "      <td>39</td>\n",
       "      <td>N</td>\n",
       "      <td>N</td>\n",
       "      <td>5</td>\n",
       "      <td>0</td>\n",
       "      <td>-1.504999</td>\n",
       "      <td>2</td>\n",
       "      <td>50</td>\n",
       "      <td>1</td>\n",
       "      <td>2</td>\n",
       "      <td>5000</td>\n",
       "      <td>4</td>\n",
       "      <td>3</td>\n",
       "      <td>N</td>\n",
       "      <td>0</td>\n",
       "      <td>0</td>\n",
       "    </tr>\n",
       "    <tr>\n",
       "      <th>2</th>\n",
       "      <td>75683</td>\n",
       "      <td>23MAR2014</td>\n",
       "      <td>UGR</td>\n",
       "      <td>M</td>\n",
       "      <td>50</td>\n",
       "      <td>Y</td>\n",
       "      <td>Y</td>\n",
       "      <td>0</td>\n",
       "      <td>0</td>\n",
       "      <td>-1.691339</td>\n",
       "      <td>1</td>\n",
       "      <td>50</td>\n",
       "      <td>1</td>\n",
       "      <td>2</td>\n",
       "      <td>30000</td>\n",
       "      <td>1</td>\n",
       "      <td>3</td>\n",
       "      <td>Y</td>\n",
       "      <td>0</td>\n",
       "      <td>0</td>\n",
       "    </tr>\n",
       "    <tr>\n",
       "      <th>3</th>\n",
       "      <td>26883</td>\n",
       "      <td>03FEB2014</td>\n",
       "      <td>SCH</td>\n",
       "      <td>M</td>\n",
       "      <td>56</td>\n",
       "      <td>N</td>\n",
       "      <td>N</td>\n",
       "      <td>0</td>\n",
       "      <td>0</td>\n",
       "      <td>-2.374182</td>\n",
       "      <td>1</td>\n",
       "      <td>40</td>\n",
       "      <td>1</td>\n",
       "      <td>2</td>\n",
       "      <td>17000</td>\n",
       "      <td>1</td>\n",
       "      <td>3</td>\n",
       "      <td>N</td>\n",
       "      <td>0</td>\n",
       "      <td>0</td>\n",
       "    </tr>\n",
       "    <tr>\n",
       "      <th>4</th>\n",
       "      <td>28862</td>\n",
       "      <td>04FEB2014</td>\n",
       "      <td>GRD</td>\n",
       "      <td>F</td>\n",
       "      <td>38</td>\n",
       "      <td>N</td>\n",
       "      <td>N</td>\n",
       "      <td>0</td>\n",
       "      <td>0</td>\n",
       "      <td>-2.487502</td>\n",
       "      <td>0</td>\n",
       "      <td>80</td>\n",
       "      <td>2</td>\n",
       "      <td>3</td>\n",
       "      <td>120000</td>\n",
       "      <td>1</td>\n",
       "      <td>3</td>\n",
       "      <td>N</td>\n",
       "      <td>0</td>\n",
       "      <td>0</td>\n",
       "    </tr>\n",
       "  </tbody>\n",
       "</table>\n",
       "</div>"
      ],
      "text/plain": [
       "   client_id   app_date education sex  age car car_type  decline_app_cnt  \\\n",
       "0      74835  22MAR2014       GRD   M   29   Y        Y                0   \n",
       "1      17527  24JAN2014       SCH   F   39   N        N                5   \n",
       "2      75683  23MAR2014       UGR   M   50   Y        Y                0   \n",
       "3      26883  03FEB2014       SCH   M   56   N        N                0   \n",
       "4      28862  04FEB2014       GRD   F   38   N        N                0   \n",
       "\n",
       "   good_work  score_bki  bki_request_cnt  region_rating  home_address  \\\n",
       "0          0  -2.271884                3             50             1   \n",
       "1          0  -1.504999                2             50             1   \n",
       "2          0  -1.691339                1             50             1   \n",
       "3          0  -2.374182                1             40             1   \n",
       "4          0  -2.487502                0             80             2   \n",
       "\n",
       "   work_address  income  sna  first_time foreign_passport  sample  default  \n",
       "0             2   50000    1           4                N       0        0  \n",
       "1             2    5000    4           3                N       0        0  \n",
       "2             2   30000    1           3                Y       0        0  \n",
       "3             2   17000    1           3                N       0        0  \n",
       "4             3  120000    1           3                N       0        0  "
      ]
     },
     "execution_count": 7,
     "metadata": {},
     "output_type": "execute_result"
    }
   ],
   "source": [
    "data.head()"
   ]
  },
  {
   "cell_type": "code",
   "execution_count": 8,
   "metadata": {
    "execution": {
     "iopub.execute_input": "2022-03-09T20:06:32.984998Z",
     "iopub.status.busy": "2022-03-09T20:06:32.984375Z",
     "iopub.status.idle": "2022-03-09T20:06:32.989133Z",
     "shell.execute_reply": "2022-03-09T20:06:32.989595Z",
     "shell.execute_reply.started": "2022-03-09T20:01:26.826736Z"
    },
    "papermill": {
     "duration": 0.044188,
     "end_time": "2022-03-09T20:06:32.989777",
     "exception": false,
     "start_time": "2022-03-09T20:06:32.945589",
     "status": "completed"
    },
    "tags": []
   },
   "outputs": [
    {
     "data": {
      "text/plain": [
       "(110148, 20)"
      ]
     },
     "execution_count": 8,
     "metadata": {},
     "output_type": "execute_result"
    }
   ],
   "source": [
    "data.shape"
   ]
  },
  {
   "cell_type": "code",
   "execution_count": 9,
   "metadata": {
    "execution": {
     "iopub.execute_input": "2022-03-09T20:06:33.067703Z",
     "iopub.status.busy": "2022-03-09T20:06:33.067056Z",
     "iopub.status.idle": "2022-03-09T20:06:33.106956Z",
     "shell.execute_reply": "2022-03-09T20:06:33.106416Z",
     "shell.execute_reply.started": "2022-03-09T20:01:28.807351Z"
    },
    "papermill": {
     "duration": 0.078641,
     "end_time": "2022-03-09T20:06:33.107093",
     "exception": false,
     "start_time": "2022-03-09T20:06:33.028452",
     "status": "completed"
    },
    "tags": []
   },
   "outputs": [
    {
     "data": {
      "text/plain": [
       "client_id             0\n",
       "app_date              0\n",
       "education           478\n",
       "sex                   0\n",
       "age                   0\n",
       "car                   0\n",
       "car_type              0\n",
       "decline_app_cnt       0\n",
       "good_work             0\n",
       "score_bki             0\n",
       "bki_request_cnt       0\n",
       "region_rating         0\n",
       "home_address          0\n",
       "work_address          0\n",
       "income                0\n",
       "sna                   0\n",
       "first_time            0\n",
       "foreign_passport      0\n",
       "sample                0\n",
       "default               0\n",
       "dtype: int64"
      ]
     },
     "execution_count": 9,
     "metadata": {},
     "output_type": "execute_result"
    }
   ],
   "source": [
    "# Проверим данные на пропуски\n",
    "data.isnull().sum()"
   ]
  },
  {
   "cell_type": "code",
   "execution_count": 10,
   "metadata": {
    "execution": {
     "iopub.execute_input": "2022-03-09T20:06:33.183731Z",
     "iopub.status.busy": "2022-03-09T20:06:33.183072Z",
     "iopub.status.idle": "2022-03-09T20:06:33.193358Z",
     "shell.execute_reply": "2022-03-09T20:06:33.193866Z",
     "shell.execute_reply.started": "2022-03-09T20:01:30.673267Z"
    },
    "papermill": {
     "duration": 0.050393,
     "end_time": "2022-03-09T20:06:33.194040",
     "exception": false,
     "start_time": "2022-03-09T20:06:33.143647",
     "status": "completed"
    },
    "tags": []
   },
   "outputs": [],
   "source": [
    "# Пропуски есть только признаке education, заменим их значением Unknown\n",
    "data['education'] = data['education'].fillna('Unknown')"
   ]
  },
  {
   "cell_type": "code",
   "execution_count": 11,
   "metadata": {
    "execution": {
     "iopub.execute_input": "2022-03-09T20:06:33.271166Z",
     "iopub.status.busy": "2022-03-09T20:06:33.270514Z",
     "iopub.status.idle": "2022-03-09T20:06:33.358671Z",
     "shell.execute_reply": "2022-03-09T20:06:33.358077Z",
     "shell.execute_reply.started": "2022-03-09T20:01:32.442871Z"
    },
    "papermill": {
     "duration": 0.127777,
     "end_time": "2022-03-09T20:06:33.358807",
     "exception": false,
     "start_time": "2022-03-09T20:06:33.231030",
     "status": "completed"
    },
    "tags": []
   },
   "outputs": [
    {
     "name": "stdout",
     "output_type": "stream",
     "text": [
      "Number of duplicate rows:  0\n"
     ]
    }
   ],
   "source": [
    "# Сделаем проверку на дублирующиеся строки\n",
    "duplicate_rows_data = data[data.duplicated()]\n",
    "print('Number of duplicate rows: ', duplicate_rows_data.shape[0])"
   ]
  },
  {
   "cell_type": "code",
   "execution_count": 12,
   "metadata": {
    "execution": {
     "iopub.execute_input": "2022-03-09T20:06:33.443280Z",
     "iopub.status.busy": "2022-03-09T20:06:33.437499Z",
     "iopub.status.idle": "2022-03-09T20:06:34.309817Z",
     "shell.execute_reply": "2022-03-09T20:06:34.310429Z",
     "shell.execute_reply.started": "2022-03-09T20:01:34.377250Z"
    },
    "papermill": {
     "duration": 0.913268,
     "end_time": "2022-03-09T20:06:34.310620",
     "exception": false,
     "start_time": "2022-03-09T20:06:33.397352",
     "status": "completed"
    },
    "tags": []
   },
   "outputs": [],
   "source": [
    "# Признак app_date переведем в формат datetime\n",
    "datetime_list = []\n",
    "for date in data['app_date'].values:\n",
    "    datetime_list.append(datetime.strptime(date, '%d%b%Y'))\n",
    "\n",
    "data['app_date'] = datetime_list"
   ]
  },
  {
   "cell_type": "code",
   "execution_count": 13,
   "metadata": {
    "execution": {
     "iopub.execute_input": "2022-03-09T20:06:34.387553Z",
     "iopub.status.busy": "2022-03-09T20:06:34.386929Z",
     "iopub.status.idle": "2022-03-09T20:06:34.890454Z",
     "shell.execute_reply": "2022-03-09T20:06:34.889933Z",
     "shell.execute_reply.started": "2022-03-09T20:01:36.372075Z"
    },
    "papermill": {
     "duration": 0.542836,
     "end_time": "2022-03-09T20:06:34.890590",
     "exception": false,
     "start_time": "2022-03-09T20:06:34.347754",
     "status": "completed"
    },
    "tags": []
   },
   "outputs": [],
   "source": [
    "# Создадим новый признак - месяц подачи заявки\n",
    "data['app_month'] = data['app_date'].dt.month\n",
    "data['weekday'] = data['app_date'].apply(lambda d: d.weekday())"
   ]
  },
  {
   "cell_type": "code",
   "execution_count": 14,
   "metadata": {
    "execution": {
     "iopub.execute_input": "2022-03-09T20:06:34.967329Z",
     "iopub.status.busy": "2022-03-09T20:06:34.966740Z",
     "iopub.status.idle": "2022-03-09T20:06:34.970664Z",
     "shell.execute_reply": "2022-03-09T20:06:34.971176Z",
     "shell.execute_reply.started": "2022-03-09T20:01:38.102723Z"
    },
    "papermill": {
     "duration": 0.04427,
     "end_time": "2022-03-09T20:06:34.971400",
     "exception": false,
     "start_time": "2022-03-09T20:06:34.927130",
     "status": "completed"
    },
    "tags": []
   },
   "outputs": [],
   "source": [
    "# Отсортируем признаки на числовые, категориальные и бинарные\n",
    "num_cols = ['age', 'score_bki', 'decline_app_cnt', 'bki_request_cnt', 'income']\n",
    "cat_cols = ['education', 'first_time', 'sna', 'work_address', 'home_address', 'region_rating', \n",
    "            'app_month', 'weekday']\n",
    "bin_cols = ['sex', 'car', 'car_type', 'good_work', 'foreign_passport']"
   ]
  },
  {
   "cell_type": "code",
   "execution_count": 15,
   "metadata": {
    "execution": {
     "iopub.execute_input": "2022-03-09T20:06:35.051157Z",
     "iopub.status.busy": "2022-03-09T20:06:35.050493Z",
     "iopub.status.idle": "2022-03-09T20:06:35.177149Z",
     "shell.execute_reply": "2022-03-09T20:06:35.177652Z",
     "shell.execute_reply.started": "2022-03-09T20:01:40.313697Z"
    },
    "papermill": {
     "duration": 0.168566,
     "end_time": "2022-03-09T20:06:35.177834",
     "exception": false,
     "start_time": "2022-03-09T20:06:35.009268",
     "status": "completed"
    },
    "tags": []
   },
   "outputs": [],
   "source": [
    "# Отобразим каждое значение категории в уникальное число для бинарных и категориальных признаков\n",
    "label_encoder = LabelEncoder()\n",
    "\n",
    "for column in bin_cols:\n",
    "    data[column] = label_encoder.fit_transform(data[column])\n",
    "    \n",
    "columns = ['first_time', 'sna', 'work_address', 'home_address', 'region_rating', 'app_month', 'weekday']\n",
    "\n",
    "for column in columns:\n",
    "    data[column] = label_encoder.fit_transform(data[column])"
   ]
  },
  {
   "cell_type": "code",
   "execution_count": 16,
   "metadata": {
    "execution": {
     "iopub.execute_input": "2022-03-09T20:06:35.256119Z",
     "iopub.status.busy": "2022-03-09T20:06:35.255478Z",
     "iopub.status.idle": "2022-03-09T20:06:35.294893Z",
     "shell.execute_reply": "2022-03-09T20:06:35.295373Z",
     "shell.execute_reply.started": "2022-03-09T20:01:42.103552Z"
    },
    "papermill": {
     "duration": 0.079687,
     "end_time": "2022-03-09T20:06:35.295543",
     "exception": false,
     "start_time": "2022-03-09T20:06:35.215856",
     "status": "completed"
    },
    "tags": []
   },
   "outputs": [],
   "source": [
    "# Для колонки education создадим категориальный признак с помощью one-hot-кодирования\n",
    "data = pd.get_dummies(data, columns=['education'])"
   ]
  },
  {
   "cell_type": "code",
   "execution_count": 17,
   "metadata": {
    "execution": {
     "iopub.execute_input": "2022-03-09T20:06:35.372240Z",
     "iopub.status.busy": "2022-03-09T20:06:35.371645Z",
     "iopub.status.idle": "2022-03-09T20:06:35.398967Z",
     "shell.execute_reply": "2022-03-09T20:06:35.399399Z",
     "shell.execute_reply.started": "2022-03-09T20:01:43.561719Z"
    },
    "papermill": {
     "duration": 0.067025,
     "end_time": "2022-03-09T20:06:35.399570",
     "exception": false,
     "start_time": "2022-03-09T20:06:35.332545",
     "status": "completed"
    },
    "tags": []
   },
   "outputs": [
    {
     "name": "stdout",
     "output_type": "stream",
     "text": [
      "percentage of no default is 91.49144787013836\n",
      "percentage of subscription 8.508552129861641\n"
     ]
    }
   ],
   "source": [
    "# Проверим сбалансированность классов\n",
    "count_no_def = len(data[data['default']==0])\n",
    "count_def = len(data[data['default']==1])\n",
    "pct_of_no_def = count_no_def/(count_no_def+count_def)\n",
    "print(\"percentage of no default is\", pct_of_no_def*100)\n",
    "pct_of_def = count_def/(count_no_def+count_def)\n",
    "print(\"percentage of subscription\", pct_of_def*100)"
   ]
  },
  {
   "cell_type": "markdown",
   "metadata": {
    "papermill": {
     "duration": 0.036361,
     "end_time": "2022-03-09T20:06:35.472794",
     "exception": false,
     "start_time": "2022-03-09T20:06:35.436433",
     "status": "completed"
    },
    "tags": []
   },
   "source": [
    "Классы не сбалансированы, и соотношение не дефолных клиентов к дефолным составляет 91:8. Таким образом, качестве целевых метрик необходимо использовать F1-score."
   ]
  },
  {
   "cell_type": "code",
   "execution_count": 18,
   "metadata": {
    "execution": {
     "iopub.execute_input": "2022-03-09T20:06:35.556923Z",
     "iopub.status.busy": "2022-03-09T20:06:35.556256Z",
     "iopub.status.idle": "2022-03-09T20:06:35.559917Z",
     "shell.execute_reply": "2022-03-09T20:06:35.559423Z",
     "shell.execute_reply.started": "2022-03-09T20:01:46.024642Z"
    },
    "papermill": {
     "duration": 0.048683,
     "end_time": "2022-03-09T20:06:35.560053",
     "exception": false,
     "start_time": "2022-03-09T20:06:35.511370",
     "status": "completed"
    },
    "tags": []
   },
   "outputs": [],
   "source": [
    "data.drop(['client_id','app_date'], axis = 1, inplace=True)"
   ]
  },
  {
   "cell_type": "markdown",
   "metadata": {
    "papermill": {
     "duration": 0.036385,
     "end_time": "2022-03-09T20:06:35.633143",
     "exception": false,
     "start_time": "2022-03-09T20:06:35.596758",
     "status": "completed"
    },
    "tags": []
   },
   "source": [
    "# Очистка данных и выбор признаков"
   ]
  },
  {
   "cell_type": "code",
   "execution_count": 19,
   "metadata": {
    "execution": {
     "iopub.execute_input": "2022-03-09T20:06:35.711385Z",
     "iopub.status.busy": "2022-03-09T20:06:35.710796Z",
     "iopub.status.idle": "2022-03-09T20:06:35.734287Z",
     "shell.execute_reply": "2022-03-09T20:06:35.734733Z",
     "shell.execute_reply.started": "2022-03-09T20:01:48.266844Z"
    },
    "papermill": {
     "duration": 0.065087,
     "end_time": "2022-03-09T20:06:35.734912",
     "exception": false,
     "start_time": "2022-03-09T20:06:35.669825",
     "status": "completed"
    },
    "tags": []
   },
   "outputs": [],
   "source": [
    "# Теперь выделим тестовую часть\n",
    "train_data = data.query('sample == 1').drop(['sample'], axis=1)\n",
    "test_data = data.query('sample == 0').drop(['sample', 'default'], axis=1)"
   ]
  },
  {
   "cell_type": "markdown",
   "metadata": {
    "papermill": {
     "duration": 0.036209,
     "end_time": "2022-03-09T20:06:35.807594",
     "exception": false,
     "start_time": "2022-03-09T20:06:35.771385",
     "status": "completed"
    },
    "tags": []
   },
   "source": [
    "Рассмотрим распределение числовых признаков. Так как у некоторых признаков в распределении есть большие перепады, возьмем от всех признаков натуральный логарифм."
   ]
  },
  {
   "cell_type": "code",
   "execution_count": 20,
   "metadata": {
    "execution": {
     "iopub.execute_input": "2022-03-09T20:06:35.889366Z",
     "iopub.status.busy": "2022-03-09T20:06:35.888575Z",
     "iopub.status.idle": "2022-03-09T20:06:37.633212Z",
     "shell.execute_reply": "2022-03-09T20:06:37.632498Z",
     "shell.execute_reply.started": "2022-03-09T20:01:50.174462Z"
    },
    "papermill": {
     "duration": 1.788376,
     "end_time": "2022-03-09T20:06:37.633359",
     "exception": false,
     "start_time": "2022-03-09T20:06:35.844983",
     "status": "completed"
    },
    "tags": []
   },
   "outputs": [
    {
     "name": "stderr",
     "output_type": "stream",
     "text": [
      "/opt/conda/lib/python3.7/site-packages/seaborn/distributions.py:2619: FutureWarning: `distplot` is a deprecated function and will be removed in a future version. Please adapt your code to use either `displot` (a figure-level function with similar flexibility) or `histplot` (an axes-level function for histograms).\n",
      "  warnings.warn(msg, FutureWarning)\n"
     ]
    },
    {
     "data": {
      "image/png": "[encoded data removed]",
      "text/plain": [
       "<Figure size 432x288 with 1 Axes>"
      ]
     },
     "metadata": {
      "needs_background": "light"
     },
     "output_type": "display_data"
    },
    {
     "data": {
      "image/png": "[encoded data removed]",
      "text/plain": [
       "<Figure size 432x288 with 1 Axes>"
      ]
     },
     "metadata": {
      "needs_background": "light"
     },
     "output_type": "display_data"
    },
    {
     "data": {
      "image/png": "[encoded data removed]",
      "text/plain": [
       "<Figure size 432x288 with 1 Axes>"
      ]
     },
     "metadata": {
      "needs_background": "light"
     },
     "output_type": "display_data"
    },
    {
     "data": {
      "image/png": "[encoded data removed]",
      "text/plain": [
       "<Figure size 432x288 with 1 Axes>"
      ]
     },
     "metadata": {
      "needs_background": "light"
     },
     "output_type": "display_data"
    },
    {
     "data": {
      "image/png": "[encoded data removed]",
      "text/plain": [
       "<Figure size 432x288 with 1 Axes>"
      ]
     },
     "metadata": {
      "needs_background": "light"
     },
     "output_type": "display_data"
    }
   ],
   "source": [
    "# Нормализуем признаки\n",
    "for column in num_cols:\n",
    "    train_data[column]=(train_data[column]-train_data[column].min())/(train_data[column].max()-\n",
    "                                                                      train_data[column].min())\n",
    "# Логарифмируем    \n",
    "columns = ['age', 'decline_app_cnt', 'bki_request_cnt', 'income']\n",
    "for column in columns:\n",
    "    train_data[column] = train_data[column].apply(lambda w: np.log(w+1))\n",
    "    \n",
    "# Строим распределение\n",
    "for i in num_cols:\n",
    "    plt.figure()\n",
    "    sns.distplot(train_data[i], kde = False, rug=False)\n",
    "    plt.title(i)\n",
    "    plt.show()"
   ]
  },
  {
   "cell_type": "markdown",
   "metadata": {
    "papermill": {
     "duration": 0.040557,
     "end_time": "2022-03-09T20:06:37.716754",
     "exception": false,
     "start_time": "2022-03-09T20:06:37.676197",
     "status": "completed"
    },
    "tags": []
   },
   "source": [
    "Данные признака decline_app_cnt в основном содержат нули, имеет смысл перевести признак в категориальный."
   ]
  },
  {
   "cell_type": "code",
   "execution_count": 21,
   "metadata": {
    "execution": {
     "iopub.execute_input": "2022-03-09T20:06:37.805985Z",
     "iopub.status.busy": "2022-03-09T20:06:37.802795Z",
     "iopub.status.idle": "2022-03-09T20:06:37.824919Z",
     "shell.execute_reply": "2022-03-09T20:06:37.825427Z",
     "shell.execute_reply.started": "2022-03-09T20:01:54.261864Z"
    },
    "papermill": {
     "duration": 0.068168,
     "end_time": "2022-03-09T20:06:37.825616",
     "exception": false,
     "start_time": "2022-03-09T20:06:37.757448",
     "status": "completed"
    },
    "tags": []
   },
   "outputs": [],
   "source": [
    "train_data['decline_app_cnt'] = train_data['decline_app_cnt'].apply(lambda x: 0.0 if x == 0.0 \n",
    "                                                                    else 1.0 if x <= 0.087011 \n",
    "                                                                    else 2.0 if x > 0.087011 else x)"
   ]
  },
  {
   "cell_type": "markdown",
   "metadata": {
    "papermill": {
     "duration": 0.039625,
     "end_time": "2022-03-09T20:06:37.906423",
     "exception": false,
     "start_time": "2022-03-09T20:06:37.866798",
     "status": "completed"
    },
    "tags": []
   },
   "source": [
    "Рассмотрим выбросы в данных."
   ]
  },
  {
   "cell_type": "code",
   "execution_count": 22,
   "metadata": {
    "execution": {
     "iopub.execute_input": "2022-03-09T20:06:37.989580Z",
     "iopub.status.busy": "2022-03-09T20:06:37.988634Z",
     "iopub.status.idle": "2022-03-09T20:06:38.116288Z",
     "shell.execute_reply": "2022-03-09T20:06:38.115743Z",
     "shell.execute_reply.started": "2022-03-09T20:01:56.288663Z"
    },
    "papermill": {
     "duration": 0.170605,
     "end_time": "2022-03-09T20:06:38.116439",
     "exception": false,
     "start_time": "2022-03-09T20:06:37.945834",
     "status": "completed"
    },
    "tags": []
   },
   "outputs": [],
   "source": [
    "def outliers(col):\n",
    "    '''Функция предназначена для выявления выбросов в числовых переменных'''\n",
    "    Q1 = col.quantile(0.25)\n",
    "    Q3 = col.quantile(0.75)\n",
    "    IQR = Q3 - Q1\n",
    "    f = Q1 - 1.5*IQR\n",
    "    l = Q3 + 1.5*IQR\n",
    "    \n",
    "    list_for_outliers = []\n",
    "    num = 1\n",
    "    for i in col:\n",
    "        if (i > l) or (i < f):\n",
    "            list_for_outliers.append(1)\n",
    "        else:\n",
    "            list_for_outliers.append(0)\n",
    "    \n",
    "    if num in list_for_outliers:\n",
    "        return list_for_outliers\n",
    "    else: \n",
    "        return 'no outliers'\n",
    "    \n",
    "outliers_age = outliers(train_data['age'])\n",
    "outliers_score = outliers(train_data['score_bki'])\n",
    "lst_outliers_req = outliers(train_data['bki_request_cnt'])\n",
    "lst_outliers_inc = outliers(train_data['income'])"
   ]
  },
  {
   "cell_type": "code",
   "execution_count": 23,
   "metadata": {
    "execution": {
     "iopub.execute_input": "2022-03-09T20:06:38.203638Z",
     "iopub.status.busy": "2022-03-09T20:06:38.202627Z",
     "iopub.status.idle": "2022-03-09T20:06:38.259371Z",
     "shell.execute_reply": "2022-03-09T20:06:38.258801Z",
     "shell.execute_reply.started": "2022-03-09T20:01:58.474591Z"
    },
    "papermill": {
     "duration": 0.10172,
     "end_time": "2022-03-09T20:06:38.259516",
     "exception": false,
     "start_time": "2022-03-09T20:06:38.157796",
     "status": "completed"
    },
    "tags": []
   },
   "outputs": [],
   "source": [
    "# Создадим новые признаки, отображающие выбросы в данных\n",
    "train_data['bki_request_cnt_outl'] = lst_outliers_req\n",
    "train_data['income_outl'] = lst_outliers_inc\n",
    "train_data['score_bki_outl'] = outliers_score"
   ]
  },
  {
   "cell_type": "code",
   "execution_count": 24,
   "metadata": {
    "execution": {
     "iopub.execute_input": "2022-03-09T20:06:38.349315Z",
     "iopub.status.busy": "2022-03-09T20:06:38.348303Z",
     "iopub.status.idle": "2022-03-09T20:06:38.373436Z",
     "shell.execute_reply": "2022-03-09T20:06:38.373975Z",
     "shell.execute_reply.started": "2022-03-09T20:02:00.048253Z"
    },
    "papermill": {
     "duration": 0.074269,
     "end_time": "2022-03-09T20:06:38.374217",
     "exception": false,
     "start_time": "2022-03-09T20:06:38.299948",
     "status": "completed"
    },
    "tags": []
   },
   "outputs": [],
   "source": [
    "# Заменим выбросы в данных\n",
    "def rep_outliers(col):\n",
    "    '''Функция предназначена для замены выбросов в числовых переменных'''\n",
    "    Q1 = col.quantile(0.25)\n",
    "    Q3 = col.quantile(0.75)\n",
    "    IQR = Q3 - Q1\n",
    "    f = Q1 - 1.5*IQR\n",
    "    l = Q3 + 1.5*IQR\n",
    "\n",
    "    outliers = (col < f) | (col > l)\n",
    "\n",
    "    col = col.copy()\n",
    "    col.loc[col < f] = col.loc[~outliers].min()\n",
    "    col.loc[col > l] = col.loc[~outliers].max()\n",
    "\n",
    "    return col\n",
    "\n",
    "cols = ['income', 'bki_request_cnt', 'score_bki']\n",
    "\n",
    "for i in cols:\n",
    "    train_data[i] = rep_outliers(train_data[i])"
   ]
  },
  {
   "cell_type": "code",
   "execution_count": 25,
   "metadata": {
    "execution": {
     "iopub.execute_input": "2022-03-09T20:06:38.460469Z",
     "iopub.status.busy": "2022-03-09T20:06:38.459543Z",
     "iopub.status.idle": "2022-03-09T20:06:38.464172Z",
     "shell.execute_reply": "2022-03-09T20:06:38.464696Z",
     "shell.execute_reply.started": "2022-03-09T20:02:02.301614Z"
    },
    "papermill": {
     "duration": 0.048566,
     "end_time": "2022-03-09T20:06:38.464860",
     "exception": false,
     "start_time": "2022-03-09T20:06:38.416294",
     "status": "completed"
    },
    "tags": []
   },
   "outputs": [],
   "source": [
    "num_cols = ['age', 'score_bki', 'bki_request_cnt', 'income']\n",
    "cat_cols = ['first_time', 'sna', 'work_address', 'home_address', 'region_rating', \n",
    "            'app_month', 'decline_app_cnt', 'weekday']\n",
    "bin_cols = ['sex', 'car', 'car_type', 'good_work', 'foreign_passport', 'education_ACD', 'education_GRD', \n",
    "            'education_PGR', 'education_SCH', 'education_UGR', 'education_Unknown',\n",
    "            'bki_request_cnt_outl', 'income_outl', 'score_bki_outl']"
   ]
  },
  {
   "cell_type": "code",
   "execution_count": 26,
   "metadata": {
    "execution": {
     "iopub.execute_input": "2022-03-09T20:06:38.549221Z",
     "iopub.status.busy": "2022-03-09T20:06:38.548303Z",
     "iopub.status.idle": "2022-03-09T20:06:39.304406Z",
     "shell.execute_reply": "2022-03-09T20:06:39.303777Z",
     "shell.execute_reply.started": "2022-03-09T20:02:04.191764Z"
    },
    "papermill": {
     "duration": 0.799438,
     "end_time": "2022-03-09T20:06:39.304548",
     "exception": false,
     "start_time": "2022-03-09T20:06:38.505110",
     "status": "completed"
    },
    "tags": []
   },
   "outputs": [
    {
     "data": {
      "image/png": "[encoded data removed]",
      "text/plain": [
       "<Figure size 360x360 with 1 Axes>"
      ]
     },
     "metadata": {
      "needs_background": "light"
     },
     "output_type": "display_data"
    },
    {
     "data": {
      "image/png": "[encoded data removed]",
      "text/plain": [
       "<Figure size 360x360 with 1 Axes>"
      ]
     },
     "metadata": {
      "needs_background": "light"
     },
     "output_type": "display_data"
    },
    {
     "data": {
      "image/png": "[encoded data removed]",
      "text/plain": [
       "<Figure size 360x360 with 1 Axes>"
      ]
     },
     "metadata": {
      "needs_background": "light"
     },
     "output_type": "display_data"
    },
    {
     "data": {
      "image/png": "[encoded data removed]",
      "text/plain": [
       "<Figure size 360x360 with 1 Axes>"
      ]
     },
     "metadata": {
      "needs_background": "light"
     },
     "output_type": "display_data"
    }
   ],
   "source": [
    "def get_boxplot(column):\n",
    "    '''Функция предназначена для построения боксплота от целевой переменной'''\n",
    "    fig, ax = plt.subplots(figsize = (5,5))\n",
    "    sns.boxplot(x='default', y=column, data=train_data, ax=ax)\n",
    "    ax.set_title('Boxplot for ' + column)\n",
    "    plt.show()\n",
    "    \n",
    "for col in num_cols:\n",
    "    get_boxplot(col)"
   ]
  },
  {
   "cell_type": "markdown",
   "metadata": {
    "papermill": {
     "duration": 0.041751,
     "end_time": "2022-03-09T20:06:39.388704",
     "exception": false,
     "start_time": "2022-03-09T20:06:39.346953",
     "status": "completed"
    },
    "tags": []
   },
   "source": [
    "Дефолтные клиенты в среднем немного младше. Дефолтные клиенты в среднем имеют больше запросов в БКИ. Дефолтные клиенты в среднем имеют более низкий доход."
   ]
  },
  {
   "cell_type": "code",
   "execution_count": 27,
   "metadata": {
    "execution": {
     "iopub.execute_input": "2022-03-09T20:06:39.480461Z",
     "iopub.status.busy": "2022-03-09T20:06:39.479870Z",
     "iopub.status.idle": "2022-03-09T20:06:39.692495Z",
     "shell.execute_reply": "2022-03-09T20:06:39.691806Z",
     "shell.execute_reply.started": "2022-03-09T20:02:07.357160Z"
    },
    "papermill": {
     "duration": 0.260479,
     "end_time": "2022-03-09T20:06:39.692657",
     "exception": false,
     "start_time": "2022-03-09T20:06:39.432178",
     "status": "completed"
    },
    "tags": []
   },
   "outputs": [
    {
     "data": {
      "text/plain": [
       "<AxesSubplot:>"
      ]
     },
     "execution_count": 27,
     "metadata": {},
     "output_type": "execute_result"
    },
    {
     "data": {
      "image/png": "[encoded data removed]",
      "text/plain": [
       "<Figure size 432x288 with 1 Axes>"
      ]
     },
     "metadata": {
      "needs_background": "light"
     },
     "output_type": "display_data"
    }
   ],
   "source": [
    "# Оценка значимости численных переменных\n",
    "imp_num = pd.Series(f_classif(train_data[num_cols], train_data['default'])[0], index = num_cols)\n",
    "imp_num.sort_values(inplace = True)\n",
    "imp_num.plot(kind = 'barh')"
   ]
  },
  {
   "cell_type": "markdown",
   "metadata": {
    "papermill": {
     "duration": 0.043356,
     "end_time": "2022-03-09T20:06:39.779510",
     "exception": false,
     "start_time": "2022-03-09T20:06:39.736154",
     "status": "completed"
    },
    "tags": []
   },
   "source": [
    "Из числовых признаков наименьшую значимость имеет признак возраста."
   ]
  },
  {
   "cell_type": "code",
   "execution_count": 28,
   "metadata": {
    "execution": {
     "iopub.execute_input": "2022-03-09T20:06:39.877266Z",
     "iopub.status.busy": "2022-03-09T20:06:39.876229Z",
     "iopub.status.idle": "2022-03-09T20:06:40.449380Z",
     "shell.execute_reply": "2022-03-09T20:06:40.448764Z",
     "shell.execute_reply.started": "2022-03-09T20:02:09.771866Z"
    },
    "papermill": {
     "duration": 0.625991,
     "end_time": "2022-03-09T20:06:40.449515",
     "exception": false,
     "start_time": "2022-03-09T20:06:39.823524",
     "status": "completed"
    },
    "tags": []
   },
   "outputs": [
    {
     "data": {
      "text/plain": [
       "<AxesSubplot:>"
      ]
     },
     "execution_count": 28,
     "metadata": {},
     "output_type": "execute_result"
    },
    {
     "data": {
      "image/png": "[encoded data removed]",
      "text/plain": [
       "<Figure size 432x288 with 1 Axes>"
      ]
     },
     "metadata": {
      "needs_background": "light"
     },
     "output_type": "display_data"
    }
   ],
   "source": [
    "# Оценка значимости категориальных и бинарных признаков\n",
    "imp_cat = pd.Series(mutual_info_classif(train_data[bin_cols + cat_cols], train_data['default'],\n",
    "                                     discrete_features = True), index = bin_cols + cat_cols)\n",
    "imp_cat.sort_values(inplace = True)\n",
    "imp_cat.plot(kind = 'barh')"
   ]
  },
  {
   "cell_type": "markdown",
   "metadata": {
    "papermill": {
     "duration": 0.046172,
     "end_time": "2022-03-09T20:06:40.540395",
     "exception": false,
     "start_time": "2022-03-09T20:06:40.494223",
     "status": "completed"
    },
    "tags": []
   },
   "source": [
    "Из бинарных и категориальных наименее значимыми являются пропуски в колонке education, education_UGR, education_ACD и sex."
   ]
  },
  {
   "cell_type": "code",
   "execution_count": 29,
   "metadata": {
    "execution": {
     "iopub.execute_input": "2022-03-09T20:06:40.639121Z",
     "iopub.status.busy": "2022-03-09T20:06:40.638507Z",
     "iopub.status.idle": "2022-03-09T20:06:44.587459Z",
     "shell.execute_reply": "2022-03-09T20:06:44.588092Z",
     "shell.execute_reply.started": "2022-03-09T20:02:12.238548Z"
    },
    "papermill": {
     "duration": 4.003816,
     "end_time": "2022-03-09T20:06:44.588282",
     "exception": false,
     "start_time": "2022-03-09T20:06:40.584466",
     "status": "completed"
    },
    "tags": []
   },
   "outputs": [
    {
     "data": {
      "text/plain": [
       "<AxesSubplot:>"
      ]
     },
     "execution_count": 29,
     "metadata": {},
     "output_type": "execute_result"
    },
    {
     "data": {
      "image/png": "[encoded data removed]",
      "text/plain": [
       "<Figure size 864x864 with 2 Axes>"
      ]
     },
     "metadata": {},
     "output_type": "display_data"
    }
   ],
   "source": [
    "# Сделаем проверку на мультиколлинеарность. \n",
    "# Для этого построим матрицу корреляций для признаков:\n",
    "sns.set(font_scale=1)\n",
    "plt.subplots(figsize=(12, 12))\n",
    "sns.heatmap(train_data.corr(), square=True, annot=True, fmt=\".1f\", linewidths=0.1, cmap=\"RdBu\")"
   ]
  },
  {
   "cell_type": "markdown",
   "metadata": {
    "papermill": {
     "duration": 0.05168,
     "end_time": "2022-03-09T20:06:44.692977",
     "exception": false,
     "start_time": "2022-03-09T20:06:44.641297",
     "status": "completed"
    },
    "tags": []
   },
   "source": [
    "Из корреляционной таблицы видно, что коррелируют признаки work_address и home_address, также данные признаки немного коррелируют с region_raiting. Сильная корреляция также есть между признаками car и car_type, между education_SCH и education_GRD, и между first_time и sna. С целевой переменной больше всего коррелируют признаки score_bki, decline_app_cnt, bki_request_cnt, region_rating, work_address и home_address, sna, first_time, foreign_passport, education_GRD и education_SCH.\n",
    "Очевидно, что линейно зависимые и наименее значимые признаки нужно удалить из датасета, но перед этим проанализируем некоторые малозначимые признаки графически."
   ]
  },
  {
   "cell_type": "code",
   "execution_count": 30,
   "metadata": {
    "execution": {
     "iopub.execute_input": "2022-03-09T20:06:44.802587Z",
     "iopub.status.busy": "2022-03-09T20:06:44.799898Z",
     "iopub.status.idle": "2022-03-09T20:06:45.042587Z",
     "shell.execute_reply": "2022-03-09T20:06:45.041193Z",
     "shell.execute_reply.started": "2022-03-09T20:02:18.697894Z"
    },
    "papermill": {
     "duration": 0.2977,
     "end_time": "2022-03-09T20:06:45.042755",
     "exception": false,
     "start_time": "2022-03-09T20:06:44.745055",
     "status": "completed"
    },
    "tags": []
   },
   "outputs": [
    {
     "data": {
      "text/plain": [
       "<AxesSubplot:xlabel='education_PGR'>"
      ]
     },
     "execution_count": 30,
     "metadata": {},
     "output_type": "execute_result"
    },
    {
     "data": {
      "image/png": "[encoded data removed]",
      "text/plain": [
       "<Figure size 432x288 with 1 Axes>"
      ]
     },
     "metadata": {},
     "output_type": "display_data"
    }
   ],
   "source": [
    "pd.crosstab(train_data.education_PGR,train_data.default).plot(kind='bar')"
   ]
  },
  {
   "cell_type": "code",
   "execution_count": 31,
   "metadata": {
    "execution": {
     "iopub.execute_input": "2022-03-09T20:06:45.154652Z",
     "iopub.status.busy": "2022-03-09T20:06:45.154002Z",
     "iopub.status.idle": "2022-03-09T20:06:45.165433Z",
     "shell.execute_reply": "2022-03-09T20:06:45.164943Z",
     "shell.execute_reply.started": "2022-03-09T20:02:20.464646Z"
    },
    "papermill": {
     "duration": 0.069647,
     "end_time": "2022-03-09T20:06:45.165565",
     "exception": false,
     "start_time": "2022-03-09T20:06:45.095918",
     "status": "completed"
    },
    "tags": []
   },
   "outputs": [
    {
     "data": {
      "text/plain": [
       "default  education_PGR\n",
       "0        0                0.981747\n",
       "         1                0.018253\n",
       "1        0                0.991357\n",
       "         1                0.008643\n",
       "Name: education_PGR, dtype: float64"
      ]
     },
     "execution_count": 31,
     "metadata": {},
     "output_type": "execute_result"
    }
   ],
   "source": [
    "default_group = train_data.groupby('default')\n",
    "default_group.education_PGR.value_counts(normalize = True)"
   ]
  },
  {
   "cell_type": "code",
   "execution_count": 32,
   "metadata": {
    "execution": {
     "iopub.execute_input": "2022-03-09T20:06:45.279205Z",
     "iopub.status.busy": "2022-03-09T20:06:45.278162Z",
     "iopub.status.idle": "2022-03-09T20:06:45.521149Z",
     "shell.execute_reply": "2022-03-09T20:06:45.520504Z",
     "shell.execute_reply.started": "2022-03-09T20:02:22.219658Z"
    },
    "papermill": {
     "duration": 0.302127,
     "end_time": "2022-03-09T20:06:45.521292",
     "exception": false,
     "start_time": "2022-03-09T20:06:45.219165",
     "status": "completed"
    },
    "tags": []
   },
   "outputs": [
    {
     "data": {
      "text/plain": [
       "<AxesSubplot:xlabel='education_ACD'>"
      ]
     },
     "execution_count": 32,
     "metadata": {},
     "output_type": "execute_result"
    },
    {
     "data": {
      "image/png": "[encoded data removed]",
      "text/plain": [
       "<Figure size 432x288 with 1 Axes>"
      ]
     },
     "metadata": {},
     "output_type": "display_data"
    }
   ],
   "source": [
    "pd.crosstab(train_data.education_ACD,train_data.default).plot(kind='bar')"
   ]
  },
  {
   "cell_type": "code",
   "execution_count": 33,
   "metadata": {
    "execution": {
     "iopub.execute_input": "2022-03-09T20:06:45.635520Z",
     "iopub.status.busy": "2022-03-09T20:06:45.634939Z",
     "iopub.status.idle": "2022-03-09T20:06:45.645087Z",
     "shell.execute_reply": "2022-03-09T20:06:45.645595Z",
     "shell.execute_reply.started": "2022-03-09T20:02:24.387643Z"
    },
    "papermill": {
     "duration": 0.070337,
     "end_time": "2022-03-09T20:06:45.645783",
     "exception": false,
     "start_time": "2022-03-09T20:06:45.575446",
     "status": "completed"
    },
    "tags": []
   },
   "outputs": [
    {
     "data": {
      "text/plain": [
       "default  education_ACD\n",
       "0        0                0.997113\n",
       "         1                0.002887\n",
       "1        0                0.999146\n",
       "         1                0.000854\n",
       "Name: education_ACD, dtype: float64"
      ]
     },
     "execution_count": 33,
     "metadata": {},
     "output_type": "execute_result"
    }
   ],
   "source": [
    "default_group.education_ACD.value_counts(normalize = True)"
   ]
  },
  {
   "cell_type": "markdown",
   "metadata": {
    "papermill": {
     "duration": 0.053711,
     "end_time": "2022-03-09T20:06:45.753451",
     "exception": false,
     "start_time": "2022-03-09T20:06:45.699740",
     "status": "completed"
    },
    "tags": []
   },
   "source": [
    "В случае характеристик education_PGR и education_ACD, в данных присутствет очень сильный перевес, поэтому оставим только один из этих признаков."
   ]
  },
  {
   "cell_type": "code",
   "execution_count": 34,
   "metadata": {
    "execution": {
     "iopub.execute_input": "2022-03-09T20:06:45.864839Z",
     "iopub.status.busy": "2022-03-09T20:06:45.864228Z",
     "iopub.status.idle": "2022-03-09T20:06:45.871355Z",
     "shell.execute_reply": "2022-03-09T20:06:45.871879Z",
     "shell.execute_reply.started": "2022-03-09T20:02:26.485494Z"
    },
    "papermill": {
     "duration": 0.064521,
     "end_time": "2022-03-09T20:06:45.872060",
     "exception": false,
     "start_time": "2022-03-09T20:06:45.807539",
     "status": "completed"
    },
    "tags": []
   },
   "outputs": [],
   "source": [
    "# Исходя из анализа выше, удалим признаки, которые имеют наименьшую значимость или имеют линейную зависимость.\n",
    "train_data.drop(['age', 'car', 'work_address', 'education_UGR', 'education_ACD', 'education_Unknown', \n",
    "                 'income_outl', 'weekday'], axis = 1, inplace=True)"
   ]
  },
  {
   "cell_type": "code",
   "execution_count": 35,
   "metadata": {
    "execution": {
     "iopub.execute_input": "2022-03-09T20:06:45.985543Z",
     "iopub.status.busy": "2022-03-09T20:06:45.984952Z",
     "iopub.status.idle": "2022-03-09T20:06:45.987070Z",
     "shell.execute_reply": "2022-03-09T20:06:45.987527Z",
     "shell.execute_reply.started": "2022-03-09T20:02:29.296658Z"
    },
    "papermill": {
     "duration": 0.061378,
     "end_time": "2022-03-09T20:06:45.987711",
     "exception": false,
     "start_time": "2022-03-09T20:06:45.926333",
     "status": "completed"
    },
    "tags": []
   },
   "outputs": [],
   "source": [
    "# Обновление категорирования для столбцов \n",
    "num_cols = ['score_bki', 'bki_request_cnt', 'income']\n",
    "cat_cols = ['first_time', 'sna', 'home_address', 'region_rating', 'decline_app_cnt', 'app_month']\n",
    "bin_cols = ['sex', 'car_type', 'good_work', 'foreign_passport', 'education_GRD', 'education_PGR','education_SCH',\n",
    "            'bki_request_cnt_outl', 'score_bki_outl']"
   ]
  },
  {
   "cell_type": "code",
   "execution_count": 36,
   "metadata": {
    "execution": {
     "iopub.execute_input": "2022-03-09T20:06:46.102952Z",
     "iopub.status.busy": "2022-03-09T20:06:46.102316Z",
     "iopub.status.idle": "2022-03-09T20:06:46.185070Z",
     "shell.execute_reply": "2022-03-09T20:06:46.185550Z",
     "shell.execute_reply.started": "2022-03-09T20:02:31.120898Z"
    },
    "papermill": {
     "duration": 0.143124,
     "end_time": "2022-03-09T20:06:46.185743",
     "exception": false,
     "start_time": "2022-03-09T20:06:46.042619",
     "status": "completed"
    },
    "tags": []
   },
   "outputs": [],
   "source": [
    "# Воспользуемся dummy-кодированием для категориальных переменных \n",
    "for column in cat_cols:\n",
    "    train_data = pd.get_dummies(train_data, columns=[column])\n",
    "    \n",
    "# Стандартизация числовых переменных\n",
    "scaler = StandardScaler()\n",
    "train_data[num_cols] = scaler.fit_transform(train_data[num_cols])"
   ]
  },
  {
   "cell_type": "markdown",
   "metadata": {
    "papermill": {
     "duration": 0.058305,
     "end_time": "2022-03-09T20:06:46.299970",
     "exception": false,
     "start_time": "2022-03-09T20:06:46.241665",
     "status": "completed"
    },
    "tags": []
   },
   "source": [
    "# Построение модели"
   ]
  },
  {
   "cell_type": "code",
   "execution_count": 37,
   "metadata": {
    "execution": {
     "iopub.execute_input": "2022-03-09T20:06:46.419303Z",
     "iopub.status.busy": "2022-03-09T20:06:46.418624Z",
     "iopub.status.idle": "2022-03-09T20:06:46.436998Z",
     "shell.execute_reply": "2022-03-09T20:06:46.437485Z",
     "shell.execute_reply.started": "2022-03-09T20:02:33.267343Z"
    },
    "papermill": {
     "duration": 0.080928,
     "end_time": "2022-03-09T20:06:46.437666",
     "exception": false,
     "start_time": "2022-03-09T20:06:46.356738",
     "status": "completed"
    },
    "tags": []
   },
   "outputs": [
    {
     "data": {
      "text/plain": [
       "((59039, 37), (14760, 37), (59039,), (14760,))"
      ]
     },
     "execution_count": 37,
     "metadata": {},
     "output_type": "execute_result"
    }
   ],
   "source": [
    "y = train_data['default'].values  # наш таргет\n",
    "X = train_data.drop(['default'], axis=1)\n",
    "\n",
    "X_train, X_test, y_train, y_test = train_test_split(X, y, test_size=0.2, random_state=42)\n",
    "\n",
    "# проверяем\n",
    "X_train.shape, X_test.shape, y_train.shape, y_test.shape"
   ]
  },
  {
   "cell_type": "code",
   "execution_count": 38,
   "metadata": {
    "execution": {
     "iopub.execute_input": "2022-03-09T20:06:46.549948Z",
     "iopub.status.busy": "2022-03-09T20:06:46.549345Z",
     "iopub.status.idle": "2022-03-09T20:07:59.383504Z",
     "shell.execute_reply": "2022-03-09T20:07:59.383988Z",
     "shell.execute_reply.started": "2022-03-09T20:02:53.918692Z"
    },
    "papermill": {
     "duration": 72.891743,
     "end_time": "2022-03-09T20:07:59.384173",
     "exception": false,
     "start_time": "2022-03-09T20:06:46.492430",
     "status": "completed"
    },
    "tags": []
   },
   "outputs": [
    {
     "name": "stderr",
     "output_type": "stream",
     "text": [
      "/opt/conda/lib/python3.7/site-packages/sklearn/model_selection/_validation.py:552: FitFailedWarning: Estimator fit failed. The score on this train-test partition for these parameters will be set to nan. Details: \n",
      "Traceback (most recent call last):\n",
      "  File \"/opt/conda/lib/python3.7/site-packages/sklearn/model_selection/_validation.py\", line 531, in _fit_and_score\n",
      "    estimator.fit(X_train, y_train, **fit_params)\n",
      "  File \"/opt/conda/lib/python3.7/site-packages/sklearn/linear_model/_logistic.py\", line 1360, in fit\n",
      "    sample_weight=sample_weight)\n",
      "  File \"/opt/conda/lib/python3.7/site-packages/sklearn/svm/_base.py\", line 931, in _fit_liblinear\n",
      "    y=y)\n",
      "  File \"/opt/conda/lib/python3.7/site-packages/sklearn/utils/validation.py\", line 72, in inner_f\n",
      "    return f(**kwargs)\n",
      "  File \"/opt/conda/lib/python3.7/site-packages/sklearn/utils/class_weight.py\", line 64, in compute_class_weight\n",
      "    \" got: %r\" % class_weight)\n",
      "ValueError: class_weight must be dict, 'balanced', or None, got: 'none'\n",
      "\n",
      "  FitFailedWarning)\n",
      "/opt/conda/lib/python3.7/site-packages/sklearn/model_selection/_validation.py:552: FitFailedWarning: Estimator fit failed. The score on this train-test partition for these parameters will be set to nan. Details: \n",
      "Traceback (most recent call last):\n",
      "  File \"/opt/conda/lib/python3.7/site-packages/sklearn/model_selection/_validation.py\", line 531, in _fit_and_score\n",
      "    estimator.fit(X_train, y_train, **fit_params)\n",
      "  File \"/opt/conda/lib/python3.7/site-packages/sklearn/linear_model/_logistic.py\", line 1360, in fit\n",
      "    sample_weight=sample_weight)\n",
      "  File \"/opt/conda/lib/python3.7/site-packages/sklearn/svm/_base.py\", line 931, in _fit_liblinear\n",
      "    y=y)\n",
      "  File \"/opt/conda/lib/python3.7/site-packages/sklearn/utils/validation.py\", line 72, in inner_f\n",
      "    return f(**kwargs)\n",
      "  File \"/opt/conda/lib/python3.7/site-packages/sklearn/utils/class_weight.py\", line 64, in compute_class_weight\n",
      "    \" got: %r\" % class_weight)\n",
      "ValueError: class_weight must be dict, 'balanced', or None, got: 'none'\n",
      "\n",
      "  FitFailedWarning)\n",
      "/opt/conda/lib/python3.7/site-packages/sklearn/model_selection/_validation.py:552: FitFailedWarning: Estimator fit failed. The score on this train-test partition for these parameters will be set to nan. Details: \n",
      "Traceback (most recent call last):\n",
      "  File \"/opt/conda/lib/python3.7/site-packages/sklearn/model_selection/_validation.py\", line 531, in _fit_and_score\n",
      "    estimator.fit(X_train, y_train, **fit_params)\n",
      "  File \"/opt/conda/lib/python3.7/site-packages/sklearn/linear_model/_logistic.py\", line 1304, in fit\n",
      "    solver = _check_solver(self.solver, self.penalty, self.dual)\n",
      "  File \"/opt/conda/lib/python3.7/site-packages/sklearn/linear_model/_logistic.py\", line 443, in _check_solver\n",
      "    \"got %s penalty.\" % (solver, penalty))\n",
      "ValueError: Solver lbfgs supports only 'l2' or 'none' penalties, got l1 penalty.\n",
      "\n",
      "  FitFailedWarning)\n",
      "/opt/conda/lib/python3.7/site-packages/sklearn/model_selection/_validation.py:552: FitFailedWarning: Estimator fit failed. The score on this train-test partition for these parameters will be set to nan. Details: \n",
      "Traceback (most recent call last):\n",
      "  File \"/opt/conda/lib/python3.7/site-packages/sklearn/model_selection/_validation.py\", line 531, in _fit_and_score\n",
      "    estimator.fit(X_train, y_train, **fit_params)\n",
      "  File \"/opt/conda/lib/python3.7/site-packages/sklearn/linear_model/_logistic.py\", line 1360, in fit\n",
      "    sample_weight=sample_weight)\n",
      "  File \"/opt/conda/lib/python3.7/site-packages/sklearn/svm/_base.py\", line 931, in _fit_liblinear\n",
      "    y=y)\n",
      "  File \"/opt/conda/lib/python3.7/site-packages/sklearn/utils/validation.py\", line 72, in inner_f\n",
      "    return f(**kwargs)\n",
      "  File \"/opt/conda/lib/python3.7/site-packages/sklearn/utils/class_weight.py\", line 64, in compute_class_weight\n",
      "    \" got: %r\" % class_weight)\n",
      "ValueError: class_weight must be dict, 'balanced', or None, got: 'none'\n",
      "\n",
      "  FitFailedWarning)\n",
      "/opt/conda/lib/python3.7/site-packages/sklearn/model_selection/_validation.py:552: FitFailedWarning: Estimator fit failed. The score on this train-test partition for these parameters will be set to nan. Details: \n",
      "Traceback (most recent call last):\n",
      "  File \"/opt/conda/lib/python3.7/site-packages/sklearn/model_selection/_validation.py\", line 531, in _fit_and_score\n",
      "    estimator.fit(X_train, y_train, **fit_params)\n",
      "  File \"/opt/conda/lib/python3.7/site-packages/sklearn/linear_model/_logistic.py\", line 1360, in fit\n",
      "    sample_weight=sample_weight)\n",
      "  File \"/opt/conda/lib/python3.7/site-packages/sklearn/svm/_base.py\", line 931, in _fit_liblinear\n",
      "    y=y)\n",
      "  File \"/opt/conda/lib/python3.7/site-packages/sklearn/utils/validation.py\", line 72, in inner_f\n",
      "    return f(**kwargs)\n",
      "  File \"/opt/conda/lib/python3.7/site-packages/sklearn/utils/class_weight.py\", line 64, in compute_class_weight\n",
      "    \" got: %r\" % class_weight)\n",
      "ValueError: class_weight must be dict, 'balanced', or None, got: 'none'\n",
      "\n",
      "  FitFailedWarning)\n",
      "/opt/conda/lib/python3.7/site-packages/sklearn/model_selection/_validation.py:552: FitFailedWarning: Estimator fit failed. The score on this train-test partition for these parameters will be set to nan. Details: \n",
      "Traceback (most recent call last):\n",
      "  File \"/opt/conda/lib/python3.7/site-packages/sklearn/model_selection/_validation.py\", line 531, in _fit_and_score\n",
      "    estimator.fit(X_train, y_train, **fit_params)\n",
      "  File \"/opt/conda/lib/python3.7/site-packages/sklearn/linear_model/_logistic.py\", line 1417, in fit\n",
      "    for class_, warm_start_coef_ in zip(classes_, warm_start_coef))\n",
      "  File \"/opt/conda/lib/python3.7/site-packages/joblib/parallel.py\", line 1041, in __call__\n",
      "    if self.dispatch_one_batch(iterator):\n",
      "  File \"/opt/conda/lib/python3.7/site-packages/joblib/parallel.py\", line 859, in dispatch_one_batch\n",
      "    self._dispatch(tasks)\n",
      "  File \"/opt/conda/lib/python3.7/site-packages/joblib/parallel.py\", line 777, in _dispatch\n",
      "    job = self._backend.apply_async(batch, callback=cb)\n",
      "  File \"/opt/conda/lib/python3.7/site-packages/joblib/_parallel_backends.py\", line 208, in apply_async\n",
      "    result = ImmediateResult(func)\n",
      "  File \"/opt/conda/lib/python3.7/site-packages/joblib/_parallel_backends.py\", line 572, in __init__\n",
      "    self.results = batch()\n",
      "  File \"/opt/conda/lib/python3.7/site-packages/joblib/parallel.py\", line 263, in __call__\n",
      "    for func, args, kwargs in self.items]\n",
      "  File \"/opt/conda/lib/python3.7/site-packages/joblib/parallel.py\", line 263, in <listcomp>\n",
      "    for func, args, kwargs in self.items]\n",
      "  File \"/opt/conda/lib/python3.7/site-packages/sklearn/linear_model/_logistic.py\", line 764, in _logistic_regression_path\n",
      "    extra_warning_msg=_LOGISTIC_SOLVER_CONVERGENCE_MSG)\n",
      "  File \"/opt/conda/lib/python3.7/site-packages/sklearn/utils/optimize.py\", line 243, in _check_optimize_result\n",
      "    ).format(solver, result.status, result.message.decode(\"latin1\"))\n",
      "AttributeError: 'str' object has no attribute 'decode'\n",
      "\n",
      "  FitFailedWarning)\n",
      "/opt/conda/lib/python3.7/site-packages/sklearn/model_selection/_validation.py:552: FitFailedWarning: Estimator fit failed. The score on this train-test partition for these parameters will be set to nan. Details: \n",
      "Traceback (most recent call last):\n",
      "  File \"/opt/conda/lib/python3.7/site-packages/sklearn/model_selection/_validation.py\", line 531, in _fit_and_score\n",
      "    estimator.fit(X_train, y_train, **fit_params)\n",
      "  File \"/opt/conda/lib/python3.7/site-packages/sklearn/linear_model/_logistic.py\", line 1417, in fit\n",
      "    for class_, warm_start_coef_ in zip(classes_, warm_start_coef))\n",
      "  File \"/opt/conda/lib/python3.7/site-packages/joblib/parallel.py\", line 1041, in __call__\n",
      "    if self.dispatch_one_batch(iterator):\n",
      "  File \"/opt/conda/lib/python3.7/site-packages/joblib/parallel.py\", line 859, in dispatch_one_batch\n",
      "    self._dispatch(tasks)\n",
      "  File \"/opt/conda/lib/python3.7/site-packages/joblib/parallel.py\", line 777, in _dispatch\n",
      "    job = self._backend.apply_async(batch, callback=cb)\n",
      "  File \"/opt/conda/lib/python3.7/site-packages/joblib/_parallel_backends.py\", line 208, in apply_async\n",
      "    result = ImmediateResult(func)\n",
      "  File \"/opt/conda/lib/python3.7/site-packages/joblib/_parallel_backends.py\", line 572, in __init__\n",
      "    self.results = batch()\n",
      "  File \"/opt/conda/lib/python3.7/site-packages/joblib/parallel.py\", line 263, in __call__\n",
      "    for func, args, kwargs in self.items]\n",
      "  File \"/opt/conda/lib/python3.7/site-packages/joblib/parallel.py\", line 263, in <listcomp>\n",
      "    for func, args, kwargs in self.items]\n",
      "  File \"/opt/conda/lib/python3.7/site-packages/sklearn/linear_model/_logistic.py\", line 764, in _logistic_regression_path\n",
      "    extra_warning_msg=_LOGISTIC_SOLVER_CONVERGENCE_MSG)\n",
      "  File \"/opt/conda/lib/python3.7/site-packages/sklearn/utils/optimize.py\", line 243, in _check_optimize_result\n",
      "    ).format(solver, result.status, result.message.decode(\"latin1\"))\n",
      "AttributeError: 'str' object has no attribute 'decode'\n",
      "\n",
      "  FitFailedWarning)\n",
      "/opt/conda/lib/python3.7/site-packages/sklearn/model_selection/_validation.py:552: FitFailedWarning: Estimator fit failed. The score on this train-test partition for these parameters will be set to nan. Details: \n",
      "Traceback (most recent call last):\n",
      "  File \"/opt/conda/lib/python3.7/site-packages/sklearn/model_selection/_validation.py\", line 531, in _fit_and_score\n",
      "    estimator.fit(X_train, y_train, **fit_params)\n",
      "  File \"/opt/conda/lib/python3.7/site-packages/sklearn/linear_model/_logistic.py\", line 1360, in fit\n",
      "    sample_weight=sample_weight)\n",
      "  File \"/opt/conda/lib/python3.7/site-packages/sklearn/svm/_base.py\", line 931, in _fit_liblinear\n",
      "    y=y)\n",
      "  File \"/opt/conda/lib/python3.7/site-packages/sklearn/utils/validation.py\", line 72, in inner_f\n",
      "    return f(**kwargs)\n",
      "  File \"/opt/conda/lib/python3.7/site-packages/sklearn/utils/class_weight.py\", line 64, in compute_class_weight\n",
      "    \" got: %r\" % class_weight)\n",
      "ValueError: class_weight must be dict, 'balanced', or None, got: 'none'\n",
      "\n",
      "  FitFailedWarning)\n",
      "/opt/conda/lib/python3.7/site-packages/sklearn/model_selection/_validation.py:552: FitFailedWarning: Estimator fit failed. The score on this train-test partition for these parameters will be set to nan. Details: \n",
      "Traceback (most recent call last):\n",
      "  File \"/opt/conda/lib/python3.7/site-packages/sklearn/model_selection/_validation.py\", line 531, in _fit_and_score\n",
      "    estimator.fit(X_train, y_train, **fit_params)\n",
      "  File \"/opt/conda/lib/python3.7/site-packages/sklearn/linear_model/_logistic.py\", line 1360, in fit\n",
      "    sample_weight=sample_weight)\n",
      "  File \"/opt/conda/lib/python3.7/site-packages/sklearn/svm/_base.py\", line 931, in _fit_liblinear\n",
      "    y=y)\n",
      "  File \"/opt/conda/lib/python3.7/site-packages/sklearn/utils/validation.py\", line 72, in inner_f\n",
      "    return f(**kwargs)\n",
      "  File \"/opt/conda/lib/python3.7/site-packages/sklearn/utils/class_weight.py\", line 64, in compute_class_weight\n",
      "    \" got: %r\" % class_weight)\n",
      "ValueError: class_weight must be dict, 'balanced', or None, got: 'none'\n",
      "\n",
      "  FitFailedWarning)\n",
      "/opt/conda/lib/python3.7/site-packages/sklearn/model_selection/_validation.py:552: FitFailedWarning: Estimator fit failed. The score on this train-test partition for these parameters will be set to nan. Details: \n",
      "Traceback (most recent call last):\n",
      "  File \"/opt/conda/lib/python3.7/site-packages/sklearn/model_selection/_validation.py\", line 531, in _fit_and_score\n",
      "    estimator.fit(X_train, y_train, **fit_params)\n",
      "  File \"/opt/conda/lib/python3.7/site-packages/sklearn/linear_model/_logistic.py\", line 1304, in fit\n",
      "    solver = _check_solver(self.solver, self.penalty, self.dual)\n",
      "  File \"/opt/conda/lib/python3.7/site-packages/sklearn/linear_model/_logistic.py\", line 443, in _check_solver\n",
      "    \"got %s penalty.\" % (solver, penalty))\n",
      "ValueError: Solver lbfgs supports only 'l2' or 'none' penalties, got l1 penalty.\n",
      "\n",
      "  FitFailedWarning)\n",
      "/opt/conda/lib/python3.7/site-packages/sklearn/model_selection/_validation.py:552: FitFailedWarning: Estimator fit failed. The score on this train-test partition for these parameters will be set to nan. Details: \n",
      "Traceback (most recent call last):\n",
      "  File \"/opt/conda/lib/python3.7/site-packages/sklearn/model_selection/_validation.py\", line 531, in _fit_and_score\n",
      "    estimator.fit(X_train, y_train, **fit_params)\n",
      "  File \"/opt/conda/lib/python3.7/site-packages/sklearn/linear_model/_logistic.py\", line 1417, in fit\n",
      "    for class_, warm_start_coef_ in zip(classes_, warm_start_coef))\n",
      "  File \"/opt/conda/lib/python3.7/site-packages/joblib/parallel.py\", line 1041, in __call__\n",
      "    if self.dispatch_one_batch(iterator):\n",
      "  File \"/opt/conda/lib/python3.7/site-packages/joblib/parallel.py\", line 859, in dispatch_one_batch\n",
      "    self._dispatch(tasks)\n",
      "  File \"/opt/conda/lib/python3.7/site-packages/joblib/parallel.py\", line 777, in _dispatch\n",
      "    job = self._backend.apply_async(batch, callback=cb)\n",
      "  File \"/opt/conda/lib/python3.7/site-packages/joblib/_parallel_backends.py\", line 208, in apply_async\n",
      "    result = ImmediateResult(func)\n",
      "  File \"/opt/conda/lib/python3.7/site-packages/joblib/_parallel_backends.py\", line 572, in __init__\n",
      "    self.results = batch()\n",
      "  File \"/opt/conda/lib/python3.7/site-packages/joblib/parallel.py\", line 263, in __call__\n",
      "    for func, args, kwargs in self.items]\n",
      "  File \"/opt/conda/lib/python3.7/site-packages/joblib/parallel.py\", line 263, in <listcomp>\n",
      "    for func, args, kwargs in self.items]\n",
      "  File \"/opt/conda/lib/python3.7/site-packages/sklearn/linear_model/_logistic.py\", line 764, in _logistic_regression_path\n",
      "    extra_warning_msg=_LOGISTIC_SOLVER_CONVERGENCE_MSG)\n",
      "  File \"/opt/conda/lib/python3.7/site-packages/sklearn/utils/optimize.py\", line 243, in _check_optimize_result\n",
      "    ).format(solver, result.status, result.message.decode(\"latin1\"))\n",
      "AttributeError: 'str' object has no attribute 'decode'\n",
      "\n",
      "  FitFailedWarning)\n",
      "/opt/conda/lib/python3.7/site-packages/sklearn/model_selection/_validation.py:552: FitFailedWarning: Estimator fit failed. The score on this train-test partition for these parameters will be set to nan. Details: \n",
      "Traceback (most recent call last):\n",
      "  File \"/opt/conda/lib/python3.7/site-packages/sklearn/model_selection/_validation.py\", line 531, in _fit_and_score\n",
      "    estimator.fit(X_train, y_train, **fit_params)\n",
      "  File \"/opt/conda/lib/python3.7/site-packages/sklearn/linear_model/_logistic.py\", line 1360, in fit\n",
      "    sample_weight=sample_weight)\n",
      "  File \"/opt/conda/lib/python3.7/site-packages/sklearn/svm/_base.py\", line 931, in _fit_liblinear\n",
      "    y=y)\n",
      "  File \"/opt/conda/lib/python3.7/site-packages/sklearn/utils/validation.py\", line 72, in inner_f\n",
      "    return f(**kwargs)\n",
      "  File \"/opt/conda/lib/python3.7/site-packages/sklearn/utils/class_weight.py\", line 64, in compute_class_weight\n",
      "    \" got: %r\" % class_weight)\n",
      "ValueError: class_weight must be dict, 'balanced', or None, got: 'none'\n",
      "\n",
      "  FitFailedWarning)\n",
      "/opt/conda/lib/python3.7/site-packages/sklearn/model_selection/_validation.py:552: FitFailedWarning: Estimator fit failed. The score on this train-test partition for these parameters will be set to nan. Details: \n",
      "Traceback (most recent call last):\n",
      "  File \"/opt/conda/lib/python3.7/site-packages/sklearn/model_selection/_validation.py\", line 531, in _fit_and_score\n",
      "    estimator.fit(X_train, y_train, **fit_params)\n",
      "  File \"/opt/conda/lib/python3.7/site-packages/sklearn/linear_model/_logistic.py\", line 1360, in fit\n",
      "    sample_weight=sample_weight)\n",
      "  File \"/opt/conda/lib/python3.7/site-packages/sklearn/svm/_base.py\", line 931, in _fit_liblinear\n",
      "    y=y)\n",
      "  File \"/opt/conda/lib/python3.7/site-packages/sklearn/utils/validation.py\", line 72, in inner_f\n",
      "    return f(**kwargs)\n",
      "  File \"/opt/conda/lib/python3.7/site-packages/sklearn/utils/class_weight.py\", line 64, in compute_class_weight\n",
      "    \" got: %r\" % class_weight)\n",
      "ValueError: class_weight must be dict, 'balanced', or None, got: 'none'\n",
      "\n",
      "  FitFailedWarning)\n",
      "/opt/conda/lib/python3.7/site-packages/sklearn/model_selection/_validation.py:552: FitFailedWarning: Estimator fit failed. The score on this train-test partition for these parameters will be set to nan. Details: \n",
      "Traceback (most recent call last):\n",
      "  File \"/opt/conda/lib/python3.7/site-packages/sklearn/model_selection/_validation.py\", line 531, in _fit_and_score\n",
      "    estimator.fit(X_train, y_train, **fit_params)\n",
      "  File \"/opt/conda/lib/python3.7/site-packages/sklearn/linear_model/_logistic.py\", line 1360, in fit\n",
      "    sample_weight=sample_weight)\n",
      "  File \"/opt/conda/lib/python3.7/site-packages/sklearn/svm/_base.py\", line 931, in _fit_liblinear\n",
      "    y=y)\n",
      "  File \"/opt/conda/lib/python3.7/site-packages/sklearn/utils/validation.py\", line 72, in inner_f\n",
      "    return f(**kwargs)\n",
      "  File \"/opt/conda/lib/python3.7/site-packages/sklearn/utils/class_weight.py\", line 64, in compute_class_weight\n",
      "    \" got: %r\" % class_weight)\n",
      "ValueError: class_weight must be dict, 'balanced', or None, got: 'none'\n",
      "\n",
      "  FitFailedWarning)\n",
      "/opt/conda/lib/python3.7/site-packages/sklearn/linear_model/_sag.py:330: ConvergenceWarning: The max_iter was reached which means the coef_ did not converge\n",
      "  \"the coef_ did not converge\", ConvergenceWarning)\n",
      "/opt/conda/lib/python3.7/site-packages/sklearn/linear_model/_sag.py:330: ConvergenceWarning: The max_iter was reached which means the coef_ did not converge\n",
      "  \"the coef_ did not converge\", ConvergenceWarning)\n",
      "/opt/conda/lib/python3.7/site-packages/sklearn/model_selection/_validation.py:552: FitFailedWarning: Estimator fit failed. The score on this train-test partition for these parameters will be set to nan. Details: \n",
      "Traceback (most recent call last):\n",
      "  File \"/opt/conda/lib/python3.7/site-packages/sklearn/model_selection/_validation.py\", line 531, in _fit_and_score\n",
      "    estimator.fit(X_train, y_train, **fit_params)\n",
      "  File \"/opt/conda/lib/python3.7/site-packages/sklearn/linear_model/_logistic.py\", line 1360, in fit\n",
      "    sample_weight=sample_weight)\n",
      "  File \"/opt/conda/lib/python3.7/site-packages/sklearn/svm/_base.py\", line 931, in _fit_liblinear\n",
      "    y=y)\n",
      "  File \"/opt/conda/lib/python3.7/site-packages/sklearn/utils/validation.py\", line 72, in inner_f\n",
      "    return f(**kwargs)\n",
      "  File \"/opt/conda/lib/python3.7/site-packages/sklearn/utils/class_weight.py\", line 64, in compute_class_weight\n",
      "    \" got: %r\" % class_weight)\n",
      "ValueError: class_weight must be dict, 'balanced', or None, got: 'none'\n",
      "\n",
      "  FitFailedWarning)\n",
      "/opt/conda/lib/python3.7/site-packages/sklearn/model_selection/_validation.py:552: FitFailedWarning: Estimator fit failed. The score on this train-test partition for these parameters will be set to nan. Details: \n",
      "Traceback (most recent call last):\n",
      "  File \"/opt/conda/lib/python3.7/site-packages/sklearn/model_selection/_validation.py\", line 531, in _fit_and_score\n",
      "    estimator.fit(X_train, y_train, **fit_params)\n",
      "  File \"/opt/conda/lib/python3.7/site-packages/sklearn/linear_model/_logistic.py\", line 1304, in fit\n",
      "    solver = _check_solver(self.solver, self.penalty, self.dual)\n",
      "  File \"/opt/conda/lib/python3.7/site-packages/sklearn/linear_model/_logistic.py\", line 443, in _check_solver\n",
      "    \"got %s penalty.\" % (solver, penalty))\n",
      "ValueError: Solver lbfgs supports only 'l2' or 'none' penalties, got l1 penalty.\n",
      "\n",
      "  FitFailedWarning)\n",
      "/opt/conda/lib/python3.7/site-packages/sklearn/model_selection/_validation.py:552: FitFailedWarning: Estimator fit failed. The score on this train-test partition for these parameters will be set to nan. Details: \n",
      "Traceback (most recent call last):\n",
      "  File \"/opt/conda/lib/python3.7/site-packages/sklearn/model_selection/_validation.py\", line 531, in _fit_and_score\n",
      "    estimator.fit(X_train, y_train, **fit_params)\n",
      "  File \"/opt/conda/lib/python3.7/site-packages/sklearn/linear_model/_logistic.py\", line 1360, in fit\n",
      "    sample_weight=sample_weight)\n",
      "  File \"/opt/conda/lib/python3.7/site-packages/sklearn/svm/_base.py\", line 931, in _fit_liblinear\n",
      "    y=y)\n",
      "  File \"/opt/conda/lib/python3.7/site-packages/sklearn/utils/validation.py\", line 72, in inner_f\n",
      "    return f(**kwargs)\n",
      "  File \"/opt/conda/lib/python3.7/site-packages/sklearn/utils/class_weight.py\", line 64, in compute_class_weight\n",
      "    \" got: %r\" % class_weight)\n",
      "ValueError: class_weight must be dict, 'balanced', or None, got: 'none'\n",
      "\n",
      "  FitFailedWarning)\n",
      "/opt/conda/lib/python3.7/site-packages/sklearn/model_selection/_validation.py:552: FitFailedWarning: Estimator fit failed. The score on this train-test partition for these parameters will be set to nan. Details: \n",
      "Traceback (most recent call last):\n",
      "  File \"/opt/conda/lib/python3.7/site-packages/sklearn/model_selection/_validation.py\", line 531, in _fit_and_score\n",
      "    estimator.fit(X_train, y_train, **fit_params)\n",
      "  File \"/opt/conda/lib/python3.7/site-packages/sklearn/linear_model/_logistic.py\", line 1304, in fit\n",
      "    solver = _check_solver(self.solver, self.penalty, self.dual)\n",
      "  File \"/opt/conda/lib/python3.7/site-packages/sklearn/linear_model/_logistic.py\", line 443, in _check_solver\n",
      "    \"got %s penalty.\" % (solver, penalty))\n",
      "ValueError: Solver lbfgs supports only 'l2' or 'none' penalties, got l1 penalty.\n",
      "\n",
      "  FitFailedWarning)\n",
      "/opt/conda/lib/python3.7/site-packages/sklearn/model_selection/_validation.py:552: FitFailedWarning: Estimator fit failed. The score on this train-test partition for these parameters will be set to nan. Details: \n",
      "Traceback (most recent call last):\n",
      "  File \"/opt/conda/lib/python3.7/site-packages/sklearn/model_selection/_validation.py\", line 531, in _fit_and_score\n",
      "    estimator.fit(X_train, y_train, **fit_params)\n",
      "  File \"/opt/conda/lib/python3.7/site-packages/sklearn/linear_model/_logistic.py\", line 1417, in fit\n",
      "    for class_, warm_start_coef_ in zip(classes_, warm_start_coef))\n",
      "  File \"/opt/conda/lib/python3.7/site-packages/joblib/parallel.py\", line 1041, in __call__\n",
      "    if self.dispatch_one_batch(iterator):\n",
      "  File \"/opt/conda/lib/python3.7/site-packages/joblib/parallel.py\", line 859, in dispatch_one_batch\n",
      "    self._dispatch(tasks)\n",
      "  File \"/opt/conda/lib/python3.7/site-packages/joblib/parallel.py\", line 777, in _dispatch\n",
      "    job = self._backend.apply_async(batch, callback=cb)\n",
      "  File \"/opt/conda/lib/python3.7/site-packages/joblib/_parallel_backends.py\", line 208, in apply_async\n",
      "    result = ImmediateResult(func)\n",
      "  File \"/opt/conda/lib/python3.7/site-packages/joblib/_parallel_backends.py\", line 572, in __init__\n",
      "    self.results = batch()\n",
      "  File \"/opt/conda/lib/python3.7/site-packages/joblib/parallel.py\", line 263, in __call__\n",
      "    for func, args, kwargs in self.items]\n",
      "  File \"/opt/conda/lib/python3.7/site-packages/joblib/parallel.py\", line 263, in <listcomp>\n",
      "    for func, args, kwargs in self.items]\n",
      "  File \"/opt/conda/lib/python3.7/site-packages/sklearn/linear_model/_logistic.py\", line 764, in _logistic_regression_path\n",
      "    extra_warning_msg=_LOGISTIC_SOLVER_CONVERGENCE_MSG)\n",
      "  File \"/opt/conda/lib/python3.7/site-packages/sklearn/utils/optimize.py\", line 243, in _check_optimize_result\n",
      "    ).format(solver, result.status, result.message.decode(\"latin1\"))\n",
      "AttributeError: 'str' object has no attribute 'decode'\n",
      "\n",
      "  FitFailedWarning)\n",
      "/opt/conda/lib/python3.7/site-packages/sklearn/model_selection/_validation.py:552: FitFailedWarning: Estimator fit failed. The score on this train-test partition for these parameters will be set to nan. Details: \n",
      "Traceback (most recent call last):\n",
      "  File \"/opt/conda/lib/python3.7/site-packages/sklearn/model_selection/_validation.py\", line 531, in _fit_and_score\n",
      "    estimator.fit(X_train, y_train, **fit_params)\n",
      "  File \"/opt/conda/lib/python3.7/site-packages/sklearn/linear_model/_logistic.py\", line 1360, in fit\n",
      "    sample_weight=sample_weight)\n",
      "  File \"/opt/conda/lib/python3.7/site-packages/sklearn/svm/_base.py\", line 931, in _fit_liblinear\n",
      "    y=y)\n",
      "  File \"/opt/conda/lib/python3.7/site-packages/sklearn/utils/validation.py\", line 72, in inner_f\n",
      "    return f(**kwargs)\n",
      "  File \"/opt/conda/lib/python3.7/site-packages/sklearn/utils/class_weight.py\", line 64, in compute_class_weight\n",
      "    \" got: %r\" % class_weight)\n",
      "ValueError: class_weight must be dict, 'balanced', or None, got: 'none'\n",
      "\n",
      "  FitFailedWarning)\n",
      "/opt/conda/lib/python3.7/site-packages/sklearn/model_selection/_validation.py:552: FitFailedWarning: Estimator fit failed. The score on this train-test partition for these parameters will be set to nan. Details: \n",
      "Traceback (most recent call last):\n",
      "  File \"/opt/conda/lib/python3.7/site-packages/sklearn/model_selection/_validation.py\", line 531, in _fit_and_score\n",
      "    estimator.fit(X_train, y_train, **fit_params)\n",
      "  File \"/opt/conda/lib/python3.7/site-packages/sklearn/linear_model/_logistic.py\", line 1360, in fit\n",
      "    sample_weight=sample_weight)\n",
      "  File \"/opt/conda/lib/python3.7/site-packages/sklearn/svm/_base.py\", line 931, in _fit_liblinear\n",
      "    y=y)\n",
      "  File \"/opt/conda/lib/python3.7/site-packages/sklearn/utils/validation.py\", line 72, in inner_f\n",
      "    return f(**kwargs)\n",
      "  File \"/opt/conda/lib/python3.7/site-packages/sklearn/utils/class_weight.py\", line 64, in compute_class_weight\n",
      "    \" got: %r\" % class_weight)\n",
      "ValueError: class_weight must be dict, 'balanced', or None, got: 'none'\n",
      "\n",
      "  FitFailedWarning)\n",
      "/opt/conda/lib/python3.7/site-packages/sklearn/linear_model/_sag.py:330: ConvergenceWarning: The max_iter was reached which means the coef_ did not converge\n",
      "  \"the coef_ did not converge\", ConvergenceWarning)\n",
      "/opt/conda/lib/python3.7/site-packages/sklearn/linear_model/_sag.py:330: ConvergenceWarning: The max_iter was reached which means the coef_ did not converge\n",
      "  \"the coef_ did not converge\", ConvergenceWarning)\n",
      "/opt/conda/lib/python3.7/site-packages/sklearn/linear_model/_sag.py:330: ConvergenceWarning: The max_iter was reached which means the coef_ did not converge\n",
      "  \"the coef_ did not converge\", ConvergenceWarning)\n",
      "/opt/conda/lib/python3.7/site-packages/sklearn/model_selection/_validation.py:552: FitFailedWarning: Estimator fit failed. The score on this train-test partition for these parameters will be set to nan. Details: \n",
      "Traceback (most recent call last):\n",
      "  File \"/opt/conda/lib/python3.7/site-packages/sklearn/model_selection/_validation.py\", line 531, in _fit_and_score\n",
      "    estimator.fit(X_train, y_train, **fit_params)\n",
      "  File \"/opt/conda/lib/python3.7/site-packages/sklearn/linear_model/_logistic.py\", line 1360, in fit\n",
      "    sample_weight=sample_weight)\n",
      "  File \"/opt/conda/lib/python3.7/site-packages/sklearn/svm/_base.py\", line 931, in _fit_liblinear\n",
      "    y=y)\n",
      "  File \"/opt/conda/lib/python3.7/site-packages/sklearn/utils/validation.py\", line 72, in inner_f\n",
      "    return f(**kwargs)\n",
      "  File \"/opt/conda/lib/python3.7/site-packages/sklearn/utils/class_weight.py\", line 64, in compute_class_weight\n",
      "    \" got: %r\" % class_weight)\n",
      "ValueError: class_weight must be dict, 'balanced', or None, got: 'none'\n",
      "\n",
      "  FitFailedWarning)\n",
      "/opt/conda/lib/python3.7/site-packages/sklearn/model_selection/_validation.py:552: FitFailedWarning: Estimator fit failed. The score on this train-test partition for these parameters will be set to nan. Details: \n",
      "Traceback (most recent call last):\n",
      "  File \"/opt/conda/lib/python3.7/site-packages/sklearn/model_selection/_validation.py\", line 531, in _fit_and_score\n",
      "    estimator.fit(X_train, y_train, **fit_params)\n",
      "  File \"/opt/conda/lib/python3.7/site-packages/sklearn/linear_model/_logistic.py\", line 1360, in fit\n",
      "    sample_weight=sample_weight)\n",
      "  File \"/opt/conda/lib/python3.7/site-packages/sklearn/svm/_base.py\", line 931, in _fit_liblinear\n",
      "    y=y)\n",
      "  File \"/opt/conda/lib/python3.7/site-packages/sklearn/utils/validation.py\", line 72, in inner_f\n",
      "    return f(**kwargs)\n",
      "  File \"/opt/conda/lib/python3.7/site-packages/sklearn/utils/class_weight.py\", line 64, in compute_class_weight\n",
      "    \" got: %r\" % class_weight)\n",
      "ValueError: class_weight must be dict, 'balanced', or None, got: 'none'\n",
      "\n",
      "  FitFailedWarning)\n",
      "/opt/conda/lib/python3.7/site-packages/sklearn/model_selection/_validation.py:552: FitFailedWarning: Estimator fit failed. The score on this train-test partition for these parameters will be set to nan. Details: \n",
      "Traceback (most recent call last):\n",
      "  File \"/opt/conda/lib/python3.7/site-packages/sklearn/model_selection/_validation.py\", line 531, in _fit_and_score\n",
      "    estimator.fit(X_train, y_train, **fit_params)\n",
      "  File \"/opt/conda/lib/python3.7/site-packages/sklearn/linear_model/_logistic.py\", line 1304, in fit\n",
      "    solver = _check_solver(self.solver, self.penalty, self.dual)\n",
      "  File \"/opt/conda/lib/python3.7/site-packages/sklearn/linear_model/_logistic.py\", line 443, in _check_solver\n",
      "    \"got %s penalty.\" % (solver, penalty))\n",
      "ValueError: Solver lbfgs supports only 'l2' or 'none' penalties, got l1 penalty.\n",
      "\n",
      "  FitFailedWarning)\n",
      "/opt/conda/lib/python3.7/site-packages/sklearn/model_selection/_validation.py:552: FitFailedWarning: Estimator fit failed. The score on this train-test partition for these parameters will be set to nan. Details: \n",
      "Traceback (most recent call last):\n",
      "  File \"/opt/conda/lib/python3.7/site-packages/sklearn/model_selection/_validation.py\", line 531, in _fit_and_score\n",
      "    estimator.fit(X_train, y_train, **fit_params)\n",
      "  File \"/opt/conda/lib/python3.7/site-packages/sklearn/linear_model/_logistic.py\", line 1304, in fit\n",
      "    solver = _check_solver(self.solver, self.penalty, self.dual)\n",
      "  File \"/opt/conda/lib/python3.7/site-packages/sklearn/linear_model/_logistic.py\", line 443, in _check_solver\n",
      "    \"got %s penalty.\" % (solver, penalty))\n",
      "ValueError: Solver lbfgs supports only 'l2' or 'none' penalties, got l1 penalty.\n",
      "\n",
      "  FitFailedWarning)\n",
      "/opt/conda/lib/python3.7/site-packages/sklearn/model_selection/_validation.py:552: FitFailedWarning: Estimator fit failed. The score on this train-test partition for these parameters will be set to nan. Details: \n",
      "Traceback (most recent call last):\n",
      "  File \"/opt/conda/lib/python3.7/site-packages/sklearn/model_selection/_validation.py\", line 531, in _fit_and_score\n",
      "    estimator.fit(X_train, y_train, **fit_params)\n",
      "  File \"/opt/conda/lib/python3.7/site-packages/sklearn/linear_model/_logistic.py\", line 1304, in fit\n",
      "    solver = _check_solver(self.solver, self.penalty, self.dual)\n",
      "  File \"/opt/conda/lib/python3.7/site-packages/sklearn/linear_model/_logistic.py\", line 443, in _check_solver\n",
      "    \"got %s penalty.\" % (solver, penalty))\n",
      "ValueError: Solver lbfgs supports only 'l2' or 'none' penalties, got l1 penalty.\n",
      "\n",
      "  FitFailedWarning)\n",
      "/opt/conda/lib/python3.7/site-packages/sklearn/model_selection/_validation.py:552: FitFailedWarning: Estimator fit failed. The score on this train-test partition for these parameters will be set to nan. Details: \n",
      "Traceback (most recent call last):\n",
      "  File \"/opt/conda/lib/python3.7/site-packages/sklearn/model_selection/_validation.py\", line 531, in _fit_and_score\n",
      "    estimator.fit(X_train, y_train, **fit_params)\n",
      "  File \"/opt/conda/lib/python3.7/site-packages/sklearn/linear_model/_logistic.py\", line 1417, in fit\n",
      "    for class_, warm_start_coef_ in zip(classes_, warm_start_coef))\n",
      "  File \"/opt/conda/lib/python3.7/site-packages/joblib/parallel.py\", line 1041, in __call__\n",
      "    if self.dispatch_one_batch(iterator):\n",
      "  File \"/opt/conda/lib/python3.7/site-packages/joblib/parallel.py\", line 859, in dispatch_one_batch\n",
      "    self._dispatch(tasks)\n",
      "  File \"/opt/conda/lib/python3.7/site-packages/joblib/parallel.py\", line 777, in _dispatch\n",
      "    job = self._backend.apply_async(batch, callback=cb)\n",
      "  File \"/opt/conda/lib/python3.7/site-packages/joblib/_parallel_backends.py\", line 208, in apply_async\n",
      "    result = ImmediateResult(func)\n",
      "  File \"/opt/conda/lib/python3.7/site-packages/joblib/_parallel_backends.py\", line 572, in __init__\n",
      "    self.results = batch()\n",
      "  File \"/opt/conda/lib/python3.7/site-packages/joblib/parallel.py\", line 263, in __call__\n",
      "    for func, args, kwargs in self.items]\n",
      "  File \"/opt/conda/lib/python3.7/site-packages/joblib/parallel.py\", line 263, in <listcomp>\n",
      "    for func, args, kwargs in self.items]\n",
      "  File \"/opt/conda/lib/python3.7/site-packages/sklearn/linear_model/_logistic.py\", line 764, in _logistic_regression_path\n",
      "    extra_warning_msg=_LOGISTIC_SOLVER_CONVERGENCE_MSG)\n",
      "  File \"/opt/conda/lib/python3.7/site-packages/sklearn/utils/optimize.py\", line 243, in _check_optimize_result\n",
      "    ).format(solver, result.status, result.message.decode(\"latin1\"))\n",
      "AttributeError: 'str' object has no attribute 'decode'\n",
      "\n",
      "  FitFailedWarning)\n",
      "/opt/conda/lib/python3.7/site-packages/sklearn/linear_model/_sag.py:330: ConvergenceWarning: The max_iter was reached which means the coef_ did not converge\n",
      "  \"the coef_ did not converge\", ConvergenceWarning)\n",
      "/opt/conda/lib/python3.7/site-packages/sklearn/linear_model/_sag.py:330: ConvergenceWarning: The max_iter was reached which means the coef_ did not converge\n",
      "  \"the coef_ did not converge\", ConvergenceWarning)\n",
      "/opt/conda/lib/python3.7/site-packages/sklearn/model_selection/_validation.py:552: FitFailedWarning: Estimator fit failed. The score on this train-test partition for these parameters will be set to nan. Details: \n",
      "Traceback (most recent call last):\n",
      "  File \"/opt/conda/lib/python3.7/site-packages/sklearn/model_selection/_validation.py\", line 531, in _fit_and_score\n",
      "    estimator.fit(X_train, y_train, **fit_params)\n",
      "  File \"/opt/conda/lib/python3.7/site-packages/sklearn/linear_model/_logistic.py\", line 1417, in fit\n",
      "    for class_, warm_start_coef_ in zip(classes_, warm_start_coef))\n",
      "  File \"/opt/conda/lib/python3.7/site-packages/joblib/parallel.py\", line 1041, in __call__\n",
      "    if self.dispatch_one_batch(iterator):\n",
      "  File \"/opt/conda/lib/python3.7/site-packages/joblib/parallel.py\", line 859, in dispatch_one_batch\n",
      "    self._dispatch(tasks)\n",
      "  File \"/opt/conda/lib/python3.7/site-packages/joblib/parallel.py\", line 777, in _dispatch\n",
      "    job = self._backend.apply_async(batch, callback=cb)\n",
      "  File \"/opt/conda/lib/python3.7/site-packages/joblib/_parallel_backends.py\", line 208, in apply_async\n",
      "    result = ImmediateResult(func)\n",
      "  File \"/opt/conda/lib/python3.7/site-packages/joblib/_parallel_backends.py\", line 572, in __init__\n",
      "    self.results = batch()\n",
      "  File \"/opt/conda/lib/python3.7/site-packages/joblib/parallel.py\", line 263, in __call__\n",
      "    for func, args, kwargs in self.items]\n",
      "  File \"/opt/conda/lib/python3.7/site-packages/joblib/parallel.py\", line 263, in <listcomp>\n",
      "    for func, args, kwargs in self.items]\n",
      "  File \"/opt/conda/lib/python3.7/site-packages/sklearn/linear_model/_logistic.py\", line 764, in _logistic_regression_path\n",
      "    extra_warning_msg=_LOGISTIC_SOLVER_CONVERGENCE_MSG)\n",
      "  File \"/opt/conda/lib/python3.7/site-packages/sklearn/utils/optimize.py\", line 243, in _check_optimize_result\n",
      "    ).format(solver, result.status, result.message.decode(\"latin1\"))\n",
      "AttributeError: 'str' object has no attribute 'decode'\n",
      "\n",
      "  FitFailedWarning)\n",
      "/opt/conda/lib/python3.7/site-packages/sklearn/linear_model/_sag.py:330: ConvergenceWarning: The max_iter was reached which means the coef_ did not converge\n",
      "  \"the coef_ did not converge\", ConvergenceWarning)\n",
      "/opt/conda/lib/python3.7/site-packages/sklearn/model_selection/_validation.py:552: FitFailedWarning: Estimator fit failed. The score on this train-test partition for these parameters will be set to nan. Details: \n",
      "Traceback (most recent call last):\n",
      "  File \"/opt/conda/lib/python3.7/site-packages/sklearn/model_selection/_validation.py\", line 531, in _fit_and_score\n",
      "    estimator.fit(X_train, y_train, **fit_params)\n",
      "  File \"/opt/conda/lib/python3.7/site-packages/sklearn/linear_model/_logistic.py\", line 1417, in fit\n",
      "    for class_, warm_start_coef_ in zip(classes_, warm_start_coef))\n",
      "  File \"/opt/conda/lib/python3.7/site-packages/joblib/parallel.py\", line 1041, in __call__\n",
      "    if self.dispatch_one_batch(iterator):\n",
      "  File \"/opt/conda/lib/python3.7/site-packages/joblib/parallel.py\", line 859, in dispatch_one_batch\n",
      "    self._dispatch(tasks)\n",
      "  File \"/opt/conda/lib/python3.7/site-packages/joblib/parallel.py\", line 777, in _dispatch\n",
      "    job = self._backend.apply_async(batch, callback=cb)\n",
      "  File \"/opt/conda/lib/python3.7/site-packages/joblib/_parallel_backends.py\", line 208, in apply_async\n",
      "    result = ImmediateResult(func)\n",
      "  File \"/opt/conda/lib/python3.7/site-packages/joblib/_parallel_backends.py\", line 572, in __init__\n",
      "    self.results = batch()\n",
      "  File \"/opt/conda/lib/python3.7/site-packages/joblib/parallel.py\", line 263, in __call__\n",
      "    for func, args, kwargs in self.items]\n",
      "  File \"/opt/conda/lib/python3.7/site-packages/joblib/parallel.py\", line 263, in <listcomp>\n",
      "    for func, args, kwargs in self.items]\n",
      "  File \"/opt/conda/lib/python3.7/site-packages/sklearn/linear_model/_logistic.py\", line 764, in _logistic_regression_path\n",
      "    extra_warning_msg=_LOGISTIC_SOLVER_CONVERGENCE_MSG)\n",
      "  File \"/opt/conda/lib/python3.7/site-packages/sklearn/utils/optimize.py\", line 243, in _check_optimize_result\n",
      "    ).format(solver, result.status, result.message.decode(\"latin1\"))\n",
      "AttributeError: 'str' object has no attribute 'decode'\n",
      "\n",
      "  FitFailedWarning)\n",
      "/opt/conda/lib/python3.7/site-packages/sklearn/model_selection/_validation.py:552: FitFailedWarning: Estimator fit failed. The score on this train-test partition for these parameters will be set to nan. Details: \n",
      "Traceback (most recent call last):\n",
      "  File \"/opt/conda/lib/python3.7/site-packages/sklearn/model_selection/_validation.py\", line 531, in _fit_and_score\n",
      "    estimator.fit(X_train, y_train, **fit_params)\n",
      "  File \"/opt/conda/lib/python3.7/site-packages/sklearn/linear_model/_logistic.py\", line 1417, in fit\n",
      "    for class_, warm_start_coef_ in zip(classes_, warm_start_coef))\n",
      "  File \"/opt/conda/lib/python3.7/site-packages/joblib/parallel.py\", line 1041, in __call__\n",
      "    if self.dispatch_one_batch(iterator):\n",
      "  File \"/opt/conda/lib/python3.7/site-packages/joblib/parallel.py\", line 859, in dispatch_one_batch\n",
      "    self._dispatch(tasks)\n",
      "  File \"/opt/conda/lib/python3.7/site-packages/joblib/parallel.py\", line 777, in _dispatch\n",
      "    job = self._backend.apply_async(batch, callback=cb)\n",
      "  File \"/opt/conda/lib/python3.7/site-packages/joblib/_parallel_backends.py\", line 208, in apply_async\n",
      "    result = ImmediateResult(func)\n",
      "  File \"/opt/conda/lib/python3.7/site-packages/joblib/_parallel_backends.py\", line 572, in __init__\n",
      "    self.results = batch()\n",
      "  File \"/opt/conda/lib/python3.7/site-packages/joblib/parallel.py\", line 263, in __call__\n",
      "    for func, args, kwargs in self.items]\n",
      "  File \"/opt/conda/lib/python3.7/site-packages/joblib/parallel.py\", line 263, in <listcomp>\n",
      "    for func, args, kwargs in self.items]\n",
      "  File \"/opt/conda/lib/python3.7/site-packages/sklearn/linear_model/_logistic.py\", line 764, in _logistic_regression_path\n",
      "    extra_warning_msg=_LOGISTIC_SOLVER_CONVERGENCE_MSG)\n",
      "  File \"/opt/conda/lib/python3.7/site-packages/sklearn/utils/optimize.py\", line 243, in _check_optimize_result\n",
      "    ).format(solver, result.status, result.message.decode(\"latin1\"))\n",
      "AttributeError: 'str' object has no attribute 'decode'\n",
      "\n",
      "  FitFailedWarning)\n",
      "/opt/conda/lib/python3.7/site-packages/sklearn/linear_model/_sag.py:330: ConvergenceWarning: The max_iter was reached which means the coef_ did not converge\n",
      "  \"the coef_ did not converge\", ConvergenceWarning)\n",
      "/opt/conda/lib/python3.7/site-packages/sklearn/linear_model/_sag.py:330: ConvergenceWarning: The max_iter was reached which means the coef_ did not converge\n",
      "  \"the coef_ did not converge\", ConvergenceWarning)\n",
      "/opt/conda/lib/python3.7/site-packages/sklearn/linear_model/_sag.py:330: ConvergenceWarning: The max_iter was reached which means the coef_ did not converge\n",
      "  \"the coef_ did not converge\", ConvergenceWarning)\n",
      "/opt/conda/lib/python3.7/site-packages/sklearn/model_selection/_validation.py:552: FitFailedWarning: Estimator fit failed. The score on this train-test partition for these parameters will be set to nan. Details: \n",
      "Traceback (most recent call last):\n",
      "  File \"/opt/conda/lib/python3.7/site-packages/sklearn/model_selection/_validation.py\", line 531, in _fit_and_score\n",
      "    estimator.fit(X_train, y_train, **fit_params)\n",
      "  File \"/opt/conda/lib/python3.7/site-packages/sklearn/linear_model/_logistic.py\", line 1417, in fit\n",
      "    for class_, warm_start_coef_ in zip(classes_, warm_start_coef))\n",
      "  File \"/opt/conda/lib/python3.7/site-packages/joblib/parallel.py\", line 1041, in __call__\n",
      "    if self.dispatch_one_batch(iterator):\n",
      "  File \"/opt/conda/lib/python3.7/site-packages/joblib/parallel.py\", line 859, in dispatch_one_batch\n",
      "    self._dispatch(tasks)\n",
      "  File \"/opt/conda/lib/python3.7/site-packages/joblib/parallel.py\", line 777, in _dispatch\n",
      "    job = self._backend.apply_async(batch, callback=cb)\n",
      "  File \"/opt/conda/lib/python3.7/site-packages/joblib/_parallel_backends.py\", line 208, in apply_async\n",
      "    result = ImmediateResult(func)\n",
      "  File \"/opt/conda/lib/python3.7/site-packages/joblib/_parallel_backends.py\", line 572, in __init__\n",
      "    self.results = batch()\n",
      "  File \"/opt/conda/lib/python3.7/site-packages/joblib/parallel.py\", line 263, in __call__\n",
      "    for func, args, kwargs in self.items]\n",
      "  File \"/opt/conda/lib/python3.7/site-packages/joblib/parallel.py\", line 263, in <listcomp>\n",
      "    for func, args, kwargs in self.items]\n",
      "  File \"/opt/conda/lib/python3.7/site-packages/sklearn/linear_model/_logistic.py\", line 764, in _logistic_regression_path\n",
      "    extra_warning_msg=_LOGISTIC_SOLVER_CONVERGENCE_MSG)\n",
      "  File \"/opt/conda/lib/python3.7/site-packages/sklearn/utils/optimize.py\", line 243, in _check_optimize_result\n",
      "    ).format(solver, result.status, result.message.decode(\"latin1\"))\n",
      "AttributeError: 'str' object has no attribute 'decode'\n",
      "\n",
      "  FitFailedWarning)\n",
      "/opt/conda/lib/python3.7/site-packages/sklearn/model_selection/_validation.py:552: FitFailedWarning: Estimator fit failed. The score on this train-test partition for these parameters will be set to nan. Details: \n",
      "Traceback (most recent call last):\n",
      "  File \"/opt/conda/lib/python3.7/site-packages/sklearn/model_selection/_validation.py\", line 531, in _fit_and_score\n",
      "    estimator.fit(X_train, y_train, **fit_params)\n",
      "  File \"/opt/conda/lib/python3.7/site-packages/sklearn/linear_model/_logistic.py\", line 1417, in fit\n",
      "    for class_, warm_start_coef_ in zip(classes_, warm_start_coef))\n",
      "  File \"/opt/conda/lib/python3.7/site-packages/joblib/parallel.py\", line 1041, in __call__\n",
      "    if self.dispatch_one_batch(iterator):\n",
      "  File \"/opt/conda/lib/python3.7/site-packages/joblib/parallel.py\", line 859, in dispatch_one_batch\n",
      "    self._dispatch(tasks)\n",
      "  File \"/opt/conda/lib/python3.7/site-packages/joblib/parallel.py\", line 777, in _dispatch\n",
      "    job = self._backend.apply_async(batch, callback=cb)\n",
      "  File \"/opt/conda/lib/python3.7/site-packages/joblib/_parallel_backends.py\", line 208, in apply_async\n",
      "    result = ImmediateResult(func)\n",
      "  File \"/opt/conda/lib/python3.7/site-packages/joblib/_parallel_backends.py\", line 572, in __init__\n",
      "    self.results = batch()\n",
      "  File \"/opt/conda/lib/python3.7/site-packages/joblib/parallel.py\", line 263, in __call__\n",
      "    for func, args, kwargs in self.items]\n",
      "  File \"/opt/conda/lib/python3.7/site-packages/joblib/parallel.py\", line 263, in <listcomp>\n",
      "    for func, args, kwargs in self.items]\n",
      "  File \"/opt/conda/lib/python3.7/site-packages/sklearn/linear_model/_logistic.py\", line 764, in _logistic_regression_path\n",
      "    extra_warning_msg=_LOGISTIC_SOLVER_CONVERGENCE_MSG)\n",
      "  File \"/opt/conda/lib/python3.7/site-packages/sklearn/utils/optimize.py\", line 243, in _check_optimize_result\n",
      "    ).format(solver, result.status, result.message.decode(\"latin1\"))\n",
      "AttributeError: 'str' object has no attribute 'decode'\n",
      "\n",
      "  FitFailedWarning)\n",
      "/opt/conda/lib/python3.7/site-packages/sklearn/model_selection/_validation.py:552: FitFailedWarning: Estimator fit failed. The score on this train-test partition for these parameters will be set to nan. Details: \n",
      "Traceback (most recent call last):\n",
      "  File \"/opt/conda/lib/python3.7/site-packages/sklearn/model_selection/_validation.py\", line 531, in _fit_and_score\n",
      "    estimator.fit(X_train, y_train, **fit_params)\n",
      "  File \"/opt/conda/lib/python3.7/site-packages/sklearn/linear_model/_logistic.py\", line 1360, in fit\n",
      "    sample_weight=sample_weight)\n",
      "  File \"/opt/conda/lib/python3.7/site-packages/sklearn/svm/_base.py\", line 931, in _fit_liblinear\n",
      "    y=y)\n",
      "  File \"/opt/conda/lib/python3.7/site-packages/sklearn/utils/validation.py\", line 72, in inner_f\n",
      "    return f(**kwargs)\n",
      "  File \"/opt/conda/lib/python3.7/site-packages/sklearn/utils/class_weight.py\", line 64, in compute_class_weight\n",
      "    \" got: %r\" % class_weight)\n",
      "ValueError: class_weight must be dict, 'balanced', or None, got: 'none'\n",
      "\n",
      "  FitFailedWarning)\n",
      "/opt/conda/lib/python3.7/site-packages/sklearn/model_selection/_validation.py:552: FitFailedWarning: Estimator fit failed. The score on this train-test partition for these parameters will be set to nan. Details: \n",
      "Traceback (most recent call last):\n",
      "  File \"/opt/conda/lib/python3.7/site-packages/sklearn/model_selection/_validation.py\", line 531, in _fit_and_score\n",
      "    estimator.fit(X_train, y_train, **fit_params)\n",
      "  File \"/opt/conda/lib/python3.7/site-packages/sklearn/linear_model/_logistic.py\", line 1360, in fit\n",
      "    sample_weight=sample_weight)\n",
      "  File \"/opt/conda/lib/python3.7/site-packages/sklearn/svm/_base.py\", line 931, in _fit_liblinear\n",
      "    y=y)\n",
      "  File \"/opt/conda/lib/python3.7/site-packages/sklearn/utils/validation.py\", line 72, in inner_f\n",
      "    return f(**kwargs)\n",
      "  File \"/opt/conda/lib/python3.7/site-packages/sklearn/utils/class_weight.py\", line 64, in compute_class_weight\n",
      "    \" got: %r\" % class_weight)\n",
      "ValueError: class_weight must be dict, 'balanced', or None, got: 'none'\n",
      "\n",
      "  FitFailedWarning)\n",
      "/opt/conda/lib/python3.7/site-packages/sklearn/linear_model/_sag.py:330: ConvergenceWarning: The max_iter was reached which means the coef_ did not converge\n",
      "  \"the coef_ did not converge\", ConvergenceWarning)\n",
      "/opt/conda/lib/python3.7/site-packages/sklearn/linear_model/_sag.py:330: ConvergenceWarning: The max_iter was reached which means the coef_ did not converge\n",
      "  \"the coef_ did not converge\", ConvergenceWarning)\n",
      "/opt/conda/lib/python3.7/site-packages/sklearn/model_selection/_validation.py:552: FitFailedWarning: Estimator fit failed. The score on this train-test partition for these parameters will be set to nan. Details: \n",
      "Traceback (most recent call last):\n",
      "  File \"/opt/conda/lib/python3.7/site-packages/sklearn/model_selection/_validation.py\", line 531, in _fit_and_score\n",
      "    estimator.fit(X_train, y_train, **fit_params)\n",
      "  File \"/opt/conda/lib/python3.7/site-packages/sklearn/linear_model/_logistic.py\", line 1417, in fit\n",
      "    for class_, warm_start_coef_ in zip(classes_, warm_start_coef))\n",
      "  File \"/opt/conda/lib/python3.7/site-packages/joblib/parallel.py\", line 1041, in __call__\n",
      "    if self.dispatch_one_batch(iterator):\n",
      "  File \"/opt/conda/lib/python3.7/site-packages/joblib/parallel.py\", line 859, in dispatch_one_batch\n",
      "    self._dispatch(tasks)\n",
      "  File \"/opt/conda/lib/python3.7/site-packages/joblib/parallel.py\", line 777, in _dispatch\n",
      "    job = self._backend.apply_async(batch, callback=cb)\n",
      "  File \"/opt/conda/lib/python3.7/site-packages/joblib/_parallel_backends.py\", line 208, in apply_async\n",
      "    result = ImmediateResult(func)\n",
      "  File \"/opt/conda/lib/python3.7/site-packages/joblib/_parallel_backends.py\", line 572, in __init__\n",
      "    self.results = batch()\n",
      "  File \"/opt/conda/lib/python3.7/site-packages/joblib/parallel.py\", line 263, in __call__\n",
      "    for func, args, kwargs in self.items]\n",
      "  File \"/opt/conda/lib/python3.7/site-packages/joblib/parallel.py\", line 263, in <listcomp>\n",
      "    for func, args, kwargs in self.items]\n",
      "  File \"/opt/conda/lib/python3.7/site-packages/sklearn/linear_model/_logistic.py\", line 764, in _logistic_regression_path\n",
      "    extra_warning_msg=_LOGISTIC_SOLVER_CONVERGENCE_MSG)\n",
      "  File \"/opt/conda/lib/python3.7/site-packages/sklearn/utils/optimize.py\", line 243, in _check_optimize_result\n",
      "    ).format(solver, result.status, result.message.decode(\"latin1\"))\n",
      "AttributeError: 'str' object has no attribute 'decode'\n",
      "\n",
      "  FitFailedWarning)\n",
      "/opt/conda/lib/python3.7/site-packages/sklearn/model_selection/_validation.py:552: FitFailedWarning: Estimator fit failed. The score on this train-test partition for these parameters will be set to nan. Details: \n",
      "Traceback (most recent call last):\n",
      "  File \"/opt/conda/lib/python3.7/site-packages/sklearn/model_selection/_validation.py\", line 531, in _fit_and_score\n",
      "    estimator.fit(X_train, y_train, **fit_params)\n",
      "  File \"/opt/conda/lib/python3.7/site-packages/sklearn/linear_model/_logistic.py\", line 1417, in fit\n",
      "    for class_, warm_start_coef_ in zip(classes_, warm_start_coef))\n",
      "  File \"/opt/conda/lib/python3.7/site-packages/joblib/parallel.py\", line 1041, in __call__\n",
      "    if self.dispatch_one_batch(iterator):\n",
      "  File \"/opt/conda/lib/python3.7/site-packages/joblib/parallel.py\", line 859, in dispatch_one_batch\n",
      "    self._dispatch(tasks)\n",
      "  File \"/opt/conda/lib/python3.7/site-packages/joblib/parallel.py\", line 777, in _dispatch\n",
      "    job = self._backend.apply_async(batch, callback=cb)\n",
      "  File \"/opt/conda/lib/python3.7/site-packages/joblib/_parallel_backends.py\", line 208, in apply_async\n",
      "    result = ImmediateResult(func)\n",
      "  File \"/opt/conda/lib/python3.7/site-packages/joblib/_parallel_backends.py\", line 572, in __init__\n",
      "    self.results = batch()\n",
      "  File \"/opt/conda/lib/python3.7/site-packages/joblib/parallel.py\", line 263, in __call__\n",
      "    for func, args, kwargs in self.items]\n",
      "  File \"/opt/conda/lib/python3.7/site-packages/joblib/parallel.py\", line 263, in <listcomp>\n",
      "    for func, args, kwargs in self.items]\n",
      "  File \"/opt/conda/lib/python3.7/site-packages/sklearn/linear_model/_logistic.py\", line 764, in _logistic_regression_path\n",
      "    extra_warning_msg=_LOGISTIC_SOLVER_CONVERGENCE_MSG)\n",
      "  File \"/opt/conda/lib/python3.7/site-packages/sklearn/utils/optimize.py\", line 243, in _check_optimize_result\n",
      "    ).format(solver, result.status, result.message.decode(\"latin1\"))\n",
      "AttributeError: 'str' object has no attribute 'decode'\n",
      "\n",
      "  FitFailedWarning)\n",
      "/opt/conda/lib/python3.7/site-packages/sklearn/model_selection/_validation.py:552: FitFailedWarning: Estimator fit failed. The score on this train-test partition for these parameters will be set to nan. Details: \n",
      "Traceback (most recent call last):\n",
      "  File \"/opt/conda/lib/python3.7/site-packages/sklearn/model_selection/_validation.py\", line 531, in _fit_and_score\n",
      "    estimator.fit(X_train, y_train, **fit_params)\n",
      "  File \"/opt/conda/lib/python3.7/site-packages/sklearn/linear_model/_logistic.py\", line 1417, in fit\n",
      "    for class_, warm_start_coef_ in zip(classes_, warm_start_coef))\n",
      "  File \"/opt/conda/lib/python3.7/site-packages/joblib/parallel.py\", line 1041, in __call__\n",
      "    if self.dispatch_one_batch(iterator):\n",
      "  File \"/opt/conda/lib/python3.7/site-packages/joblib/parallel.py\", line 859, in dispatch_one_batch\n",
      "    self._dispatch(tasks)\n",
      "  File \"/opt/conda/lib/python3.7/site-packages/joblib/parallel.py\", line 777, in _dispatch\n",
      "    job = self._backend.apply_async(batch, callback=cb)\n",
      "  File \"/opt/conda/lib/python3.7/site-packages/joblib/_parallel_backends.py\", line 208, in apply_async\n",
      "    result = ImmediateResult(func)\n",
      "  File \"/opt/conda/lib/python3.7/site-packages/joblib/_parallel_backends.py\", line 572, in __init__\n",
      "    self.results = batch()\n",
      "  File \"/opt/conda/lib/python3.7/site-packages/joblib/parallel.py\", line 263, in __call__\n",
      "    for func, args, kwargs in self.items]\n",
      "  File \"/opt/conda/lib/python3.7/site-packages/joblib/parallel.py\", line 263, in <listcomp>\n",
      "    for func, args, kwargs in self.items]\n",
      "  File \"/opt/conda/lib/python3.7/site-packages/sklearn/linear_model/_logistic.py\", line 764, in _logistic_regression_path\n",
      "    extra_warning_msg=_LOGISTIC_SOLVER_CONVERGENCE_MSG)\n",
      "  File \"/opt/conda/lib/python3.7/site-packages/sklearn/utils/optimize.py\", line 243, in _check_optimize_result\n",
      "    ).format(solver, result.status, result.message.decode(\"latin1\"))\n",
      "AttributeError: 'str' object has no attribute 'decode'\n",
      "\n",
      "  FitFailedWarning)\n",
      "/opt/conda/lib/python3.7/site-packages/sklearn/linear_model/_sag.py:330: ConvergenceWarning: The max_iter was reached which means the coef_ did not converge\n",
      "  \"the coef_ did not converge\", ConvergenceWarning)\n",
      "/opt/conda/lib/python3.7/site-packages/sklearn/linear_model/_sag.py:330: ConvergenceWarning: The max_iter was reached which means the coef_ did not converge\n",
      "  \"the coef_ did not converge\", ConvergenceWarning)\n",
      "/opt/conda/lib/python3.7/site-packages/sklearn/model_selection/_validation.py:552: FitFailedWarning: Estimator fit failed. The score on this train-test partition for these parameters will be set to nan. Details: \n",
      "Traceback (most recent call last):\n",
      "  File \"/opt/conda/lib/python3.7/site-packages/sklearn/model_selection/_validation.py\", line 531, in _fit_and_score\n",
      "    estimator.fit(X_train, y_train, **fit_params)\n",
      "  File \"/opt/conda/lib/python3.7/site-packages/sklearn/linear_model/_logistic.py\", line 1417, in fit\n",
      "    for class_, warm_start_coef_ in zip(classes_, warm_start_coef))\n",
      "  File \"/opt/conda/lib/python3.7/site-packages/joblib/parallel.py\", line 1041, in __call__\n",
      "    if self.dispatch_one_batch(iterator):\n",
      "  File \"/opt/conda/lib/python3.7/site-packages/joblib/parallel.py\", line 859, in dispatch_one_batch\n",
      "    self._dispatch(tasks)\n",
      "  File \"/opt/conda/lib/python3.7/site-packages/joblib/parallel.py\", line 777, in _dispatch\n",
      "    job = self._backend.apply_async(batch, callback=cb)\n",
      "  File \"/opt/conda/lib/python3.7/site-packages/joblib/_parallel_backends.py\", line 208, in apply_async\n",
      "    result = ImmediateResult(func)\n",
      "  File \"/opt/conda/lib/python3.7/site-packages/joblib/_parallel_backends.py\", line 572, in __init__\n",
      "    self.results = batch()\n",
      "  File \"/opt/conda/lib/python3.7/site-packages/joblib/parallel.py\", line 263, in __call__\n",
      "    for func, args, kwargs in self.items]\n",
      "  File \"/opt/conda/lib/python3.7/site-packages/joblib/parallel.py\", line 263, in <listcomp>\n",
      "    for func, args, kwargs in self.items]\n",
      "  File \"/opt/conda/lib/python3.7/site-packages/sklearn/linear_model/_logistic.py\", line 764, in _logistic_regression_path\n",
      "    extra_warning_msg=_LOGISTIC_SOLVER_CONVERGENCE_MSG)\n",
      "  File \"/opt/conda/lib/python3.7/site-packages/sklearn/utils/optimize.py\", line 243, in _check_optimize_result\n",
      "    ).format(solver, result.status, result.message.decode(\"latin1\"))\n",
      "AttributeError: 'str' object has no attribute 'decode'\n",
      "\n",
      "  FitFailedWarning)\n",
      "/opt/conda/lib/python3.7/site-packages/sklearn/model_selection/_validation.py:552: FitFailedWarning: Estimator fit failed. The score on this train-test partition for these parameters will be set to nan. Details: \n",
      "Traceback (most recent call last):\n",
      "  File \"/opt/conda/lib/python3.7/site-packages/sklearn/model_selection/_validation.py\", line 531, in _fit_and_score\n",
      "    estimator.fit(X_train, y_train, **fit_params)\n",
      "  File \"/opt/conda/lib/python3.7/site-packages/sklearn/linear_model/_logistic.py\", line 1417, in fit\n",
      "    for class_, warm_start_coef_ in zip(classes_, warm_start_coef))\n",
      "  File \"/opt/conda/lib/python3.7/site-packages/joblib/parallel.py\", line 1041, in __call__\n",
      "    if self.dispatch_one_batch(iterator):\n",
      "  File \"/opt/conda/lib/python3.7/site-packages/joblib/parallel.py\", line 859, in dispatch_one_batch\n",
      "    self._dispatch(tasks)\n",
      "  File \"/opt/conda/lib/python3.7/site-packages/joblib/parallel.py\", line 777, in _dispatch\n",
      "    job = self._backend.apply_async(batch, callback=cb)\n",
      "  File \"/opt/conda/lib/python3.7/site-packages/joblib/_parallel_backends.py\", line 208, in apply_async\n",
      "    result = ImmediateResult(func)\n",
      "  File \"/opt/conda/lib/python3.7/site-packages/joblib/_parallel_backends.py\", line 572, in __init__\n",
      "    self.results = batch()\n",
      "  File \"/opt/conda/lib/python3.7/site-packages/joblib/parallel.py\", line 263, in __call__\n",
      "    for func, args, kwargs in self.items]\n",
      "  File \"/opt/conda/lib/python3.7/site-packages/joblib/parallel.py\", line 263, in <listcomp>\n",
      "    for func, args, kwargs in self.items]\n",
      "  File \"/opt/conda/lib/python3.7/site-packages/sklearn/linear_model/_logistic.py\", line 764, in _logistic_regression_path\n",
      "    extra_warning_msg=_LOGISTIC_SOLVER_CONVERGENCE_MSG)\n",
      "  File \"/opt/conda/lib/python3.7/site-packages/sklearn/utils/optimize.py\", line 243, in _check_optimize_result\n",
      "    ).format(solver, result.status, result.message.decode(\"latin1\"))\n",
      "AttributeError: 'str' object has no attribute 'decode'\n",
      "\n",
      "  FitFailedWarning)\n",
      "/opt/conda/lib/python3.7/site-packages/sklearn/model_selection/_validation.py:552: FitFailedWarning: Estimator fit failed. The score on this train-test partition for these parameters will be set to nan. Details: \n",
      "Traceback (most recent call last):\n",
      "  File \"/opt/conda/lib/python3.7/site-packages/sklearn/model_selection/_validation.py\", line 531, in _fit_and_score\n",
      "    estimator.fit(X_train, y_train, **fit_params)\n",
      "  File \"/opt/conda/lib/python3.7/site-packages/sklearn/linear_model/_logistic.py\", line 1360, in fit\n",
      "    sample_weight=sample_weight)\n",
      "  File \"/opt/conda/lib/python3.7/site-packages/sklearn/svm/_base.py\", line 931, in _fit_liblinear\n",
      "    y=y)\n",
      "  File \"/opt/conda/lib/python3.7/site-packages/sklearn/utils/validation.py\", line 72, in inner_f\n",
      "    return f(**kwargs)\n",
      "  File \"/opt/conda/lib/python3.7/site-packages/sklearn/utils/class_weight.py\", line 64, in compute_class_weight\n",
      "    \" got: %r\" % class_weight)\n",
      "ValueError: class_weight must be dict, 'balanced', or None, got: 'none'\n",
      "\n",
      "  FitFailedWarning)\n",
      "/opt/conda/lib/python3.7/site-packages/sklearn/linear_model/_sag.py:330: ConvergenceWarning: The max_iter was reached which means the coef_ did not converge\n",
      "  \"the coef_ did not converge\", ConvergenceWarning)\n",
      "/opt/conda/lib/python3.7/site-packages/sklearn/linear_model/_sag.py:330: ConvergenceWarning: The max_iter was reached which means the coef_ did not converge\n",
      "  \"the coef_ did not converge\", ConvergenceWarning)\n",
      "/opt/conda/lib/python3.7/site-packages/sklearn/model_selection/_validation.py:552: FitFailedWarning: Estimator fit failed. The score on this train-test partition for these parameters will be set to nan. Details: \n",
      "Traceback (most recent call last):\n",
      "  File \"/opt/conda/lib/python3.7/site-packages/sklearn/model_selection/_validation.py\", line 531, in _fit_and_score\n",
      "    estimator.fit(X_train, y_train, **fit_params)\n",
      "  File \"/opt/conda/lib/python3.7/site-packages/sklearn/linear_model/_logistic.py\", line 1417, in fit\n",
      "    for class_, warm_start_coef_ in zip(classes_, warm_start_coef))\n",
      "  File \"/opt/conda/lib/python3.7/site-packages/joblib/parallel.py\", line 1041, in __call__\n",
      "    if self.dispatch_one_batch(iterator):\n",
      "  File \"/opt/conda/lib/python3.7/site-packages/joblib/parallel.py\", line 859, in dispatch_one_batch\n",
      "    self._dispatch(tasks)\n",
      "  File \"/opt/conda/lib/python3.7/site-packages/joblib/parallel.py\", line 777, in _dispatch\n",
      "    job = self._backend.apply_async(batch, callback=cb)\n",
      "  File \"/opt/conda/lib/python3.7/site-packages/joblib/_parallel_backends.py\", line 208, in apply_async\n",
      "    result = ImmediateResult(func)\n",
      "  File \"/opt/conda/lib/python3.7/site-packages/joblib/_parallel_backends.py\", line 572, in __init__\n",
      "    self.results = batch()\n",
      "  File \"/opt/conda/lib/python3.7/site-packages/joblib/parallel.py\", line 263, in __call__\n",
      "    for func, args, kwargs in self.items]\n",
      "  File \"/opt/conda/lib/python3.7/site-packages/joblib/parallel.py\", line 263, in <listcomp>\n",
      "    for func, args, kwargs in self.items]\n",
      "  File \"/opt/conda/lib/python3.7/site-packages/sklearn/linear_model/_logistic.py\", line 764, in _logistic_regression_path\n",
      "    extra_warning_msg=_LOGISTIC_SOLVER_CONVERGENCE_MSG)\n",
      "  File \"/opt/conda/lib/python3.7/site-packages/sklearn/utils/optimize.py\", line 243, in _check_optimize_result\n",
      "    ).format(solver, result.status, result.message.decode(\"latin1\"))\n",
      "AttributeError: 'str' object has no attribute 'decode'\n",
      "\n",
      "  FitFailedWarning)\n",
      "/opt/conda/lib/python3.7/site-packages/sklearn/linear_model/_sag.py:330: ConvergenceWarning: The max_iter was reached which means the coef_ did not converge\n",
      "  \"the coef_ did not converge\", ConvergenceWarning)\n",
      "/opt/conda/lib/python3.7/site-packages/sklearn/model_selection/_validation.py:552: FitFailedWarning: Estimator fit failed. The score on this train-test partition for these parameters will be set to nan. Details: \n",
      "Traceback (most recent call last):\n",
      "  File \"/opt/conda/lib/python3.7/site-packages/sklearn/model_selection/_validation.py\", line 531, in _fit_and_score\n",
      "    estimator.fit(X_train, y_train, **fit_params)\n",
      "  File \"/opt/conda/lib/python3.7/site-packages/sklearn/linear_model/_logistic.py\", line 1417, in fit\n",
      "    for class_, warm_start_coef_ in zip(classes_, warm_start_coef))\n",
      "  File \"/opt/conda/lib/python3.7/site-packages/joblib/parallel.py\", line 1041, in __call__\n",
      "    if self.dispatch_one_batch(iterator):\n",
      "  File \"/opt/conda/lib/python3.7/site-packages/joblib/parallel.py\", line 859, in dispatch_one_batch\n",
      "    self._dispatch(tasks)\n",
      "  File \"/opt/conda/lib/python3.7/site-packages/joblib/parallel.py\", line 777, in _dispatch\n",
      "    job = self._backend.apply_async(batch, callback=cb)\n",
      "  File \"/opt/conda/lib/python3.7/site-packages/joblib/_parallel_backends.py\", line 208, in apply_async\n",
      "    result = ImmediateResult(func)\n",
      "  File \"/opt/conda/lib/python3.7/site-packages/joblib/_parallel_backends.py\", line 572, in __init__\n",
      "    self.results = batch()\n",
      "  File \"/opt/conda/lib/python3.7/site-packages/joblib/parallel.py\", line 263, in __call__\n",
      "    for func, args, kwargs in self.items]\n",
      "  File \"/opt/conda/lib/python3.7/site-packages/joblib/parallel.py\", line 263, in <listcomp>\n",
      "    for func, args, kwargs in self.items]\n",
      "  File \"/opt/conda/lib/python3.7/site-packages/sklearn/linear_model/_logistic.py\", line 764, in _logistic_regression_path\n",
      "    extra_warning_msg=_LOGISTIC_SOLVER_CONVERGENCE_MSG)\n",
      "  File \"/opt/conda/lib/python3.7/site-packages/sklearn/utils/optimize.py\", line 243, in _check_optimize_result\n",
      "    ).format(solver, result.status, result.message.decode(\"latin1\"))\n",
      "AttributeError: 'str' object has no attribute 'decode'\n",
      "\n",
      "  FitFailedWarning)\n",
      "/opt/conda/lib/python3.7/site-packages/sklearn/model_selection/_validation.py:552: FitFailedWarning: Estimator fit failed. The score on this train-test partition for these parameters will be set to nan. Details: \n",
      "Traceback (most recent call last):\n",
      "  File \"/opt/conda/lib/python3.7/site-packages/sklearn/model_selection/_validation.py\", line 531, in _fit_and_score\n",
      "    estimator.fit(X_train, y_train, **fit_params)\n",
      "  File \"/opt/conda/lib/python3.7/site-packages/sklearn/linear_model/_logistic.py\", line 1360, in fit\n",
      "    sample_weight=sample_weight)\n",
      "  File \"/opt/conda/lib/python3.7/site-packages/sklearn/svm/_base.py\", line 931, in _fit_liblinear\n",
      "    y=y)\n",
      "  File \"/opt/conda/lib/python3.7/site-packages/sklearn/utils/validation.py\", line 72, in inner_f\n",
      "    return f(**kwargs)\n",
      "  File \"/opt/conda/lib/python3.7/site-packages/sklearn/utils/class_weight.py\", line 64, in compute_class_weight\n",
      "    \" got: %r\" % class_weight)\n",
      "ValueError: class_weight must be dict, 'balanced', or None, got: 'none'\n",
      "\n",
      "  FitFailedWarning)\n",
      "/opt/conda/lib/python3.7/site-packages/sklearn/model_selection/_validation.py:552: FitFailedWarning: Estimator fit failed. The score on this train-test partition for these parameters will be set to nan. Details: \n",
      "Traceback (most recent call last):\n",
      "  File \"/opt/conda/lib/python3.7/site-packages/sklearn/model_selection/_validation.py\", line 531, in _fit_and_score\n",
      "    estimator.fit(X_train, y_train, **fit_params)\n",
      "  File \"/opt/conda/lib/python3.7/site-packages/sklearn/linear_model/_logistic.py\", line 1360, in fit\n",
      "    sample_weight=sample_weight)\n",
      "  File \"/opt/conda/lib/python3.7/site-packages/sklearn/svm/_base.py\", line 931, in _fit_liblinear\n",
      "    y=y)\n",
      "  File \"/opt/conda/lib/python3.7/site-packages/sklearn/utils/validation.py\", line 72, in inner_f\n",
      "    return f(**kwargs)\n",
      "  File \"/opt/conda/lib/python3.7/site-packages/sklearn/utils/class_weight.py\", line 64, in compute_class_weight\n",
      "    \" got: %r\" % class_weight)\n",
      "ValueError: class_weight must be dict, 'balanced', or None, got: 'none'\n",
      "\n",
      "  FitFailedWarning)\n",
      "/opt/conda/lib/python3.7/site-packages/sklearn/linear_model/_sag.py:330: ConvergenceWarning: The max_iter was reached which means the coef_ did not converge\n",
      "  \"the coef_ did not converge\", ConvergenceWarning)\n",
      "/opt/conda/lib/python3.7/site-packages/sklearn/linear_model/_sag.py:330: ConvergenceWarning: The max_iter was reached which means the coef_ did not converge\n",
      "  \"the coef_ did not converge\", ConvergenceWarning)\n",
      "/opt/conda/lib/python3.7/site-packages/sklearn/linear_model/_sag.py:330: ConvergenceWarning: The max_iter was reached which means the coef_ did not converge\n",
      "  \"the coef_ did not converge\", ConvergenceWarning)\n",
      "/opt/conda/lib/python3.7/site-packages/sklearn/model_selection/_validation.py:552: FitFailedWarning: Estimator fit failed. The score on this train-test partition for these parameters will be set to nan. Details: \n",
      "Traceback (most recent call last):\n",
      "  File \"/opt/conda/lib/python3.7/site-packages/sklearn/model_selection/_validation.py\", line 531, in _fit_and_score\n",
      "    estimator.fit(X_train, y_train, **fit_params)\n",
      "  File \"/opt/conda/lib/python3.7/site-packages/sklearn/linear_model/_logistic.py\", line 1417, in fit\n",
      "    for class_, warm_start_coef_ in zip(classes_, warm_start_coef))\n",
      "  File \"/opt/conda/lib/python3.7/site-packages/joblib/parallel.py\", line 1041, in __call__\n",
      "    if self.dispatch_one_batch(iterator):\n",
      "  File \"/opt/conda/lib/python3.7/site-packages/joblib/parallel.py\", line 859, in dispatch_one_batch\n",
      "    self._dispatch(tasks)\n",
      "  File \"/opt/conda/lib/python3.7/site-packages/joblib/parallel.py\", line 777, in _dispatch\n",
      "    job = self._backend.apply_async(batch, callback=cb)\n",
      "  File \"/opt/conda/lib/python3.7/site-packages/joblib/_parallel_backends.py\", line 208, in apply_async\n",
      "    result = ImmediateResult(func)\n",
      "  File \"/opt/conda/lib/python3.7/site-packages/joblib/_parallel_backends.py\", line 572, in __init__\n",
      "    self.results = batch()\n",
      "  File \"/opt/conda/lib/python3.7/site-packages/joblib/parallel.py\", line 263, in __call__\n",
      "    for func, args, kwargs in self.items]\n",
      "  File \"/opt/conda/lib/python3.7/site-packages/joblib/parallel.py\", line 263, in <listcomp>\n",
      "    for func, args, kwargs in self.items]\n",
      "  File \"/opt/conda/lib/python3.7/site-packages/sklearn/linear_model/_logistic.py\", line 764, in _logistic_regression_path\n",
      "    extra_warning_msg=_LOGISTIC_SOLVER_CONVERGENCE_MSG)\n",
      "  File \"/opt/conda/lib/python3.7/site-packages/sklearn/utils/optimize.py\", line 243, in _check_optimize_result\n",
      "    ).format(solver, result.status, result.message.decode(\"latin1\"))\n",
      "AttributeError: 'str' object has no attribute 'decode'\n",
      "\n",
      "  FitFailedWarning)\n",
      "/opt/conda/lib/python3.7/site-packages/sklearn/model_selection/_validation.py:552: FitFailedWarning: Estimator fit failed. The score on this train-test partition for these parameters will be set to nan. Details: \n",
      "Traceback (most recent call last):\n",
      "  File \"/opt/conda/lib/python3.7/site-packages/sklearn/model_selection/_validation.py\", line 531, in _fit_and_score\n",
      "    estimator.fit(X_train, y_train, **fit_params)\n",
      "  File \"/opt/conda/lib/python3.7/site-packages/sklearn/linear_model/_logistic.py\", line 1417, in fit\n",
      "    for class_, warm_start_coef_ in zip(classes_, warm_start_coef))\n",
      "  File \"/opt/conda/lib/python3.7/site-packages/joblib/parallel.py\", line 1041, in __call__\n",
      "    if self.dispatch_one_batch(iterator):\n",
      "  File \"/opt/conda/lib/python3.7/site-packages/joblib/parallel.py\", line 859, in dispatch_one_batch\n",
      "    self._dispatch(tasks)\n",
      "  File \"/opt/conda/lib/python3.7/site-packages/joblib/parallel.py\", line 777, in _dispatch\n",
      "    job = self._backend.apply_async(batch, callback=cb)\n",
      "  File \"/opt/conda/lib/python3.7/site-packages/joblib/_parallel_backends.py\", line 208, in apply_async\n",
      "    result = ImmediateResult(func)\n",
      "  File \"/opt/conda/lib/python3.7/site-packages/joblib/_parallel_backends.py\", line 572, in __init__\n",
      "    self.results = batch()\n",
      "  File \"/opt/conda/lib/python3.7/site-packages/joblib/parallel.py\", line 263, in __call__\n",
      "    for func, args, kwargs in self.items]\n",
      "  File \"/opt/conda/lib/python3.7/site-packages/joblib/parallel.py\", line 263, in <listcomp>\n",
      "    for func, args, kwargs in self.items]\n",
      "  File \"/opt/conda/lib/python3.7/site-packages/sklearn/linear_model/_logistic.py\", line 764, in _logistic_regression_path\n",
      "    extra_warning_msg=_LOGISTIC_SOLVER_CONVERGENCE_MSG)\n",
      "  File \"/opt/conda/lib/python3.7/site-packages/sklearn/utils/optimize.py\", line 243, in _check_optimize_result\n",
      "    ).format(solver, result.status, result.message.decode(\"latin1\"))\n",
      "AttributeError: 'str' object has no attribute 'decode'\n",
      "\n",
      "  FitFailedWarning)\n",
      "/opt/conda/lib/python3.7/site-packages/sklearn/linear_model/_sag.py:330: ConvergenceWarning: The max_iter was reached which means the coef_ did not converge\n",
      "  \"the coef_ did not converge\", ConvergenceWarning)\n",
      "/opt/conda/lib/python3.7/site-packages/sklearn/model_selection/_validation.py:552: FitFailedWarning: Estimator fit failed. The score on this train-test partition for these parameters will be set to nan. Details: \n",
      "Traceback (most recent call last):\n",
      "  File \"/opt/conda/lib/python3.7/site-packages/sklearn/model_selection/_validation.py\", line 531, in _fit_and_score\n",
      "    estimator.fit(X_train, y_train, **fit_params)\n",
      "  File \"/opt/conda/lib/python3.7/site-packages/sklearn/linear_model/_logistic.py\", line 1417, in fit\n",
      "    for class_, warm_start_coef_ in zip(classes_, warm_start_coef))\n",
      "  File \"/opt/conda/lib/python3.7/site-packages/joblib/parallel.py\", line 1041, in __call__\n",
      "    if self.dispatch_one_batch(iterator):\n",
      "  File \"/opt/conda/lib/python3.7/site-packages/joblib/parallel.py\", line 859, in dispatch_one_batch\n",
      "    self._dispatch(tasks)\n",
      "  File \"/opt/conda/lib/python3.7/site-packages/joblib/parallel.py\", line 777, in _dispatch\n",
      "    job = self._backend.apply_async(batch, callback=cb)\n",
      "  File \"/opt/conda/lib/python3.7/site-packages/joblib/_parallel_backends.py\", line 208, in apply_async\n",
      "    result = ImmediateResult(func)\n",
      "  File \"/opt/conda/lib/python3.7/site-packages/joblib/_parallel_backends.py\", line 572, in __init__\n",
      "    self.results = batch()\n",
      "  File \"/opt/conda/lib/python3.7/site-packages/joblib/parallel.py\", line 263, in __call__\n",
      "    for func, args, kwargs in self.items]\n",
      "  File \"/opt/conda/lib/python3.7/site-packages/joblib/parallel.py\", line 263, in <listcomp>\n",
      "    for func, args, kwargs in self.items]\n",
      "  File \"/opt/conda/lib/python3.7/site-packages/sklearn/linear_model/_logistic.py\", line 764, in _logistic_regression_path\n",
      "    extra_warning_msg=_LOGISTIC_SOLVER_CONVERGENCE_MSG)\n",
      "  File \"/opt/conda/lib/python3.7/site-packages/sklearn/utils/optimize.py\", line 243, in _check_optimize_result\n",
      "    ).format(solver, result.status, result.message.decode(\"latin1\"))\n",
      "AttributeError: 'str' object has no attribute 'decode'\n",
      "\n",
      "  FitFailedWarning)\n",
      "/opt/conda/lib/python3.7/site-packages/sklearn/linear_model/_sag.py:330: ConvergenceWarning: The max_iter was reached which means the coef_ did not converge\n",
      "  \"the coef_ did not converge\", ConvergenceWarning)\n",
      "/opt/conda/lib/python3.7/site-packages/sklearn/model_selection/_validation.py:552: FitFailedWarning: Estimator fit failed. The score on this train-test partition for these parameters will be set to nan. Details: \n",
      "Traceback (most recent call last):\n",
      "  File \"/opt/conda/lib/python3.7/site-packages/sklearn/model_selection/_validation.py\", line 531, in _fit_and_score\n",
      "    estimator.fit(X_train, y_train, **fit_params)\n",
      "  File \"/opt/conda/lib/python3.7/site-packages/sklearn/linear_model/_logistic.py\", line 1417, in fit\n",
      "    for class_, warm_start_coef_ in zip(classes_, warm_start_coef))\n",
      "  File \"/opt/conda/lib/python3.7/site-packages/joblib/parallel.py\", line 1041, in __call__\n",
      "    if self.dispatch_one_batch(iterator):\n",
      "  File \"/opt/conda/lib/python3.7/site-packages/joblib/parallel.py\", line 859, in dispatch_one_batch\n",
      "    self._dispatch(tasks)\n",
      "  File \"/opt/conda/lib/python3.7/site-packages/joblib/parallel.py\", line 777, in _dispatch\n",
      "    job = self._backend.apply_async(batch, callback=cb)\n",
      "  File \"/opt/conda/lib/python3.7/site-packages/joblib/_parallel_backends.py\", line 208, in apply_async\n",
      "    result = ImmediateResult(func)\n",
      "  File \"/opt/conda/lib/python3.7/site-packages/joblib/_parallel_backends.py\", line 572, in __init__\n",
      "    self.results = batch()\n",
      "  File \"/opt/conda/lib/python3.7/site-packages/joblib/parallel.py\", line 263, in __call__\n",
      "    for func, args, kwargs in self.items]\n",
      "  File \"/opt/conda/lib/python3.7/site-packages/joblib/parallel.py\", line 263, in <listcomp>\n",
      "    for func, args, kwargs in self.items]\n",
      "  File \"/opt/conda/lib/python3.7/site-packages/sklearn/linear_model/_logistic.py\", line 764, in _logistic_regression_path\n",
      "    extra_warning_msg=_LOGISTIC_SOLVER_CONVERGENCE_MSG)\n",
      "  File \"/opt/conda/lib/python3.7/site-packages/sklearn/utils/optimize.py\", line 243, in _check_optimize_result\n",
      "    ).format(solver, result.status, result.message.decode(\"latin1\"))\n",
      "AttributeError: 'str' object has no attribute 'decode'\n",
      "\n",
      "  FitFailedWarning)\n",
      "/opt/conda/lib/python3.7/site-packages/sklearn/model_selection/_validation.py:552: FitFailedWarning: Estimator fit failed. The score on this train-test partition for these parameters will be set to nan. Details: \n",
      "Traceback (most recent call last):\n",
      "  File \"/opt/conda/lib/python3.7/site-packages/sklearn/model_selection/_validation.py\", line 531, in _fit_and_score\n",
      "    estimator.fit(X_train, y_train, **fit_params)\n",
      "  File \"/opt/conda/lib/python3.7/site-packages/sklearn/linear_model/_logistic.py\", line 1417, in fit\n",
      "    for class_, warm_start_coef_ in zip(classes_, warm_start_coef))\n",
      "  File \"/opt/conda/lib/python3.7/site-packages/joblib/parallel.py\", line 1041, in __call__\n",
      "    if self.dispatch_one_batch(iterator):\n",
      "  File \"/opt/conda/lib/python3.7/site-packages/joblib/parallel.py\", line 859, in dispatch_one_batch\n",
      "    self._dispatch(tasks)\n",
      "  File \"/opt/conda/lib/python3.7/site-packages/joblib/parallel.py\", line 777, in _dispatch\n",
      "    job = self._backend.apply_async(batch, callback=cb)\n",
      "  File \"/opt/conda/lib/python3.7/site-packages/joblib/_parallel_backends.py\", line 208, in apply_async\n",
      "    result = ImmediateResult(func)\n",
      "  File \"/opt/conda/lib/python3.7/site-packages/joblib/_parallel_backends.py\", line 572, in __init__\n",
      "    self.results = batch()\n",
      "  File \"/opt/conda/lib/python3.7/site-packages/joblib/parallel.py\", line 263, in __call__\n",
      "    for func, args, kwargs in self.items]\n",
      "  File \"/opt/conda/lib/python3.7/site-packages/joblib/parallel.py\", line 263, in <listcomp>\n",
      "    for func, args, kwargs in self.items]\n",
      "  File \"/opt/conda/lib/python3.7/site-packages/sklearn/linear_model/_logistic.py\", line 764, in _logistic_regression_path\n",
      "    extra_warning_msg=_LOGISTIC_SOLVER_CONVERGENCE_MSG)\n",
      "  File \"/opt/conda/lib/python3.7/site-packages/sklearn/utils/optimize.py\", line 243, in _check_optimize_result\n",
      "    ).format(solver, result.status, result.message.decode(\"latin1\"))\n",
      "AttributeError: 'str' object has no attribute 'decode'\n",
      "\n",
      "  FitFailedWarning)\n",
      "/opt/conda/lib/python3.7/site-packages/sklearn/linear_model/_sag.py:330: ConvergenceWarning: The max_iter was reached which means the coef_ did not converge\n",
      "  \"the coef_ did not converge\", ConvergenceWarning)\n",
      "/opt/conda/lib/python3.7/site-packages/sklearn/model_selection/_validation.py:552: FitFailedWarning: Estimator fit failed. The score on this train-test partition for these parameters will be set to nan. Details: \n",
      "Traceback (most recent call last):\n",
      "  File \"/opt/conda/lib/python3.7/site-packages/sklearn/model_selection/_validation.py\", line 531, in _fit_and_score\n",
      "    estimator.fit(X_train, y_train, **fit_params)\n",
      "  File \"/opt/conda/lib/python3.7/site-packages/sklearn/linear_model/_logistic.py\", line 1417, in fit\n",
      "    for class_, warm_start_coef_ in zip(classes_, warm_start_coef))\n",
      "  File \"/opt/conda/lib/python3.7/site-packages/joblib/parallel.py\", line 1041, in __call__\n",
      "    if self.dispatch_one_batch(iterator):\n",
      "  File \"/opt/conda/lib/python3.7/site-packages/joblib/parallel.py\", line 859, in dispatch_one_batch\n",
      "    self._dispatch(tasks)\n",
      "  File \"/opt/conda/lib/python3.7/site-packages/joblib/parallel.py\", line 777, in _dispatch\n",
      "    job = self._backend.apply_async(batch, callback=cb)\n",
      "  File \"/opt/conda/lib/python3.7/site-packages/joblib/_parallel_backends.py\", line 208, in apply_async\n",
      "    result = ImmediateResult(func)\n",
      "  File \"/opt/conda/lib/python3.7/site-packages/joblib/_parallel_backends.py\", line 572, in __init__\n",
      "    self.results = batch()\n",
      "  File \"/opt/conda/lib/python3.7/site-packages/joblib/parallel.py\", line 263, in __call__\n",
      "    for func, args, kwargs in self.items]\n",
      "  File \"/opt/conda/lib/python3.7/site-packages/joblib/parallel.py\", line 263, in <listcomp>\n",
      "    for func, args, kwargs in self.items]\n",
      "  File \"/opt/conda/lib/python3.7/site-packages/sklearn/linear_model/_logistic.py\", line 764, in _logistic_regression_path\n",
      "    extra_warning_msg=_LOGISTIC_SOLVER_CONVERGENCE_MSG)\n",
      "  File \"/opt/conda/lib/python3.7/site-packages/sklearn/utils/optimize.py\", line 243, in _check_optimize_result\n",
      "    ).format(solver, result.status, result.message.decode(\"latin1\"))\n",
      "AttributeError: 'str' object has no attribute 'decode'\n",
      "\n",
      "  FitFailedWarning)\n",
      "/opt/conda/lib/python3.7/site-packages/sklearn/model_selection/_validation.py:552: FitFailedWarning: Estimator fit failed. The score on this train-test partition for these parameters will be set to nan. Details: \n",
      "Traceback (most recent call last):\n",
      "  File \"/opt/conda/lib/python3.7/site-packages/sklearn/model_selection/_validation.py\", line 531, in _fit_and_score\n",
      "    estimator.fit(X_train, y_train, **fit_params)\n",
      "  File \"/opt/conda/lib/python3.7/site-packages/sklearn/linear_model/_logistic.py\", line 1417, in fit\n",
      "    for class_, warm_start_coef_ in zip(classes_, warm_start_coef))\n",
      "  File \"/opt/conda/lib/python3.7/site-packages/joblib/parallel.py\", line 1041, in __call__\n",
      "    if self.dispatch_one_batch(iterator):\n",
      "  File \"/opt/conda/lib/python3.7/site-packages/joblib/parallel.py\", line 859, in dispatch_one_batch\n",
      "    self._dispatch(tasks)\n",
      "  File \"/opt/conda/lib/python3.7/site-packages/joblib/parallel.py\", line 777, in _dispatch\n",
      "    job = self._backend.apply_async(batch, callback=cb)\n",
      "  File \"/opt/conda/lib/python3.7/site-packages/joblib/_parallel_backends.py\", line 208, in apply_async\n",
      "    result = ImmediateResult(func)\n",
      "  File \"/opt/conda/lib/python3.7/site-packages/joblib/_parallel_backends.py\", line 572, in __init__\n",
      "    self.results = batch()\n",
      "  File \"/opt/conda/lib/python3.7/site-packages/joblib/parallel.py\", line 263, in __call__\n",
      "    for func, args, kwargs in self.items]\n",
      "  File \"/opt/conda/lib/python3.7/site-packages/joblib/parallel.py\", line 263, in <listcomp>\n",
      "    for func, args, kwargs in self.items]\n",
      "  File \"/opt/conda/lib/python3.7/site-packages/sklearn/linear_model/_logistic.py\", line 764, in _logistic_regression_path\n",
      "    extra_warning_msg=_LOGISTIC_SOLVER_CONVERGENCE_MSG)\n",
      "  File \"/opt/conda/lib/python3.7/site-packages/sklearn/utils/optimize.py\", line 243, in _check_optimize_result\n",
      "    ).format(solver, result.status, result.message.decode(\"latin1\"))\n",
      "AttributeError: 'str' object has no attribute 'decode'\n",
      "\n",
      "  FitFailedWarning)\n",
      "/opt/conda/lib/python3.7/site-packages/sklearn/model_selection/_validation.py:552: FitFailedWarning: Estimator fit failed. The score on this train-test partition for these parameters will be set to nan. Details: \n",
      "Traceback (most recent call last):\n",
      "  File \"/opt/conda/lib/python3.7/site-packages/sklearn/model_selection/_validation.py\", line 531, in _fit_and_score\n",
      "    estimator.fit(X_train, y_train, **fit_params)\n",
      "  File \"/opt/conda/lib/python3.7/site-packages/sklearn/linear_model/_logistic.py\", line 1417, in fit\n",
      "    for class_, warm_start_coef_ in zip(classes_, warm_start_coef))\n",
      "  File \"/opt/conda/lib/python3.7/site-packages/joblib/parallel.py\", line 1041, in __call__\n",
      "    if self.dispatch_one_batch(iterator):\n",
      "  File \"/opt/conda/lib/python3.7/site-packages/joblib/parallel.py\", line 859, in dispatch_one_batch\n",
      "    self._dispatch(tasks)\n",
      "  File \"/opt/conda/lib/python3.7/site-packages/joblib/parallel.py\", line 777, in _dispatch\n",
      "    job = self._backend.apply_async(batch, callback=cb)\n",
      "  File \"/opt/conda/lib/python3.7/site-packages/joblib/_parallel_backends.py\", line 208, in apply_async\n",
      "    result = ImmediateResult(func)\n",
      "  File \"/opt/conda/lib/python3.7/site-packages/joblib/_parallel_backends.py\", line 572, in __init__\n",
      "    self.results = batch()\n",
      "  File \"/opt/conda/lib/python3.7/site-packages/joblib/parallel.py\", line 263, in __call__\n",
      "    for func, args, kwargs in self.items]\n",
      "  File \"/opt/conda/lib/python3.7/site-packages/joblib/parallel.py\", line 263, in <listcomp>\n",
      "    for func, args, kwargs in self.items]\n",
      "  File \"/opt/conda/lib/python3.7/site-packages/sklearn/linear_model/_logistic.py\", line 764, in _logistic_regression_path\n",
      "    extra_warning_msg=_LOGISTIC_SOLVER_CONVERGENCE_MSG)\n",
      "  File \"/opt/conda/lib/python3.7/site-packages/sklearn/utils/optimize.py\", line 243, in _check_optimize_result\n",
      "    ).format(solver, result.status, result.message.decode(\"latin1\"))\n",
      "AttributeError: 'str' object has no attribute 'decode'\n",
      "\n",
      "  FitFailedWarning)\n",
      "/opt/conda/lib/python3.7/site-packages/sklearn/model_selection/_validation.py:552: FitFailedWarning: Estimator fit failed. The score on this train-test partition for these parameters will be set to nan. Details: \n",
      "Traceback (most recent call last):\n",
      "  File \"/opt/conda/lib/python3.7/site-packages/sklearn/model_selection/_validation.py\", line 531, in _fit_and_score\n",
      "    estimator.fit(X_train, y_train, **fit_params)\n",
      "  File \"/opt/conda/lib/python3.7/site-packages/sklearn/linear_model/_logistic.py\", line 1417, in fit\n",
      "    for class_, warm_start_coef_ in zip(classes_, warm_start_coef))\n",
      "  File \"/opt/conda/lib/python3.7/site-packages/joblib/parallel.py\", line 1041, in __call__\n",
      "    if self.dispatch_one_batch(iterator):\n",
      "  File \"/opt/conda/lib/python3.7/site-packages/joblib/parallel.py\", line 859, in dispatch_one_batch\n",
      "    self._dispatch(tasks)\n",
      "  File \"/opt/conda/lib/python3.7/site-packages/joblib/parallel.py\", line 777, in _dispatch\n",
      "    job = self._backend.apply_async(batch, callback=cb)\n",
      "  File \"/opt/conda/lib/python3.7/site-packages/joblib/_parallel_backends.py\", line 208, in apply_async\n",
      "    result = ImmediateResult(func)\n",
      "  File \"/opt/conda/lib/python3.7/site-packages/joblib/_parallel_backends.py\", line 572, in __init__\n",
      "    self.results = batch()\n",
      "  File \"/opt/conda/lib/python3.7/site-packages/joblib/parallel.py\", line 263, in __call__\n",
      "    for func, args, kwargs in self.items]\n",
      "  File \"/opt/conda/lib/python3.7/site-packages/joblib/parallel.py\", line 263, in <listcomp>\n",
      "    for func, args, kwargs in self.items]\n",
      "  File \"/opt/conda/lib/python3.7/site-packages/sklearn/linear_model/_logistic.py\", line 764, in _logistic_regression_path\n",
      "    extra_warning_msg=_LOGISTIC_SOLVER_CONVERGENCE_MSG)\n",
      "  File \"/opt/conda/lib/python3.7/site-packages/sklearn/utils/optimize.py\", line 243, in _check_optimize_result\n",
      "    ).format(solver, result.status, result.message.decode(\"latin1\"))\n",
      "AttributeError: 'str' object has no attribute 'decode'\n",
      "\n",
      "  FitFailedWarning)\n",
      "/opt/conda/lib/python3.7/site-packages/sklearn/model_selection/_validation.py:552: FitFailedWarning: Estimator fit failed. The score on this train-test partition for these parameters will be set to nan. Details: \n",
      "Traceback (most recent call last):\n",
      "  File \"/opt/conda/lib/python3.7/site-packages/sklearn/model_selection/_validation.py\", line 531, in _fit_and_score\n",
      "    estimator.fit(X_train, y_train, **fit_params)\n",
      "  File \"/opt/conda/lib/python3.7/site-packages/sklearn/linear_model/_logistic.py\", line 1417, in fit\n",
      "    for class_, warm_start_coef_ in zip(classes_, warm_start_coef))\n",
      "  File \"/opt/conda/lib/python3.7/site-packages/joblib/parallel.py\", line 1041, in __call__\n",
      "    if self.dispatch_one_batch(iterator):\n",
      "  File \"/opt/conda/lib/python3.7/site-packages/joblib/parallel.py\", line 859, in dispatch_one_batch\n",
      "    self._dispatch(tasks)\n",
      "  File \"/opt/conda/lib/python3.7/site-packages/joblib/parallel.py\", line 777, in _dispatch\n",
      "    job = self._backend.apply_async(batch, callback=cb)\n",
      "  File \"/opt/conda/lib/python3.7/site-packages/joblib/_parallel_backends.py\", line 208, in apply_async\n",
      "    result = ImmediateResult(func)\n",
      "  File \"/opt/conda/lib/python3.7/site-packages/joblib/_parallel_backends.py\", line 572, in __init__\n",
      "    self.results = batch()\n",
      "  File \"/opt/conda/lib/python3.7/site-packages/joblib/parallel.py\", line 263, in __call__\n",
      "    for func, args, kwargs in self.items]\n",
      "  File \"/opt/conda/lib/python3.7/site-packages/joblib/parallel.py\", line 263, in <listcomp>\n",
      "    for func, args, kwargs in self.items]\n",
      "  File \"/opt/conda/lib/python3.7/site-packages/sklearn/linear_model/_logistic.py\", line 764, in _logistic_regression_path\n",
      "    extra_warning_msg=_LOGISTIC_SOLVER_CONVERGENCE_MSG)\n",
      "  File \"/opt/conda/lib/python3.7/site-packages/sklearn/utils/optimize.py\", line 243, in _check_optimize_result\n",
      "    ).format(solver, result.status, result.message.decode(\"latin1\"))\n",
      "AttributeError: 'str' object has no attribute 'decode'\n",
      "\n",
      "  FitFailedWarning)\n",
      "/opt/conda/lib/python3.7/site-packages/sklearn/model_selection/_validation.py:552: FitFailedWarning: Estimator fit failed. The score on this train-test partition for these parameters will be set to nan. Details: \n",
      "Traceback (most recent call last):\n",
      "  File \"/opt/conda/lib/python3.7/site-packages/sklearn/model_selection/_validation.py\", line 531, in _fit_and_score\n",
      "    estimator.fit(X_train, y_train, **fit_params)\n",
      "  File \"/opt/conda/lib/python3.7/site-packages/sklearn/linear_model/_logistic.py\", line 1417, in fit\n",
      "    for class_, warm_start_coef_ in zip(classes_, warm_start_coef))\n",
      "  File \"/opt/conda/lib/python3.7/site-packages/joblib/parallel.py\", line 1041, in __call__\n",
      "    if self.dispatch_one_batch(iterator):\n",
      "  File \"/opt/conda/lib/python3.7/site-packages/joblib/parallel.py\", line 859, in dispatch_one_batch\n",
      "    self._dispatch(tasks)\n",
      "  File \"/opt/conda/lib/python3.7/site-packages/joblib/parallel.py\", line 777, in _dispatch\n",
      "    job = self._backend.apply_async(batch, callback=cb)\n",
      "  File \"/opt/conda/lib/python3.7/site-packages/joblib/_parallel_backends.py\", line 208, in apply_async\n",
      "    result = ImmediateResult(func)\n",
      "  File \"/opt/conda/lib/python3.7/site-packages/joblib/_parallel_backends.py\", line 572, in __init__\n",
      "    self.results = batch()\n",
      "  File \"/opt/conda/lib/python3.7/site-packages/joblib/parallel.py\", line 263, in __call__\n",
      "    for func, args, kwargs in self.items]\n",
      "  File \"/opt/conda/lib/python3.7/site-packages/joblib/parallel.py\", line 263, in <listcomp>\n",
      "    for func, args, kwargs in self.items]\n",
      "  File \"/opt/conda/lib/python3.7/site-packages/sklearn/linear_model/_logistic.py\", line 764, in _logistic_regression_path\n",
      "    extra_warning_msg=_LOGISTIC_SOLVER_CONVERGENCE_MSG)\n",
      "  File \"/opt/conda/lib/python3.7/site-packages/sklearn/utils/optimize.py\", line 243, in _check_optimize_result\n",
      "    ).format(solver, result.status, result.message.decode(\"latin1\"))\n",
      "AttributeError: 'str' object has no attribute 'decode'\n",
      "\n",
      "  FitFailedWarning)\n",
      "/opt/conda/lib/python3.7/site-packages/sklearn/model_selection/_validation.py:552: FitFailedWarning: Estimator fit failed. The score on this train-test partition for these parameters will be set to nan. Details: \n",
      "Traceback (most recent call last):\n",
      "  File \"/opt/conda/lib/python3.7/site-packages/sklearn/model_selection/_validation.py\", line 531, in _fit_and_score\n",
      "    estimator.fit(X_train, y_train, **fit_params)\n",
      "  File \"/opt/conda/lib/python3.7/site-packages/sklearn/linear_model/_logistic.py\", line 1417, in fit\n",
      "    for class_, warm_start_coef_ in zip(classes_, warm_start_coef))\n",
      "  File \"/opt/conda/lib/python3.7/site-packages/joblib/parallel.py\", line 1041, in __call__\n",
      "    if self.dispatch_one_batch(iterator):\n",
      "  File \"/opt/conda/lib/python3.7/site-packages/joblib/parallel.py\", line 859, in dispatch_one_batch\n",
      "    self._dispatch(tasks)\n",
      "  File \"/opt/conda/lib/python3.7/site-packages/joblib/parallel.py\", line 777, in _dispatch\n",
      "    job = self._backend.apply_async(batch, callback=cb)\n",
      "  File \"/opt/conda/lib/python3.7/site-packages/joblib/_parallel_backends.py\", line 208, in apply_async\n",
      "    result = ImmediateResult(func)\n",
      "  File \"/opt/conda/lib/python3.7/site-packages/joblib/_parallel_backends.py\", line 572, in __init__\n",
      "    self.results = batch()\n",
      "  File \"/opt/conda/lib/python3.7/site-packages/joblib/parallel.py\", line 263, in __call__\n",
      "    for func, args, kwargs in self.items]\n",
      "  File \"/opt/conda/lib/python3.7/site-packages/joblib/parallel.py\", line 263, in <listcomp>\n",
      "    for func, args, kwargs in self.items]\n",
      "  File \"/opt/conda/lib/python3.7/site-packages/sklearn/linear_model/_logistic.py\", line 764, in _logistic_regression_path\n",
      "    extra_warning_msg=_LOGISTIC_SOLVER_CONVERGENCE_MSG)\n",
      "  File \"/opt/conda/lib/python3.7/site-packages/sklearn/utils/optimize.py\", line 243, in _check_optimize_result\n",
      "    ).format(solver, result.status, result.message.decode(\"latin1\"))\n",
      "AttributeError: 'str' object has no attribute 'decode'\n",
      "\n",
      "  FitFailedWarning)\n",
      "/opt/conda/lib/python3.7/site-packages/sklearn/model_selection/_validation.py:552: FitFailedWarning: Estimator fit failed. The score on this train-test partition for these parameters will be set to nan. Details: \n",
      "Traceback (most recent call last):\n",
      "  File \"/opt/conda/lib/python3.7/site-packages/sklearn/model_selection/_validation.py\", line 531, in _fit_and_score\n",
      "    estimator.fit(X_train, y_train, **fit_params)\n",
      "  File \"/opt/conda/lib/python3.7/site-packages/sklearn/linear_model/_logistic.py\", line 1417, in fit\n",
      "    for class_, warm_start_coef_ in zip(classes_, warm_start_coef))\n",
      "  File \"/opt/conda/lib/python3.7/site-packages/joblib/parallel.py\", line 1041, in __call__\n",
      "    if self.dispatch_one_batch(iterator):\n",
      "  File \"/opt/conda/lib/python3.7/site-packages/joblib/parallel.py\", line 859, in dispatch_one_batch\n",
      "    self._dispatch(tasks)\n",
      "  File \"/opt/conda/lib/python3.7/site-packages/joblib/parallel.py\", line 777, in _dispatch\n",
      "    job = self._backend.apply_async(batch, callback=cb)\n",
      "  File \"/opt/conda/lib/python3.7/site-packages/joblib/_parallel_backends.py\", line 208, in apply_async\n",
      "    result = ImmediateResult(func)\n",
      "  File \"/opt/conda/lib/python3.7/site-packages/joblib/_parallel_backends.py\", line 572, in __init__\n",
      "    self.results = batch()\n",
      "  File \"/opt/conda/lib/python3.7/site-packages/joblib/parallel.py\", line 263, in __call__\n",
      "    for func, args, kwargs in self.items]\n",
      "  File \"/opt/conda/lib/python3.7/site-packages/joblib/parallel.py\", line 263, in <listcomp>\n",
      "    for func, args, kwargs in self.items]\n",
      "  File \"/opt/conda/lib/python3.7/site-packages/sklearn/linear_model/_logistic.py\", line 764, in _logistic_regression_path\n",
      "    extra_warning_msg=_LOGISTIC_SOLVER_CONVERGENCE_MSG)\n",
      "  File \"/opt/conda/lib/python3.7/site-packages/sklearn/utils/optimize.py\", line 243, in _check_optimize_result\n",
      "    ).format(solver, result.status, result.message.decode(\"latin1\"))\n",
      "AttributeError: 'str' object has no attribute 'decode'\n",
      "\n",
      "  FitFailedWarning)\n",
      "/opt/conda/lib/python3.7/site-packages/sklearn/model_selection/_validation.py:552: FitFailedWarning: Estimator fit failed. The score on this train-test partition for these parameters will be set to nan. Details: \n",
      "Traceback (most recent call last):\n",
      "  File \"/opt/conda/lib/python3.7/site-packages/sklearn/model_selection/_validation.py\", line 531, in _fit_and_score\n",
      "    estimator.fit(X_train, y_train, **fit_params)\n",
      "  File \"/opt/conda/lib/python3.7/site-packages/sklearn/linear_model/_logistic.py\", line 1417, in fit\n",
      "    for class_, warm_start_coef_ in zip(classes_, warm_start_coef))\n",
      "  File \"/opt/conda/lib/python3.7/site-packages/joblib/parallel.py\", line 1041, in __call__\n",
      "    if self.dispatch_one_batch(iterator):\n",
      "  File \"/opt/conda/lib/python3.7/site-packages/joblib/parallel.py\", line 859, in dispatch_one_batch\n",
      "    self._dispatch(tasks)\n",
      "  File \"/opt/conda/lib/python3.7/site-packages/joblib/parallel.py\", line 777, in _dispatch\n",
      "    job = self._backend.apply_async(batch, callback=cb)\n",
      "  File \"/opt/conda/lib/python3.7/site-packages/joblib/_parallel_backends.py\", line 208, in apply_async\n",
      "    result = ImmediateResult(func)\n",
      "  File \"/opt/conda/lib/python3.7/site-packages/joblib/_parallel_backends.py\", line 572, in __init__\n",
      "    self.results = batch()\n",
      "  File \"/opt/conda/lib/python3.7/site-packages/joblib/parallel.py\", line 263, in __call__\n",
      "    for func, args, kwargs in self.items]\n",
      "  File \"/opt/conda/lib/python3.7/site-packages/joblib/parallel.py\", line 263, in <listcomp>\n",
      "    for func, args, kwargs in self.items]\n",
      "  File \"/opt/conda/lib/python3.7/site-packages/sklearn/linear_model/_logistic.py\", line 764, in _logistic_regression_path\n",
      "    extra_warning_msg=_LOGISTIC_SOLVER_CONVERGENCE_MSG)\n",
      "  File \"/opt/conda/lib/python3.7/site-packages/sklearn/utils/optimize.py\", line 243, in _check_optimize_result\n",
      "    ).format(solver, result.status, result.message.decode(\"latin1\"))\n",
      "AttributeError: 'str' object has no attribute 'decode'\n",
      "\n",
      "  FitFailedWarning)\n",
      "/opt/conda/lib/python3.7/site-packages/sklearn/model_selection/_validation.py:552: FitFailedWarning: Estimator fit failed. The score on this train-test partition for these parameters will be set to nan. Details: \n",
      "Traceback (most recent call last):\n",
      "  File \"/opt/conda/lib/python3.7/site-packages/sklearn/model_selection/_validation.py\", line 531, in _fit_and_score\n",
      "    estimator.fit(X_train, y_train, **fit_params)\n",
      "  File \"/opt/conda/lib/python3.7/site-packages/sklearn/linear_model/_logistic.py\", line 1417, in fit\n",
      "    for class_, warm_start_coef_ in zip(classes_, warm_start_coef))\n",
      "  File \"/opt/conda/lib/python3.7/site-packages/joblib/parallel.py\", line 1041, in __call__\n",
      "    if self.dispatch_one_batch(iterator):\n",
      "  File \"/opt/conda/lib/python3.7/site-packages/joblib/parallel.py\", line 859, in dispatch_one_batch\n",
      "    self._dispatch(tasks)\n",
      "  File \"/opt/conda/lib/python3.7/site-packages/joblib/parallel.py\", line 777, in _dispatch\n",
      "    job = self._backend.apply_async(batch, callback=cb)\n",
      "  File \"/opt/conda/lib/python3.7/site-packages/joblib/_parallel_backends.py\", line 208, in apply_async\n",
      "    result = ImmediateResult(func)\n",
      "  File \"/opt/conda/lib/python3.7/site-packages/joblib/_parallel_backends.py\", line 572, in __init__\n",
      "    self.results = batch()\n",
      "  File \"/opt/conda/lib/python3.7/site-packages/joblib/parallel.py\", line 263, in __call__\n",
      "    for func, args, kwargs in self.items]\n",
      "  File \"/opt/conda/lib/python3.7/site-packages/joblib/parallel.py\", line 263, in <listcomp>\n",
      "    for func, args, kwargs in self.items]\n",
      "  File \"/opt/conda/lib/python3.7/site-packages/sklearn/linear_model/_logistic.py\", line 764, in _logistic_regression_path\n",
      "    extra_warning_msg=_LOGISTIC_SOLVER_CONVERGENCE_MSG)\n",
      "  File \"/opt/conda/lib/python3.7/site-packages/sklearn/utils/optimize.py\", line 243, in _check_optimize_result\n",
      "    ).format(solver, result.status, result.message.decode(\"latin1\"))\n",
      "AttributeError: 'str' object has no attribute 'decode'\n",
      "\n",
      "  FitFailedWarning)\n",
      "/opt/conda/lib/python3.7/site-packages/sklearn/model_selection/_validation.py:552: FitFailedWarning: Estimator fit failed. The score on this train-test partition for these parameters will be set to nan. Details: \n",
      "Traceback (most recent call last):\n",
      "  File \"/opt/conda/lib/python3.7/site-packages/sklearn/model_selection/_validation.py\", line 531, in _fit_and_score\n",
      "    estimator.fit(X_train, y_train, **fit_params)\n",
      "  File \"/opt/conda/lib/python3.7/site-packages/sklearn/linear_model/_logistic.py\", line 1417, in fit\n",
      "    for class_, warm_start_coef_ in zip(classes_, warm_start_coef))\n",
      "  File \"/opt/conda/lib/python3.7/site-packages/joblib/parallel.py\", line 1041, in __call__\n",
      "    if self.dispatch_one_batch(iterator):\n",
      "  File \"/opt/conda/lib/python3.7/site-packages/joblib/parallel.py\", line 859, in dispatch_one_batch\n",
      "    self._dispatch(tasks)\n",
      "  File \"/opt/conda/lib/python3.7/site-packages/joblib/parallel.py\", line 777, in _dispatch\n",
      "    job = self._backend.apply_async(batch, callback=cb)\n",
      "  File \"/opt/conda/lib/python3.7/site-packages/joblib/_parallel_backends.py\", line 208, in apply_async\n",
      "    result = ImmediateResult(func)\n",
      "  File \"/opt/conda/lib/python3.7/site-packages/joblib/_parallel_backends.py\", line 572, in __init__\n",
      "    self.results = batch()\n",
      "  File \"/opt/conda/lib/python3.7/site-packages/joblib/parallel.py\", line 263, in __call__\n",
      "    for func, args, kwargs in self.items]\n",
      "  File \"/opt/conda/lib/python3.7/site-packages/joblib/parallel.py\", line 263, in <listcomp>\n",
      "    for func, args, kwargs in self.items]\n",
      "  File \"/opt/conda/lib/python3.7/site-packages/sklearn/linear_model/_logistic.py\", line 764, in _logistic_regression_path\n",
      "    extra_warning_msg=_LOGISTIC_SOLVER_CONVERGENCE_MSG)\n",
      "  File \"/opt/conda/lib/python3.7/site-packages/sklearn/utils/optimize.py\", line 243, in _check_optimize_result\n",
      "    ).format(solver, result.status, result.message.decode(\"latin1\"))\n",
      "AttributeError: 'str' object has no attribute 'decode'\n",
      "\n",
      "  FitFailedWarning)\n",
      "/opt/conda/lib/python3.7/site-packages/sklearn/linear_model/_sag.py:330: ConvergenceWarning: The max_iter was reached which means the coef_ did not converge\n",
      "  \"the coef_ did not converge\", ConvergenceWarning)\n",
      "/opt/conda/lib/python3.7/site-packages/sklearn/model_selection/_validation.py:552: FitFailedWarning: Estimator fit failed. The score on this train-test partition for these parameters will be set to nan. Details: \n",
      "Traceback (most recent call last):\n",
      "  File \"/opt/conda/lib/python3.7/site-packages/sklearn/model_selection/_validation.py\", line 531, in _fit_and_score\n",
      "    estimator.fit(X_train, y_train, **fit_params)\n",
      "  File \"/opt/conda/lib/python3.7/site-packages/sklearn/linear_model/_logistic.py\", line 1417, in fit\n",
      "    for class_, warm_start_coef_ in zip(classes_, warm_start_coef))\n",
      "  File \"/opt/conda/lib/python3.7/site-packages/joblib/parallel.py\", line 1041, in __call__\n",
      "    if self.dispatch_one_batch(iterator):\n",
      "  File \"/opt/conda/lib/python3.7/site-packages/joblib/parallel.py\", line 859, in dispatch_one_batch\n",
      "    self._dispatch(tasks)\n",
      "  File \"/opt/conda/lib/python3.7/site-packages/joblib/parallel.py\", line 777, in _dispatch\n",
      "    job = self._backend.apply_async(batch, callback=cb)\n",
      "  File \"/opt/conda/lib/python3.7/site-packages/joblib/_parallel_backends.py\", line 208, in apply_async\n",
      "    result = ImmediateResult(func)\n",
      "  File \"/opt/conda/lib/python3.7/site-packages/joblib/_parallel_backends.py\", line 572, in __init__\n",
      "    self.results = batch()\n",
      "  File \"/opt/conda/lib/python3.7/site-packages/joblib/parallel.py\", line 263, in __call__\n",
      "    for func, args, kwargs in self.items]\n",
      "  File \"/opt/conda/lib/python3.7/site-packages/joblib/parallel.py\", line 263, in <listcomp>\n",
      "    for func, args, kwargs in self.items]\n",
      "  File \"/opt/conda/lib/python3.7/site-packages/sklearn/linear_model/_logistic.py\", line 764, in _logistic_regression_path\n",
      "    extra_warning_msg=_LOGISTIC_SOLVER_CONVERGENCE_MSG)\n",
      "  File \"/opt/conda/lib/python3.7/site-packages/sklearn/utils/optimize.py\", line 243, in _check_optimize_result\n",
      "    ).format(solver, result.status, result.message.decode(\"latin1\"))\n",
      "AttributeError: 'str' object has no attribute 'decode'\n",
      "\n",
      "  FitFailedWarning)\n",
      "/opt/conda/lib/python3.7/site-packages/sklearn/model_selection/_validation.py:552: FitFailedWarning: Estimator fit failed. The score on this train-test partition for these parameters will be set to nan. Details: \n",
      "Traceback (most recent call last):\n",
      "  File \"/opt/conda/lib/python3.7/site-packages/sklearn/model_selection/_validation.py\", line 531, in _fit_and_score\n",
      "    estimator.fit(X_train, y_train, **fit_params)\n",
      "  File \"/opt/conda/lib/python3.7/site-packages/sklearn/linear_model/_logistic.py\", line 1417, in fit\n",
      "    for class_, warm_start_coef_ in zip(classes_, warm_start_coef))\n",
      "  File \"/opt/conda/lib/python3.7/site-packages/joblib/parallel.py\", line 1041, in __call__\n",
      "    if self.dispatch_one_batch(iterator):\n",
      "  File \"/opt/conda/lib/python3.7/site-packages/joblib/parallel.py\", line 859, in dispatch_one_batch\n",
      "    self._dispatch(tasks)\n",
      "  File \"/opt/conda/lib/python3.7/site-packages/joblib/parallel.py\", line 777, in _dispatch\n",
      "    job = self._backend.apply_async(batch, callback=cb)\n",
      "  File \"/opt/conda/lib/python3.7/site-packages/joblib/_parallel_backends.py\", line 208, in apply_async\n",
      "    result = ImmediateResult(func)\n",
      "  File \"/opt/conda/lib/python3.7/site-packages/joblib/_parallel_backends.py\", line 572, in __init__\n",
      "    self.results = batch()\n",
      "  File \"/opt/conda/lib/python3.7/site-packages/joblib/parallel.py\", line 263, in __call__\n",
      "    for func, args, kwargs in self.items]\n",
      "  File \"/opt/conda/lib/python3.7/site-packages/joblib/parallel.py\", line 263, in <listcomp>\n",
      "    for func, args, kwargs in self.items]\n",
      "  File \"/opt/conda/lib/python3.7/site-packages/sklearn/linear_model/_logistic.py\", line 764, in _logistic_regression_path\n",
      "    extra_warning_msg=_LOGISTIC_SOLVER_CONVERGENCE_MSG)\n",
      "  File \"/opt/conda/lib/python3.7/site-packages/sklearn/utils/optimize.py\", line 243, in _check_optimize_result\n",
      "    ).format(solver, result.status, result.message.decode(\"latin1\"))\n",
      "AttributeError: 'str' object has no attribute 'decode'\n",
      "\n",
      "  FitFailedWarning)\n",
      "/opt/conda/lib/python3.7/site-packages/sklearn/model_selection/_validation.py:552: FitFailedWarning: Estimator fit failed. The score on this train-test partition for these parameters will be set to nan. Details: \n",
      "Traceback (most recent call last):\n",
      "  File \"/opt/conda/lib/python3.7/site-packages/sklearn/model_selection/_validation.py\", line 531, in _fit_and_score\n",
      "    estimator.fit(X_train, y_train, **fit_params)\n",
      "  File \"/opt/conda/lib/python3.7/site-packages/sklearn/linear_model/_logistic.py\", line 1417, in fit\n",
      "    for class_, warm_start_coef_ in zip(classes_, warm_start_coef))\n",
      "  File \"/opt/conda/lib/python3.7/site-packages/joblib/parallel.py\", line 1041, in __call__\n",
      "    if self.dispatch_one_batch(iterator):\n",
      "  File \"/opt/conda/lib/python3.7/site-packages/joblib/parallel.py\", line 859, in dispatch_one_batch\n",
      "    self._dispatch(tasks)\n",
      "  File \"/opt/conda/lib/python3.7/site-packages/joblib/parallel.py\", line 777, in _dispatch\n",
      "    job = self._backend.apply_async(batch, callback=cb)\n",
      "  File \"/opt/conda/lib/python3.7/site-packages/joblib/_parallel_backends.py\", line 208, in apply_async\n",
      "    result = ImmediateResult(func)\n",
      "  File \"/opt/conda/lib/python3.7/site-packages/joblib/_parallel_backends.py\", line 572, in __init__\n",
      "    self.results = batch()\n",
      "  File \"/opt/conda/lib/python3.7/site-packages/joblib/parallel.py\", line 263, in __call__\n",
      "    for func, args, kwargs in self.items]\n",
      "  File \"/opt/conda/lib/python3.7/site-packages/joblib/parallel.py\", line 263, in <listcomp>\n",
      "    for func, args, kwargs in self.items]\n",
      "  File \"/opt/conda/lib/python3.7/site-packages/sklearn/linear_model/_logistic.py\", line 764, in _logistic_regression_path\n",
      "    extra_warning_msg=_LOGISTIC_SOLVER_CONVERGENCE_MSG)\n",
      "  File \"/opt/conda/lib/python3.7/site-packages/sklearn/utils/optimize.py\", line 243, in _check_optimize_result\n",
      "    ).format(solver, result.status, result.message.decode(\"latin1\"))\n",
      "AttributeError: 'str' object has no attribute 'decode'\n",
      "\n",
      "  FitFailedWarning)\n",
      "/opt/conda/lib/python3.7/site-packages/sklearn/linear_model/_sag.py:330: ConvergenceWarning: The max_iter was reached which means the coef_ did not converge\n",
      "  \"the coef_ did not converge\", ConvergenceWarning)\n",
      "/opt/conda/lib/python3.7/site-packages/sklearn/linear_model/_sag.py:330: ConvergenceWarning: The max_iter was reached which means the coef_ did not converge\n",
      "  \"the coef_ did not converge\", ConvergenceWarning)\n",
      "/opt/conda/lib/python3.7/site-packages/sklearn/model_selection/_validation.py:552: FitFailedWarning: Estimator fit failed. The score on this train-test partition for these parameters will be set to nan. Details: \n",
      "Traceback (most recent call last):\n",
      "  File \"/opt/conda/lib/python3.7/site-packages/sklearn/model_selection/_validation.py\", line 531, in _fit_and_score\n",
      "    estimator.fit(X_train, y_train, **fit_params)\n",
      "  File \"/opt/conda/lib/python3.7/site-packages/sklearn/linear_model/_logistic.py\", line 1417, in fit\n",
      "    for class_, warm_start_coef_ in zip(classes_, warm_start_coef))\n",
      "  File \"/opt/conda/lib/python3.7/site-packages/joblib/parallel.py\", line 1041, in __call__\n",
      "    if self.dispatch_one_batch(iterator):\n",
      "  File \"/opt/conda/lib/python3.7/site-packages/joblib/parallel.py\", line 859, in dispatch_one_batch\n",
      "    self._dispatch(tasks)\n",
      "  File \"/opt/conda/lib/python3.7/site-packages/joblib/parallel.py\", line 777, in _dispatch\n",
      "    job = self._backend.apply_async(batch, callback=cb)\n",
      "  File \"/opt/conda/lib/python3.7/site-packages/joblib/_parallel_backends.py\", line 208, in apply_async\n",
      "    result = ImmediateResult(func)\n",
      "  File \"/opt/conda/lib/python3.7/site-packages/joblib/_parallel_backends.py\", line 572, in __init__\n",
      "    self.results = batch()\n",
      "  File \"/opt/conda/lib/python3.7/site-packages/joblib/parallel.py\", line 263, in __call__\n",
      "    for func, args, kwargs in self.items]\n",
      "  File \"/opt/conda/lib/python3.7/site-packages/joblib/parallel.py\", line 263, in <listcomp>\n",
      "    for func, args, kwargs in self.items]\n",
      "  File \"/opt/conda/lib/python3.7/site-packages/sklearn/linear_model/_logistic.py\", line 764, in _logistic_regression_path\n",
      "    extra_warning_msg=_LOGISTIC_SOLVER_CONVERGENCE_MSG)\n",
      "  File \"/opt/conda/lib/python3.7/site-packages/sklearn/utils/optimize.py\", line 243, in _check_optimize_result\n",
      "    ).format(solver, result.status, result.message.decode(\"latin1\"))\n",
      "AttributeError: 'str' object has no attribute 'decode'\n",
      "\n",
      "  FitFailedWarning)\n",
      "/opt/conda/lib/python3.7/site-packages/sklearn/model_selection/_validation.py:552: FitFailedWarning: Estimator fit failed. The score on this train-test partition for these parameters will be set to nan. Details: \n",
      "Traceback (most recent call last):\n",
      "  File \"/opt/conda/lib/python3.7/site-packages/sklearn/model_selection/_validation.py\", line 531, in _fit_and_score\n",
      "    estimator.fit(X_train, y_train, **fit_params)\n",
      "  File \"/opt/conda/lib/python3.7/site-packages/sklearn/linear_model/_logistic.py\", line 1417, in fit\n",
      "    for class_, warm_start_coef_ in zip(classes_, warm_start_coef))\n",
      "  File \"/opt/conda/lib/python3.7/site-packages/joblib/parallel.py\", line 1041, in __call__\n",
      "    if self.dispatch_one_batch(iterator):\n",
      "  File \"/opt/conda/lib/python3.7/site-packages/joblib/parallel.py\", line 859, in dispatch_one_batch\n",
      "    self._dispatch(tasks)\n",
      "  File \"/opt/conda/lib/python3.7/site-packages/joblib/parallel.py\", line 777, in _dispatch\n",
      "    job = self._backend.apply_async(batch, callback=cb)\n",
      "  File \"/opt/conda/lib/python3.7/site-packages/joblib/_parallel_backends.py\", line 208, in apply_async\n",
      "    result = ImmediateResult(func)\n",
      "  File \"/opt/conda/lib/python3.7/site-packages/joblib/_parallel_backends.py\", line 572, in __init__\n",
      "    self.results = batch()\n",
      "  File \"/opt/conda/lib/python3.7/site-packages/joblib/parallel.py\", line 263, in __call__\n",
      "    for func, args, kwargs in self.items]\n",
      "  File \"/opt/conda/lib/python3.7/site-packages/joblib/parallel.py\", line 263, in <listcomp>\n",
      "    for func, args, kwargs in self.items]\n",
      "  File \"/opt/conda/lib/python3.7/site-packages/sklearn/linear_model/_logistic.py\", line 764, in _logistic_regression_path\n",
      "    extra_warning_msg=_LOGISTIC_SOLVER_CONVERGENCE_MSG)\n",
      "  File \"/opt/conda/lib/python3.7/site-packages/sklearn/utils/optimize.py\", line 243, in _check_optimize_result\n",
      "    ).format(solver, result.status, result.message.decode(\"latin1\"))\n",
      "AttributeError: 'str' object has no attribute 'decode'\n",
      "\n",
      "  FitFailedWarning)\n"
     ]
    },
    {
     "name": "stdout",
     "output_type": "stream",
     "text": [
      "\tC: 1.0\n",
      "\tclass_weight: 'balanced'\n",
      "\tdual: False\n",
      "\tfit_intercept: True\n",
      "\tintercept_scaling: 1\n",
      "\tl1_ratio: None\n",
      "\tmax_iter: 50\n",
      "\tmulti_class: 'ovr'\n",
      "\tn_jobs: None\n",
      "\tpenalty: 'l2'\n",
      "\trandom_state: None\n",
      "\tsolver: 'sag'\n",
      "\ttol: 0.001\n",
      "\tverbose: 0\n",
      "\twarm_start: False\n"
     ]
    }
   ],
   "source": [
    "# запускаем GridSearch на небольшом кол-ве итераций max_iter=50 и с достаточно большой дельтой останова tol1e-3\n",
    "# чтобы получить оптимальные параметры модели в первом приближении\n",
    "import warnings\n",
    "warnings.filterwarnings(\"ignore\")\n",
    "\n",
    "iter_ = 50\n",
    "epsilon_stop = 1e-3\n",
    "logreg = LogisticRegression()\n",
    "\n",
    "param_grid = [\n",
    "    {'penalty': ['l1'], \n",
    "     'solver': ['liblinear', 'lbfgs'], \n",
    "     'class_weight':['none', 'balanced'], \n",
    "     'multi_class': ['auto','ovr'], \n",
    "     'max_iter':[iter_],\n",
    "     'tol':[epsilon_stop]},\n",
    "    {'penalty': ['l2'], \n",
    "     'solver': ['newton-cg', 'lbfgs', 'liblinear', 'sag', 'saga'], \n",
    "     'class_weight':['none', 'balanced'], \n",
    "     'multi_class': ['auto','ovr'], \n",
    "     'max_iter':[iter_],\n",
    "     'tol':[epsilon_stop]},\n",
    "    {'penalty': ['none'], \n",
    "     'solver': ['newton-cg', 'lbfgs', 'sag', 'saga'], \n",
    "     'class_weight':['none', 'balanced'], \n",
    "     'multi_class': ['auto','ovr'], \n",
    "     'max_iter':[iter_],\n",
    "     'tol':[epsilon_stop]},\n",
    "]\n",
    "\n",
    "gridsearch = GridSearchCV(logreg, param_grid, scoring='f1', n_jobs=-1, cv=5)\n",
    "gridsearch.fit(X_train, y_train)\n",
    "logreg = gridsearch.best_estimator_\n",
    "\n",
    "#печатаем параметры\n",
    "best_parameters = logreg.get_params()\n",
    "for param_name in sorted(best_parameters.keys()):\n",
    "    print('\\t%s: %r' % (param_name, best_parameters[param_name]))"
   ]
  },
  {
   "cell_type": "code",
   "execution_count": 39,
   "metadata": {
    "execution": {
     "iopub.execute_input": "2022-03-09T20:07:59.510715Z",
     "iopub.status.busy": "2022-03-09T20:07:59.509738Z",
     "iopub.status.idle": "2022-03-09T20:08:01.357841Z",
     "shell.execute_reply": "2022-03-09T20:08:01.358956Z",
     "shell.execute_reply.started": "2022-03-09T20:04:41.329992Z"
    },
    "papermill": {
     "duration": 1.913794,
     "end_time": "2022-03-09T20:08:01.359234",
     "exception": false,
     "start_time": "2022-03-09T20:07:59.445440",
     "status": "completed"
    },
    "tags": []
   },
   "outputs": [],
   "source": [
    "logreg = LogisticRegression(solver='sag', penalty='l2', class_weight='balanced', C = 1.0, max_iter=50,\n",
    "                            multi_class='auto', tol=0.001)\n",
    "logreg.fit(X_train, y_train)\n",
    "y_pred = logreg.predict(X_test)"
   ]
  },
  {
   "cell_type": "code",
   "execution_count": 40,
   "metadata": {
    "execution": {
     "iopub.execute_input": "2022-03-09T20:08:01.546563Z",
     "iopub.status.busy": "2022-03-09T20:08:01.545644Z",
     "iopub.status.idle": "2022-03-09T20:08:01.567222Z",
     "shell.execute_reply": "2022-03-09T20:08:01.567709Z",
     "shell.execute_reply.started": "2022-03-09T20:04:45.275139Z"
    },
    "papermill": {
     "duration": 0.087237,
     "end_time": "2022-03-09T20:08:01.567887",
     "exception": false,
     "start_time": "2022-03-09T20:08:01.480650",
     "status": "completed"
    },
    "tags": []
   },
   "outputs": [
    {
     "name": "stdout",
     "output_type": "stream",
     "text": [
      "acc = 0.673 F1-score = 0.340298 prec = 0.23 rec = 0.68\n"
     ]
    }
   ],
   "source": [
    "# метрики качества\n",
    "def print_logisitc_metrics(y_true, y_pred):\n",
    "    acc = accuracy_score(y_true, y_pred)\n",
    "    prec = precision_score(y_true, y_pred)\n",
    "    rec = recall_score(y_true, y_pred)\n",
    "    f1 = f1_score(y_true, y_pred)\n",
    "    print(f'acc = {acc:.3f} F1-score = {f1:.6f} prec = {prec:.2f} rec = {rec:.2f}')\n",
    "print_logisitc_metrics(y_test, y_pred)"
   ]
  },
  {
   "cell_type": "code",
   "execution_count": 41,
   "metadata": {
    "execution": {
     "iopub.execute_input": "2022-03-09T20:08:01.692831Z",
     "iopub.status.busy": "2022-03-09T20:08:01.692188Z",
     "iopub.status.idle": "2022-03-09T20:08:01.720423Z",
     "shell.execute_reply": "2022-03-09T20:08:01.721064Z",
     "shell.execute_reply.started": "2022-03-09T20:04:49.745415Z"
    },
    "papermill": {
     "duration": 0.092858,
     "end_time": "2022-03-09T20:08:01.721291",
     "exception": false,
     "start_time": "2022-03-09T20:08:01.628433",
     "status": "completed"
    },
    "tags": []
   },
   "outputs": [
    {
     "name": "stdout",
     "output_type": "stream",
     "text": [
      "              precision    recall  f1-score   support\n",
      "\n",
      "           0       0.94      0.67      0.78     12933\n",
      "           1       0.23      0.68      0.34      1827\n",
      "\n",
      "    accuracy                           0.67     14760\n",
      "   macro avg       0.58      0.68      0.56     14760\n",
      "weighted avg       0.85      0.67      0.73     14760\n",
      "\n"
     ]
    }
   ],
   "source": [
    "from sklearn.metrics import classification_report\n",
    "classification_report = classification_report(y_test, y_pred)\n",
    "print(classification_report)"
   ]
  },
  {
   "cell_type": "code",
   "execution_count": 42,
   "metadata": {
    "execution": {
     "iopub.execute_input": "2022-03-09T20:08:01.848770Z",
     "iopub.status.busy": "2022-03-09T20:08:01.847802Z",
     "iopub.status.idle": "2022-03-09T20:08:01.866055Z",
     "shell.execute_reply": "2022-03-09T20:08:01.866565Z",
     "shell.execute_reply.started": "2022-03-09T20:04:52.532624Z"
    },
    "papermill": {
     "duration": 0.08369,
     "end_time": "2022-03-09T20:08:01.866746",
     "exception": false,
     "start_time": "2022-03-09T20:08:01.783056",
     "status": "completed"
    },
    "tags": []
   },
   "outputs": [
    {
     "data": {
      "text/plain": [
       "array([[8683, 4250],\n",
       "       [ 581, 1246]])"
      ]
     },
     "execution_count": 42,
     "metadata": {},
     "output_type": "execute_result"
    }
   ],
   "source": [
    "confusion_matrix(y_test, y_pred)"
   ]
  },
  {
   "cell_type": "code",
   "execution_count": 43,
   "metadata": {
    "execution": {
     "iopub.execute_input": "2022-03-09T20:08:01.995041Z",
     "iopub.status.busy": "2022-03-09T20:08:01.994103Z",
     "iopub.status.idle": "2022-03-09T20:08:02.281957Z",
     "shell.execute_reply": "2022-03-09T20:08:02.281325Z",
     "shell.execute_reply.started": "2022-03-09T20:05:03.351365Z"
    },
    "papermill": {
     "duration": 0.35239,
     "end_time": "2022-03-09T20:08:02.282096",
     "exception": false,
     "start_time": "2022-03-09T20:08:01.929706",
     "status": "completed"
    },
    "tags": []
   },
   "outputs": [
    {
     "data": {
      "image/png": "[encoded data removed]",
      "text/plain": [
       "<Figure size 432x288 with 1 Axes>"
      ]
     },
     "metadata": {},
     "output_type": "display_data"
    }
   ],
   "source": [
    "# Посмотрим ROC кривую\n",
    "y_pred_proba = logreg.predict_proba(X_test)[:, 1]\n",
    "\n",
    "roc_auc = roc_auc_score(y_test, y_pred_proba)\n",
    "fpr, tpr, thresholds = roc_curve(y_test, y_pred_proba)\n",
    "plt.figure()\n",
    "plt.plot([0, 1], label='Baseline', linestyle='--')\n",
    "plt.plot(fpr, tpr, label = 'Regression')\n",
    "plt.title('Logistic Regression ROC AUC = %0.3f' % roc_auc)\n",
    "plt.ylabel('True Positive Rate')\n",
    "plt.xlabel('False Positive Rate')\n",
    "plt.legend(loc = 'lower right')\n",
    "plt.show()"
   ]
  },
  {
   "cell_type": "code",
   "execution_count": 44,
   "metadata": {
    "execution": {
     "iopub.execute_input": "2022-03-09T20:08:02.411327Z",
     "iopub.status.busy": "2022-03-09T20:08:02.410330Z",
     "iopub.status.idle": "2022-03-09T20:08:02.755458Z",
     "shell.execute_reply": "2022-03-09T20:08:02.755927Z",
     "shell.execute_reply.started": "2022-03-09T20:05:13.464717Z"
    },
    "papermill": {
     "duration": 0.411602,
     "end_time": "2022-03-09T20:08:02.756110",
     "exception": false,
     "start_time": "2022-03-09T20:08:02.344508",
     "status": "completed"
    },
    "tags": []
   },
   "outputs": [],
   "source": [
    "# Делаем те же манипуляции с тестовыми данными\n",
    "num_cols = ['age', 'score_bki', 'decline_app_cnt', 'bki_request_cnt', 'income']\n",
    "for column in num_cols:\n",
    "    test_data[column]=(test_data[column]-test_data[column].min())/(test_data[column].max()-\n",
    "                                                                      test_data[column].min())\n",
    "    \n",
    "columns = ['age', 'decline_app_cnt', 'bki_request_cnt', 'income']\n",
    "for column in columns:\n",
    "    test_data[column] = test_data[column].apply(lambda w: np.log(w+1))\n",
    "    \n",
    "test_data['decline_app_cnt'] = test_data['decline_app_cnt'].apply(lambda x: 0.0 if x == 0.0 \n",
    "                                                                    else 1.0 if x <= 0.087011 \n",
    "                                                                    else 2.0 if x > 0.087011 else x)\n",
    "\n",
    "test_data['bki_request_cnt_outl'] = outliers(test_data['bki_request_cnt'])\n",
    "test_data['income_outl'] = outliers(test_data['income'])\n",
    "test_data['score_bki_outl'] = outliers(test_data['score_bki'])\n",
    "\n",
    "cols = ['income', 'bki_request_cnt', 'score_bki']\n",
    "for i in cols:\n",
    "    test_data[i] = rep_outliers(test_data[i])\n",
    "\n",
    "test_data.drop(['age', 'car', 'work_address', 'education_UGR', 'education_ACD', 'education_Unknown', \n",
    "                'income_outl', 'weekday'], axis = 1, inplace=True)\n",
    "\n",
    "cat_cols = ['first_time', 'sna', 'home_address', 'region_rating', 'decline_app_cnt', 'app_month']\n",
    "for column in cat_cols:\n",
    "    test_data = pd.get_dummies(test_data, columns=[column])\n",
    "\n",
    "# Стандартизация числовых переменных\n",
    "num_cols = ['score_bki', 'bki_request_cnt', 'income']\n",
    "test_data[num_cols] = scaler.transform(test_data[num_cols])"
   ]
  },
  {
   "cell_type": "code",
   "execution_count": 45,
   "metadata": {
    "execution": {
     "iopub.execute_input": "2022-03-09T20:08:02.884674Z",
     "iopub.status.busy": "2022-03-09T20:08:02.883674Z",
     "iopub.status.idle": "2022-03-09T20:08:04.674650Z",
     "shell.execute_reply": "2022-03-09T20:08:04.673928Z",
     "shell.execute_reply.started": "2022-03-09T20:05:34.121745Z"
    },
    "papermill": {
     "duration": 1.856404,
     "end_time": "2022-03-09T20:08:04.674791",
     "exception": false,
     "start_time": "2022-03-09T20:08:02.818387",
     "status": "completed"
    },
    "tags": []
   },
   "outputs": [
    {
     "data": {
      "text/plain": [
       "LogisticRegression(class_weight='balanced', max_iter=50, solver='sag',\n",
       "                   tol=0.001)"
      ]
     },
     "execution_count": 45,
     "metadata": {},
     "output_type": "execute_result"
    }
   ],
   "source": [
    "# если качество нас устраивает, обучаем финальную модель на всех обучающи данных\n",
    "logreg_final = LogisticRegression(solver='sag', penalty='l2', class_weight='balanced', C = 1.0, max_iter=50,\n",
    "                                  multi_class='auto', tol=0.001)\n",
    "logreg_final.fit(X, y)"
   ]
  },
  {
   "cell_type": "code",
   "execution_count": 46,
   "metadata": {
    "execution": {
     "iopub.execute_input": "2022-03-09T20:08:04.808414Z",
     "iopub.status.busy": "2022-03-09T20:08:04.807161Z",
     "iopub.status.idle": "2022-03-09T20:08:04.816147Z",
     "shell.execute_reply": "2022-03-09T20:08:04.816982Z",
     "shell.execute_reply.started": "2022-03-09T20:05:40.021733Z"
    },
    "papermill": {
     "duration": 0.079427,
     "end_time": "2022-03-09T20:08:04.817276",
     "exception": false,
     "start_time": "2022-03-09T20:08:04.737849",
     "status": "completed"
    },
    "tags": []
   },
   "outputs": [],
   "source": [
    "predict_submission = logreg_final.predict(test_data)"
   ]
  },
  {
   "cell_type": "code",
   "execution_count": 47,
   "metadata": {
    "execution": {
     "iopub.execute_input": "2022-03-09T20:08:05.006730Z",
     "iopub.status.busy": "2022-03-09T20:08:05.006098Z",
     "iopub.status.idle": "2022-03-09T20:08:05.059154Z",
     "shell.execute_reply": "2022-03-09T20:08:05.058630Z",
     "shell.execute_reply.started": "2022-03-09T20:05:42.523956Z"
    },
    "papermill": {
     "duration": 0.120665,
     "end_time": "2022-03-09T20:08:05.059299",
     "exception": false,
     "start_time": "2022-03-09T20:08:04.938634",
     "status": "completed"
    },
    "tags": []
   },
   "outputs": [
    {
     "data": {
      "text/html": [
       "<div>\n",
       "<style scoped>\n",
       "    .dataframe tbody tr th:only-of-type {\n",
       "        vertical-align: middle;\n",
       "    }\n",
       "\n",
       "    .dataframe tbody tr th {\n",
       "        vertical-align: top;\n",
       "    }\n",
       "\n",
       "    .dataframe thead th {\n",
       "        text-align: right;\n",
       "    }\n",
       "</style>\n",
       "<table border=\"1\" class=\"dataframe\">\n",
       "  <thead>\n",
       "    <tr style=\"text-align: right;\">\n",
       "      <th></th>\n",
       "      <th>client_id</th>\n",
       "      <th>default</th>\n",
       "    </tr>\n",
       "  </thead>\n",
       "  <tbody>\n",
       "    <tr>\n",
       "      <th>0</th>\n",
       "      <td>74835</td>\n",
       "      <td>0</td>\n",
       "    </tr>\n",
       "    <tr>\n",
       "      <th>1</th>\n",
       "      <td>17527</td>\n",
       "      <td>1</td>\n",
       "    </tr>\n",
       "    <tr>\n",
       "      <th>2</th>\n",
       "      <td>75683</td>\n",
       "      <td>0</td>\n",
       "    </tr>\n",
       "    <tr>\n",
       "      <th>3</th>\n",
       "      <td>26883</td>\n",
       "      <td>0</td>\n",
       "    </tr>\n",
       "    <tr>\n",
       "      <th>4</th>\n",
       "      <td>28862</td>\n",
       "      <td>0</td>\n",
       "    </tr>\n",
       "    <tr>\n",
       "      <th>5</th>\n",
       "      <td>99881</td>\n",
       "      <td>1</td>\n",
       "    </tr>\n",
       "    <tr>\n",
       "      <th>6</th>\n",
       "      <td>26630</td>\n",
       "      <td>1</td>\n",
       "    </tr>\n",
       "    <tr>\n",
       "      <th>7</th>\n",
       "      <td>79934</td>\n",
       "      <td>0</td>\n",
       "    </tr>\n",
       "    <tr>\n",
       "      <th>8</th>\n",
       "      <td>16605</td>\n",
       "      <td>0</td>\n",
       "    </tr>\n",
       "    <tr>\n",
       "      <th>9</th>\n",
       "      <td>105449</td>\n",
       "      <td>0</td>\n",
       "    </tr>\n",
       "  </tbody>\n",
       "</table>\n",
       "</div>"
      ],
      "text/plain": [
       "   client_id  default\n",
       "0      74835        0\n",
       "1      17527        1\n",
       "2      75683        0\n",
       "3      26883        0\n",
       "4      28862        0\n",
       "5      99881        1\n",
       "6      26630        1\n",
       "7      79934        0\n",
       "8      16605        0\n",
       "9     105449        0"
      ]
     },
     "execution_count": 47,
     "metadata": {},
     "output_type": "execute_result"
    }
   ],
   "source": [
    "sample_submission['default'] = predict_submission\n",
    "sample_submission.to_csv('submission.csv', index=False)\n",
    "sample_submission.head(10)"
   ]
  },
  {
   "cell_type": "code",
   "execution_count": 48,
   "metadata": {
    "execution": {
     "iopub.execute_input": "2022-03-09T20:08:05.193086Z",
     "iopub.status.busy": "2022-03-09T20:08:05.189774Z",
     "iopub.status.idle": "2022-03-09T20:08:05.208945Z",
     "shell.execute_reply": "2022-03-09T20:08:05.209377Z",
     "shell.execute_reply.started": "2022-03-09T20:05:52.737633Z"
    },
    "papermill": {
     "duration": 0.086859,
     "end_time": "2022-03-09T20:08:05.209554",
     "exception": false,
     "start_time": "2022-03-09T20:08:05.122695",
     "status": "completed"
    },
    "tags": []
   },
   "outputs": [
    {
     "data": {
      "text/html": [
       "<div>\n",
       "<style scoped>\n",
       "    .dataframe tbody tr th:only-of-type {\n",
       "        vertical-align: middle;\n",
       "    }\n",
       "\n",
       "    .dataframe tbody tr th {\n",
       "        vertical-align: top;\n",
       "    }\n",
       "\n",
       "    .dataframe thead th {\n",
       "        text-align: right;\n",
       "    }\n",
       "</style>\n",
       "<table border=\"1\" class=\"dataframe\">\n",
       "  <thead>\n",
       "    <tr style=\"text-align: right;\">\n",
       "      <th></th>\n",
       "      <th>client_id</th>\n",
       "      <th>default</th>\n",
       "    </tr>\n",
       "  </thead>\n",
       "  <tbody>\n",
       "    <tr>\n",
       "      <th>count</th>\n",
       "      <td>36349.000000</td>\n",
       "      <td>36349.000000</td>\n",
       "    </tr>\n",
       "    <tr>\n",
       "      <th>mean</th>\n",
       "      <td>54945.647473</td>\n",
       "      <td>0.376847</td>\n",
       "    </tr>\n",
       "    <tr>\n",
       "      <th>std</th>\n",
       "      <td>31706.052195</td>\n",
       "      <td>0.484603</td>\n",
       "    </tr>\n",
       "    <tr>\n",
       "      <th>min</th>\n",
       "      <td>4.000000</td>\n",
       "      <td>0.000000</td>\n",
       "    </tr>\n",
       "    <tr>\n",
       "      <th>25%</th>\n",
       "      <td>27744.000000</td>\n",
       "      <td>0.000000</td>\n",
       "    </tr>\n",
       "    <tr>\n",
       "      <th>50%</th>\n",
       "      <td>54657.000000</td>\n",
       "      <td>0.000000</td>\n",
       "    </tr>\n",
       "    <tr>\n",
       "      <th>75%</th>\n",
       "      <td>82322.000000</td>\n",
       "      <td>1.000000</td>\n",
       "    </tr>\n",
       "    <tr>\n",
       "      <th>max</th>\n",
       "      <td>110148.000000</td>\n",
       "      <td>1.000000</td>\n",
       "    </tr>\n",
       "  </tbody>\n",
       "</table>\n",
       "</div>"
      ],
      "text/plain": [
       "           client_id       default\n",
       "count   36349.000000  36349.000000\n",
       "mean    54945.647473      0.376847\n",
       "std     31706.052195      0.484603\n",
       "min         4.000000      0.000000\n",
       "25%     27744.000000      0.000000\n",
       "50%     54657.000000      0.000000\n",
       "75%     82322.000000      1.000000\n",
       "max    110148.000000      1.000000"
      ]
     },
     "execution_count": 48,
     "metadata": {},
     "output_type": "execute_result"
    }
   ],
   "source": [
    "sample_submission.describe()"
   ]
  },
  {
   "cell_type": "code",
   "execution_count": 49,
   "metadata": {
    "execution": {
     "iopub.execute_input": "2022-03-09T20:08:05.341129Z",
     "iopub.status.busy": "2022-03-09T20:08:05.340466Z",
     "iopub.status.idle": "2022-03-09T20:08:06.537759Z",
     "shell.execute_reply": "2022-03-09T20:08:06.537216Z",
     "shell.execute_reply.started": "2022-03-09T20:05:55.227025Z"
    },
    "papermill": {
     "duration": 1.263969,
     "end_time": "2022-03-09T20:08:06.537907",
     "exception": false,
     "start_time": "2022-03-09T20:08:05.273938",
     "status": "completed"
    },
    "tags": []
   },
   "outputs": [
    {
     "name": "stdout",
     "output_type": "stream",
     "text": [
      "Traceback (most recent call last):\r\n",
      "  File \"/opt/conda/bin/kaggle\", line 5, in <module>\r\n",
      "    from kaggle.cli import main\r\n",
      "  File \"/opt/conda/lib/python3.7/site-packages/kaggle/__init__.py\", line 23, in <module>\r\n",
      "    api.authenticate()\r\n",
      "  File \"/opt/conda/lib/python3.7/site-packages/kaggle/api/kaggle_api_extended.py\", line 166, in authenticate\r\n",
      "    self.config_file, self.config_dir))\r\n",
      "OSError: Could not find kaggle.json. Make sure it's located in /root/.kaggle. Or use the environment method.\r\n"
     ]
    }
   ],
   "source": [
    "!kaggle competitions submit -c sf-scoring -f ssubmission.csv -m \"Message\"\n",
    "# !kaggle competitions submit your-competition-name -f submission.csv -m 'My submission message'"
   ]
  },
  {
   "cell_type": "markdown",
   "metadata": {},
   "source": [
    "# Вывод"
   ]
  },
  {
   "cell_type": "markdown",
   "metadata": {},
   "source": [
    "* Была проведена очистка данных от пропущенных значений и выбросов, на основе которых были созданы новые признаки. \n",
    "* С помощью LabelEncoder, mutual_info_classif и корреляционной матрицы были отобраны признаки, наиболее сильно влияющие на предсказательную способность модели.\n",
    "* С помощью GridSearchCV были подобраны оптимальные гиперпараметры модели и рассчитаны основые метрики.\n",
    "* Была проведена попытка улучшить модель с помощью SMOTE, но модель хуже справлялась с ошибкой второго рода.\n",
    "* Были получены оценки качества модели: F-МЕРА = 0.34357, ACCURACY =  0.673"
   ]
  }
 ],
 "metadata": {
  "kernelspec": {
   "display_name": "Python 3",
   "language": "python",
   "name": "python3"
  },
  "language_info": {
   "codemirror_mode": {
    "name": "ipython",
    "version": 3
   },
   "file_extension": ".py",
   "mimetype": "text/x-python",
   "name": "python",
   "nbconvert_exporter": "python",
   "pygments_lexer": "ipython3",
   "version": "3.8.3"
  },
  "papermill": {
   "default_parameters": {},
   "duration": 105.162679,
   "end_time": "2022-03-09T20:08:07.513040",
   "environment_variables": {},
   "exception": null,
   "input_path": "__notebook__.ipynb",
   "output_path": "__notebook__.ipynb",
   "parameters": {},
   "start_time": "2022-03-09T20:06:22.350361",
   "version": "2.3.3"
  }
 },
 "nbformat": 4,
 "nbformat_minor": 5
}
